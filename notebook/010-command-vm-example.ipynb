{
 "metadata": {
  "name": "",
  "signature": "sha256:5cda8b78f790971841edafe6c594c60c39414bced0b65edb32eed24f663c618a"
 },
 "nbformat": 3,
 "nbformat_minor": 0,
 "worksheets": [
  {
   "cells": [
    {
     "cell_type": "heading",
     "level": 1,
     "metadata": {},
     "source": [
      "Shell command vm startup and deletion examples"
     ]
    },
    {
     "cell_type": "heading",
     "level": 2,
     "metadata": {},
     "source": [
      "Part1: Preparation"
     ]
    },
    {
     "cell_type": "code",
     "collapsed": false,
     "input": [
      "import cloudmesh"
     ],
     "language": "python",
     "metadata": {},
     "outputs": [],
     "prompt_number": 46
    },
    {
     "cell_type": "heading",
     "level": 3,
     "metadata": {},
     "source": [
      "select a cloud to work with"
     ]
    },
    {
     "cell_type": "code",
     "collapsed": false,
     "input": [
      "print cloudmesh.shell(\"cloud list\")"
     ],
     "language": "python",
     "metadata": {},
     "outputs": [
      {
       "output_type": "stream",
       "stream": "stdout",
       "text": [
        "+---------+----------+\n",
        "| cloud   | active   |\n",
        "+=========+==========+\n",
        "| alamo   |          |\n",
        "+---------+----------+\n",
        "| aws     |          |\n",
        "+---------+----------+\n",
        "| azure   |          |\n",
        "+---------+----------+\n",
        "| hp      |          |\n",
        "+---------+----------+\n",
        "| hp_east |          |\n",
        "+---------+----------+\n",
        "| india   |          |\n",
        "+---------+----------+\n",
        "| sierra  |          |\n",
        "+---------+----------+\n",
        "\n"
       ]
      }
     ],
     "prompt_number": 47
    },
    {
     "cell_type": "code",
     "collapsed": false,
     "input": [
      "print cloudmesh.shell(\"cloud select india\")"
     ],
     "language": "python",
     "metadata": {},
     "outputs": [
      {
       "output_type": "stream",
       "stream": "stdout",
       "text": [
        "cloud 'india' is selected\n",
        "\n"
       ]
      }
     ],
     "prompt_number": 48
    },
    {
     "cell_type": "heading",
     "level": 3,
     "metadata": {},
     "source": [
      "activate the cloud"
     ]
    },
    {
     "cell_type": "code",
     "collapsed": false,
     "input": [
      "print cloudmesh.shell(\"cloud on\")"
     ],
     "language": "python",
     "metadata": {},
     "outputs": [
      {
       "output_type": "stream",
       "stream": "stdout",
       "text": [
        "* india\n",
        "Refreshing xiaoyuk servers india ->\n",
        "Refresh time: 0.203104019165\n",
        "Store time: 0.0012001991272\n",
        "\u001b[92mcloud 'india' activated.\u001b[0m\n",
        "\n"
       ]
      }
     ],
     "prompt_number": 49
    },
    {
     "cell_type": "heading",
     "level": 3,
     "metadata": {},
     "source": [
      "set default image"
     ]
    },
    {
     "cell_type": "code",
     "collapsed": false,
     "input": [
      "print cloudmesh.shell(\"list image --refresh\")"
     ],
     "language": "python",
     "metadata": {},
     "outputs": [
      {
       "output_type": "stream",
       "stream": "stdout",
       "text": [
        "* india\n",
        "Refreshing xiaoyuk servers india ->\n",
        "Refresh time: 0.119687080383\n",
        "Store time: 0.00172209739685\n",
        "* india\n",
        "Refreshing xiaoyuk images india ->\n",
        "Refresh time: 0.262475013733\n",
        "Store time: 0.0224051475525\n",
        "+---------------------+\n",
        "images of cloud 'india'\n",
        "+----------------------------------------------------+----------+--------------------------------------+-----------+----------+------------+-----------+----------------------+-------------+-------+---------+\n",
        "| name                                               | status   | id                                   |   type_id | iname    | location   | state     | updated              |   memory_mb |   fid |   vcpus |\n",
        "+====================================================+==========+======================================+===========+==========+============+===========+======================+=============+=======+=========+\n",
        "| futuregrid/fedora-19                               | ACTIVE   | 5bf9905b-3314-4b83-8609-d94a3b4c89a8 |           |          |            |           | 2014-08-21T18:47:00Z |             |       |         |\n",
        "+----------------------------------------------------+----------+--------------------------------------+-----------+----------+------------+-----------+----------------------+-------------+-------+---------+\n",
        "| salsahpc/cloud-mooc-m1-large-4GB                   | ACTIVE   | 384ca88c-f674-4d3d-999f-353fc6915608 |         3 | m1.large | snapshot   | available | 2013-12-27T01:09:19Z |        8192 |     4 |       4 |\n",
        "+----------------------------------------------------+----------+--------------------------------------+-----------+----------+------------+-----------+----------------------+-------------+-------+---------+\n",
        "| CentOS6                                            | ACTIVE   | ad35042c-d242-4514-bde0-138718b5aa3e |           |          |            |           | 2014-04-29T05:06:40Z |             |       |         |\n",
        "+----------------------------------------------------+----------+--------------------------------------+-----------+----------+------------+-----------+----------------------+-------------+-------+---------+\n",
        "| SL64-blank-sparse10gb-C vmdk                       | ACTIVE   | f480f1e7-38af-4410-bc13-6a1e43bf58ba |           |          |            |           | 2014-02-05T16:57:37Z |             |       |         |\n",
        "+----------------------------------------------------+----------+--------------------------------------+-----------+----------+------------+-----------+----------------------+-------------+-------+---------+\n",
        "| fg7/rynge/centos6-v1                               | ACTIVE   | ac464f65-7175-44df-9e0e-34b1a32f8a2a |           |          |            |           | 2014-05-01T21:42:25Z |             |       |         |\n",
        "+----------------------------------------------------+----------+--------------------------------------+-----------+----------+------------+-----------+----------------------+-------------+-------+---------+\n",
        "| futuregrid/centos-6                                | ACTIVE   | 81b27cb5-4f8b-4583-afd4-1901053f6a28 |           |          |            |           | 2014-05-27T15:04:30Z |             |       |         |\n",
        "+----------------------------------------------------+----------+--------------------------------------+-----------+----------+------------+-----------+----------------------+-------------+-------+---------+\n",
        "| grp17Cent                                          | ACTIVE   | 650a3716-e4b9-4da7-a2f7-7e9a67a971b0 |           |          |            |           | 2014-04-17T05:54:35Z |             |       |         |\n",
        "+----------------------------------------------------+----------+--------------------------------------+-----------+----------+------------+-----------+----------------------+-------------+-------+---------+\n",
        "| DaLiAna-vm2014e-geant4.10.vmdk Jan best            | ACTIVE   | f4f9821f-881b-433a-97ab-1ad87273c5fc |           |          |            |           | 2014-03-05T04:22:40Z |             |       |         |\n",
        "+----------------------------------------------------+----------+--------------------------------------+-----------+----------+------------+-----------+----------------------+-------------+-------+---------+\n",
        "| ubuntu-13.10                                       | ACTIVE   | cd844b12-f138-414a-8cd5-2c977f0a2379 |           |          |            |           | 2014-01-29T17:24:08Z |             |       |         |\n",
        "+----------------------------------------------------+----------+--------------------------------------+-----------+----------+------------+-----------+----------------------+-------------+-------+---------+\n",
        "| fg101/richieriee/my-ubuntu-01                      | ACTIVE   | 7915f335-d1a9-4380-a9f3-159eb67d721e |         5 | m1.small | snapshot   | available | 2014-07-24T01:10:37Z |        2048 |     2 |       1 |\n",
        "+----------------------------------------------------+----------+--------------------------------------+-----------+----------+------------+-----------+----------------------+-------------+-------+---------+\n",
        "| fg419/hsiychen/ubuntu-master                       | ACTIVE   | 0f6aa6b4-0594-4d79-855e-94f748add164 |         3 | m1.large | snapshot   | available | 2014-04-03T22:10:20Z |        8192 |     4 |       4 |\n",
        "+----------------------------------------------------+----------+--------------------------------------+-----------+----------+------------+-----------+----------------------+-------------+-------+---------+\n",
        "| sl64-gluex-vm2014e-40gb.vmdk Justin                | ACTIVE   | f51fc1e4-d495-4376-824b-19000c41abef |           |          |            |           | 2014-03-13T17:21:09Z |             |       |         |\n",
        "+----------------------------------------------------+----------+--------------------------------------+-----------+----------+------------+-----------+----------------------+-------------+-------+---------+\n",
        "| fg10/jcharcal/centos6.5_x86_64                     | ACTIVE   | 28f2ad75-8f42-4079-85e1-3d4fe986317f |           |          |            |           | 2014-03-12T13:50:20Z |             |       |         |\n",
        "+----------------------------------------------------+----------+--------------------------------------+-----------+----------+------------+-----------+----------------------+-------------+-------+---------+\n",
        "| balewski/kernel-2.6.32-431.5.1-sl65                | ACTIVE   | 00e935c3-82a6-499c-9056-6db37d27439b |           |          |            |           | 2014-03-10T01:56:13Z |             |       |         |\n",
        "+----------------------------------------------------+----------+--------------------------------------+-----------+----------+------------+-----------+----------------------+-------------+-------+---------+\n",
        "| SL64-blank-sparse40GB vmdk                         | ACTIVE   | 882871a5-3157-426a-b7bc-10cca91860f0 |           |          |            |           | 2014-02-05T16:57:23Z |             |       |         |\n",
        "+----------------------------------------------------+----------+--------------------------------------+-----------+----------+------------+-----------+----------------------+-------------+-------+---------+\n",
        "| futuregrid/fedora-20                               | ACTIVE   | 928b52df-06cf-46b6-a6a6-af25a6a14776 |           |          |            |           | 2014-08-21T18:49:23Z |             |       |         |\n",
        "+----------------------------------------------------+----------+--------------------------------------+-----------+----------+------------+-----------+----------------------+-------------+-------+---------+\n",
        "| futuregrid/ubuntu-12.04                            | ACTIVE   | 9e1765c7-f554-4a10-a8e5-e2d3bf75904b |           |          |            |           | 2014-08-21T18:47:25Z |             |       |         |\n",
        "+----------------------------------------------------+----------+--------------------------------------+-----------+----------+------------+-----------+----------------------+-------------+-------+---------+\n",
        "| Ubuntu-12.04-blank2.vmdk                           | ACTIVE   | b49324f8-d2c3-413a-8f8c-83b498e815f6 |           |          |            |           | 2014-02-05T16:55:28Z |             |       |         |\n",
        "+----------------------------------------------------+----------+--------------------------------------+-----------+----------+------------+-----------+----------------------+-------------+-------+---------+\n",
        "| balewski/ramdisk-2.6.32-431.5.1-sl65               | ACTIVE   | 9589cf93-f0e6-45d8-930f-63dd2d9c2f1a |           |          |            |           | 2014-03-10T01:56:19Z |             |       |         |\n",
        "+----------------------------------------------------+----------+--------------------------------------+-----------+----------+------------+-----------+----------------------+-------------+-------+---------+\n",
        "| futuregrid/ubuntu-14.04                            | ACTIVE   | 02cf1545-dd83-493a-986e-583d53ee3728 |           |          |            |           | 2014-08-21T18:47:14Z |             |       |         |\n",
        "+----------------------------------------------------+----------+--------------------------------------+-----------+----------+------------+-----------+----------------------+-------------+-------+---------+\n",
        "| balewski/sl6.5-blank-80gb-b works                  | ACTIVE   | 5cb90f55-c3a1-468b-b60a-0ecd589baf31 |           |          |            |           | 2014-03-10T15:48:27Z |             |       |         |\n",
        "+----------------------------------------------------+----------+--------------------------------------+-----------+----------+------------+-----------+----------------------+-------------+-------+---------+\n",
        "| ndssl-vt/ubuntu-12.04-small                        | ACTIVE   | b9455041-407b-488b-a3f1-5dce6c480b5a |         3 | m1.large | snapshot   | available | 2013-12-05T22:02:57Z |        8192 |     4 |       4 |\n",
        "+----------------------------------------------------+----------+--------------------------------------+-----------+----------+------------+-----------+----------------------+-------------+-------+---------+\n",
        "| DaLiAna-vm2014d-SL64-A.vmdk                        | ACTIVE   | ff5bb4de-d7e9-4bfb-b42b-cec9ed8d2d08 |           |          |            |           | 2014-02-03T16:04:12Z |             |       |         |\n",
        "+----------------------------------------------------+----------+--------------------------------------+-----------+----------+------------+-----------+----------------------+-------------+-------+---------+\n",
        "| cglmoocs/ipython                                   | ACTIVE   | 0eff8bfc-e455-429e-9dfb-e16488d410f9 |           |          |            |           | 2014-01-06T16:18:54Z |             |       |         |\n",
        "+----------------------------------------------------+----------+--------------------------------------+-----------+----------+------------+-----------+----------------------+-------------+-------+---------+\n",
        "| balewski/daliana-vm2014e2-sl6.5-geant4.10-root5.34 | ACTIVE   | 64866d96-8a9e-4d7c-983f-90b0bb594310 |           |          |            |           | 2014-03-10T02:05:55Z |             |       |         |\n",
        "+----------------------------------------------------+----------+--------------------------------------+-----------+----------+------------+-----------+----------------------+-------------+-------+---------+\n",
        "| sl6_x64-qemu  french ?bad                          | ACTIVE   | c9ca9852-dfcb-4ceb-a164-a58c89594551 |           |          |            |           | 2014-02-01T21:59:26Z |             |       |         |\n",
        "+----------------------------------------------------+----------+--------------------------------------+-----------+----------+------------+-----------+----------------------+-------------+-------+---------+\n",
        "count: 26\n",
        "+-------+\n",
        "\n"
       ]
      }
     ],
     "prompt_number": 50
    },
    {
     "cell_type": "code",
     "collapsed": false,
     "input": [
      "print cloudmesh.shell(\"cloud set image --image=futuregrid/ubuntu-14.04\")"
     ],
     "language": "python",
     "metadata": {},
     "outputs": [
      {
       "output_type": "stream",
       "stream": "stdout",
       "text": [
        "* india\n",
        "Refreshing xiaoyuk servers india ->\n",
        "Refresh time: 0.103451013565\n",
        "Store time: 0.00182700157166\n",
        "* india\n",
        "Refreshing xiaoyuk images india ->\n",
        "Refresh time: 0.286941051483\n",
        "Store time: 0.0246119499207\n",
        "\u001b[92m'futuregrid/ubuntu-14.04' is selected\u001b[0m\n",
        "\n"
       ]
      }
     ],
     "prompt_number": 51
    },
    {
     "cell_type": "heading",
     "level": 3,
     "metadata": {},
     "source": [
      "set default flavor"
     ]
    },
    {
     "cell_type": "code",
     "collapsed": false,
     "input": [
      "print cloudmesh.shell(\"list flavor --refresh\")"
     ],
     "language": "python",
     "metadata": {},
     "outputs": [
      {
       "output_type": "stream",
       "stream": "stdout",
       "text": [
        "* india\n",
        "Refreshing xiaoyuk servers india ->\n",
        "Refresh time: 0.105655908585\n",
        "Store time: 0.00168991088867\n",
        "* india\n",
        "Refreshing xiaoyuk flavors india ->\n",
        "Refresh time: 0.0433030128479\n",
        "Store time: 0.00601983070374\n",
        "+----------------------+\n",
        "flavors of cloud 'india'\n",
        "+------+-----------+---------+-------+--------+----------------------+\n",
        "|   id | name      |   vcpus |   ram |   disk | refresh time         |\n",
        "+======+===========+=========+=======+========+======================+\n",
        "|    1 | m1.tiny   |       1 |   512 |      0 | 2014-08-27T16-32-00Z |\n",
        "+------+-----------+---------+-------+--------+----------------------+\n",
        "|    3 | m1.medium |       2 |  4096 |     40 | 2014-08-27T16-32-00Z |\n",
        "+------+-----------+---------+-------+--------+----------------------+\n",
        "|    2 | m1.small  |       1 |  2048 |     20 | 2014-08-27T16-32-00Z |\n",
        "+------+-----------+---------+-------+--------+----------------------+\n",
        "|    5 | m1.xlarge |       8 | 16384 |    160 | 2014-08-27T16-32-00Z |\n",
        "+------+-----------+---------+-------+--------+----------------------+\n",
        "|    4 | m1.large  |       4 |  8192 |     80 | 2014-08-27T16-32-00Z |\n",
        "+------+-----------+---------+-------+--------+----------------------+\n",
        "count: 5\n",
        "+------+\n",
        "\n"
       ]
      }
     ],
     "prompt_number": 52
    },
    {
     "cell_type": "code",
     "collapsed": false,
     "input": [
      "print cloudmesh.shell(\"cloud set flavor --flavorid=2\")"
     ],
     "language": "python",
     "metadata": {},
     "outputs": [
      {
       "output_type": "stream",
       "stream": "stdout",
       "text": [
        "* india\n",
        "Refreshing xiaoyuk servers india ->\n",
        "Refresh time: 0.104052066803\n",
        "Store time: 0.00158405303955\n",
        "* india\n",
        "Refreshing xiaoyuk flavors india ->\n",
        "Refresh time: 0.0655128955841\n",
        "Store time: 0.00676488876343\n",
        "\u001b[92m'm1.small' is selected\u001b[0m\n",
        "\n"
       ]
      }
     ],
     "prompt_number": 53
    },
    {
     "cell_type": "heading",
     "level": 2,
     "metadata": {},
     "source": [
      "Part2: Start VM"
     ]
    },
    {
     "cell_type": "heading",
     "level": 3,
     "metadata": {},
     "source": [
      "start one vm on the selected or default cloud using its default image and default flavor"
     ]
    },
    {
     "cell_type": "code",
     "collapsed": false,
     "input": [
      "print cloudmesh.shell(\"vm start\")"
     ],
     "language": "python",
     "metadata": {},
     "outputs": [
      {
       "output_type": "stream",
       "stream": "stdout",
       "text": [
        "* india\n",
        "Refreshing xiaoyuk servers india ->\n",
        "Refresh time: 0.114383935928\n",
        "Store time: 0.000873804092407\n",
        "\n",
        "# ######################################################################\n",
        "# Starting vm->xiaoyuk_7 on cloud->india using image->m1.small, flavor->futuregrid/ubuntu-14.04, key->xiaoyuk_fg_key1\n",
        "# ######################################################################\n",
        "job status: STARTED\n",
        "to check realtime vm status: list vm --refresh\n",
        "\n"
       ]
      }
     ],
     "prompt_number": 54
    },
    {
     "cell_type": "heading",
     "level": 3,
     "metadata": {},
     "source": [
      "check realtime vm status of the cloud"
     ]
    },
    {
     "cell_type": "code",
     "collapsed": false,
     "input": [
      "print cloudmesh.shell(\"list vm --refresh\")"
     ],
     "language": "python",
     "metadata": {},
     "outputs": [
      {
       "output_type": "stream",
       "stream": "stdout",
       "text": [
        "* india\n",
        "Refreshing xiaoyuk servers india ->\n",
        "Refresh time: 0.136536121368\n",
        "Store time: 0.00291180610657\n",
        "* india\n",
        "Refreshing xiaoyuk servers india ->\n",
        "Refresh time: 0.0707709789276\n",
        "Store time: 0.0015549659729\n",
        "+-----------+\n",
        "cloud 'india'\n",
        "+-----------+----------+-------------+--------------------------------------+----------+-------------------------+-----------+---------------------------+-----------------+----------------------+\n",
        "| name      | status   | addresses   | id                                   | flavor   | image                   | user_id   | metadata                  | key_name        | created              |\n",
        "+===========+==========+=============+======================================+==========+=========================+===========+===========================+=================+======================+\n",
        "| xiaoyuk_7 | ACTIVE   | 10.39.1.62  | be22e3ee-e5ff-45ec-ae24-3c012685db0b | m1.small | futuregrid/ubuntu-14.04 | xiaoyuk   | {u'cm_owner': u'xiaoyuk'} | xiaoyuk_fg_key1 | 2014-08-27T20:32:21Z |\n",
        "+-----------+----------+-------------+--------------------------------------+----------+-------------------------+-----------+---------------------------+-----------------+----------------------+\n",
        "count: 1\n",
        "+------+\n",
        "\n"
       ]
      }
     ],
     "prompt_number": 55
    },
    {
     "cell_type": "heading",
     "level": 3,
     "metadata": {},
     "source": [
      "delete the vm (--cloud=india: delete all vms of cloud india, --force: no user confirmation)"
     ]
    },
    {
     "cell_type": "code",
     "collapsed": false,
     "input": [
      "print cloudmesh.shell(\"vm delete --cloud=india --force\")"
     ],
     "language": "python",
     "metadata": {},
     "outputs": [
      {
       "output_type": "stream",
       "stream": "stdout",
       "text": [
        "* india\n",
        "Refreshing xiaoyuk servers india ->\n",
        "Refresh time: 0.140762090683\n",
        "Store time: 0.0025098323822\n",
        "* india\n",
        "Refreshing xiaoyuk servers india ->\n",
        "Refresh time: 0.0701308250427\n",
        "Store time: 0.00247716903687\n",
        "\n",
        "# ######################################################################\n",
        "# Deleting vm->xiaoyuk_7 on cloud->india\n",
        "# ######################################################################\n",
        "job status: PENDING\n",
        "time consumed: 0.20 s\n",
        "\n"
       ]
      }
     ],
     "prompt_number": 56
    },
    {
     "cell_type": "code",
     "collapsed": false,
     "input": [
      "print cloudmesh.shell(\"list vm --refresh\")"
     ],
     "language": "python",
     "metadata": {},
     "outputs": [
      {
       "output_type": "stream",
       "stream": "stdout",
       "text": [
        "* india\n",
        "Refreshing xiaoyuk servers india ->\n",
        "Refresh time: 0.118312120438\n",
        "Store time: 0.00161814689636\n",
        "* india\n",
        "Refreshing xiaoyuk servers india ->\n",
        "Refresh time: 0.0355889797211\n",
        "Store time: 0.00146007537842\n",
        "+-----------+\n",
        "cloud 'india'\n",
        "++\n",
        "++\n",
        "count: 0\n",
        "+------+\n",
        "\n"
       ]
      }
     ],
     "prompt_number": 57
    },
    {
     "cell_type": "heading",
     "level": 2,
     "metadata": {},
     "source": [
      "Part3: Start multiple VMs"
     ]
    },
    {
     "cell_type": "heading",
     "level": 3,
     "metadata": {},
     "source": [
      "using option --count=count"
     ]
    },
    {
     "cell_type": "code",
     "collapsed": false,
     "input": [
      "print cloudmesh.shell(\"vm start --count=3\")"
     ],
     "language": "python",
     "metadata": {},
     "outputs": [
      {
       "output_type": "stream",
       "stream": "stdout",
       "text": [
        "* india\n",
        "Refreshing xiaoyuk servers india ->\n",
        "Refresh time: 0.0987651348114\n",
        "Store time: 0.00168514251709\n",
        "\n",
        "# ######################################################################\n",
        "# Starting vm->xiaoyuk_8 on cloud->india using image->m1.small, flavor->futuregrid/ubuntu-14.04, key->xiaoyuk_fg_key1\n",
        "# ######################################################################\n",
        "job status: STARTED\n",
        "\n",
        "# ######################################################################\n",
        "# Starting vm->xiaoyuk_9 on cloud->india using image->m1.small, flavor->futuregrid/ubuntu-14.04, key->xiaoyuk_fg_key1\n",
        "# ######################################################################\n",
        "job status: PENDING\n",
        "\n",
        "# ######################################################################\n",
        "# Starting vm->xiaoyuk_10 on cloud->india using image->m1.small, flavor->futuregrid/ubuntu-14.04, key->xiaoyuk_fg_key1\n",
        "# ######################################################################\n",
        "job status: PENDING\n",
        "time consumed: 1.81 s\n",
        "to check realtime vm status: list vm --refresh\n",
        "\n"
       ]
      }
     ],
     "prompt_number": 58
    },
    {
     "cell_type": "code",
     "collapsed": false,
     "input": [
      "print cloudmesh.shell(\"list vm --refresh\")"
     ],
     "language": "python",
     "metadata": {},
     "outputs": [
      {
       "output_type": "stream",
       "stream": "stdout",
       "text": [
        "* india\n",
        "Refreshing xiaoyuk servers india ->\n",
        "Refresh time: 0.142244815826\n",
        "Store time: 0.0158040523529\n",
        "* india\n",
        "Refreshing xiaoyuk servers india ->\n",
        "Refresh time: 0.0871829986572\n",
        "Store time: 0.00476288795471\n",
        "+-----------+\n",
        "cloud 'india'\n",
        "+------------+----------+-------------+--------------------------------------+----------+-------------------------+-----------+---------------------------+-----------------+----------------------+\n",
        "| name       | status   | addresses   | id                                   | flavor   | image                   | user_id   | metadata                  | key_name        | created              |\n",
        "+============+==========+=============+======================================+==========+=========================+===========+===========================+=================+======================+\n",
        "| xiaoyuk_9  | ACTIVE   | 10.39.1.63  | 93376c89-aac2-46cf-aca9-99eac2e12884 | m1.small | futuregrid/ubuntu-14.04 | xiaoyuk   | {u'cm_owner': u'xiaoyuk'} | xiaoyuk_fg_key1 | 2014-08-27T20:33:11Z |\n",
        "+------------+----------+-------------+--------------------------------------+----------+-------------------------+-----------+---------------------------+-----------------+----------------------+\n",
        "| xiaoyuk_10 | ACTIVE   | 10.39.1.64  | 7952c172-1e27-4348-b6ab-74518742dadf | m1.small | futuregrid/ubuntu-14.04 | xiaoyuk   | {u'cm_owner': u'xiaoyuk'} | xiaoyuk_fg_key1 | 2014-08-27T20:33:11Z |\n",
        "+------------+----------+-------------+--------------------------------------+----------+-------------------------+-----------+---------------------------+-----------------+----------------------+\n",
        "| xiaoyuk_8  | ACTIVE   | 10.39.1.62  | b34dc26f-1af1-4123-9fcf-69788816e87d | m1.small | futuregrid/ubuntu-14.04 | xiaoyuk   | {u'cm_owner': u'xiaoyuk'} | xiaoyuk_fg_key1 | 2014-08-27T20:33:10Z |\n",
        "+------------+----------+-------------+--------------------------------------+----------+-------------------------+-----------+---------------------------+-----------------+----------------------+\n",
        "count: 3\n",
        "+------+\n",
        "\n"
       ]
      }
     ],
     "prompt_number": 60
    },
    {
     "cell_type": "code",
     "collapsed": false,
     "input": [
      "print cloudmesh.shell(\"vm delete --cloud=india --force\")"
     ],
     "language": "python",
     "metadata": {},
     "outputs": [
      {
       "output_type": "stream",
       "stream": "stdout",
       "text": [
        "* india\n",
        "Refreshing xiaoyuk servers india ->\n",
        "Refresh time: 0.14045882225\n",
        "Store time: 0.00346207618713\n",
        "* india\n",
        "Refreshing xiaoyuk servers india ->\n",
        "Refresh time: 0.0818741321564\n",
        "Store time: 0.00518107414246\n",
        "\n",
        "# ######################################################################\n",
        "# Deleting vm->xiaoyuk_9 on cloud->india\n",
        "# ######################################################################\n",
        "job status: STARTED\n",
        "\n",
        "# ######################################################################\n",
        "# Deleting vm->xiaoyuk_10 on cloud->india\n",
        "# ######################################################################\n",
        "job status: PENDING\n",
        "\n",
        "# ######################################################################\n",
        "# Deleting vm->xiaoyuk_8 on cloud->india\n",
        "# ######################################################################\n",
        "job status: PENDING\n",
        "time consumed: 0.44 s\n",
        "\n"
       ]
      }
     ],
     "prompt_number": 61
    },
    {
     "cell_type": "code",
     "collapsed": false,
     "input": [
      "print cloudmesh.shell(\"list vm --refresh\")"
     ],
     "language": "python",
     "metadata": {},
     "outputs": [
      {
       "output_type": "stream",
       "stream": "stdout",
       "text": [
        "* india\n",
        "Refreshing xiaoyuk servers india ->\n",
        "Refresh time: 0.10401391983\n",
        "Store time: 0.00184297561646\n",
        "* india\n",
        "Refreshing xiaoyuk servers india ->\n",
        "Refresh time: 0.0449669361115\n",
        "Store time: 0.00211501121521\n",
        "+-----------+\n",
        "cloud 'india'\n",
        "++\n",
        "++\n",
        "count: 0\n",
        "+------+\n",
        "\n"
       ]
      }
     ],
     "prompt_number": 62
    },
    {
     "cell_type": "heading",
     "level": 2,
     "metadata": {},
     "source": [
      "Part4: Start VMs on different clouds"
     ]
    },
    {
     "cell_type": "heading",
     "level": 3,
     "metadata": {},
     "source": [
      "activate another cloud"
     ]
    },
    {
     "cell_type": "code",
     "collapsed": false,
     "input": [
      "print cloudmesh.shell(\"cloud on sierra\")"
     ],
     "language": "python",
     "metadata": {},
     "outputs": [
      {
       "output_type": "stream",
       "stream": "stdout",
       "text": [
        "* sierra\n",
        "Refreshing xiaoyuk servers sierra ->\n",
        "Refresh time: 1.1675760746\n",
        "Store time: 0.00156998634338\n",
        "\u001b[92mcloud 'sierra' activated.\u001b[0m\n",
        "\n"
       ]
      }
     ],
     "prompt_number": 63
    },
    {
     "cell_type": "heading",
     "level": 3,
     "metadata": {},
     "source": [
      "start VMs on two clouds separately (users may specify a VM group by using option --group=group)"
     ]
    },
    {
     "cell_type": "code",
     "collapsed": false,
     "input": [
      "print cloudmesh.shell(\"vm start --cloud=sierra --image=futuregrid/ubuntu-14.04 --flavor=m1.small --group=test\")"
     ],
     "language": "python",
     "metadata": {},
     "outputs": [
      {
       "output_type": "stream",
       "stream": "stdout",
       "text": [
        "* sierra\n",
        "Refreshing xiaoyuk servers sierra ->\n",
        "Refresh time: 1.36577105522\n",
        "Store time: 0.00162601470947\n",
        "* sierra\n",
        "Refreshing xiaoyuk flavors sierra ->\n",
        "Refresh time: 0.178359985352\n",
        "Store time: 0.00664806365967\n",
        "Refreshing xiaoyuk images sierra ->\n",
        "Refresh time: 2.39198303223\n",
        "Store time: 0.0314099788666\n",
        "\n",
        "# ######################################################################\n",
        "# Starting vm->xiaoyuk_11 on cloud->sierra using image->m1.small, flavor->futuregrid/ubuntu-14.04, key->xiaoyuk_fg_key1\n",
        "# ######################################################################\n",
        "job status: PENDING\n",
        "to check realtime vm status: list vm --refresh\n",
        "\n"
       ]
      }
     ],
     "prompt_number": 64
    },
    {
     "cell_type": "code",
     "collapsed": false,
     "input": [
      "print cloudmesh.shell(\"vm start --group=test\")"
     ],
     "language": "python",
     "metadata": {},
     "outputs": [
      {
       "output_type": "stream",
       "stream": "stdout",
       "text": [
        "* india\n",
        "Refreshing xiaoyuk servers india ->\n",
        "Refresh time: 0.102016925812\n",
        "Store time: 0.00168490409851\n",
        "\n",
        "# ######################################################################\n",
        "# Starting vm->xiaoyuk_12 on cloud->india using image->m1.small, flavor->futuregrid/ubuntu-14.04, key->xiaoyuk_fg_key1\n",
        "# ######################################################################\n",
        "job status: PENDING\n",
        "to check realtime vm status: list vm --refresh\n",
        "\n"
       ]
      }
     ],
     "prompt_number": 65
    },
    {
     "cell_type": "heading",
     "level": 3,
     "metadata": {},
     "source": [
      "check realtime vm status of all active clouds"
     ]
    },
    {
     "cell_type": "code",
     "collapsed": false,
     "input": [
      "print cloudmesh.shell(\"list vm --all --refresh\")"
     ],
     "language": "python",
     "metadata": {},
     "outputs": [
      {
       "output_type": "stream",
       "stream": "stdout",
       "text": [
        "* india\n",
        "Refreshing xiaoyuk servers india ->\n",
        "Refresh time: 0.126590013504\n",
        "Store time: 0.0030460357666\n",
        "* sierra\n",
        "Refreshing xiaoyuk servers sierra ->\n",
        "Refresh time: 1.35307788849\n",
        "Store time: 0.00281596183777\n",
        "* india\n",
        "Refreshing xiaoyuk servers india ->\n",
        "Refresh time: 0.0680501461029\n",
        "Store time: 0.00283813476562\n",
        "* sierra\n",
        "Refreshing xiaoyuk servers sierra ->\n",
        "Refresh time: 0.183326005936\n",
        "Store time: 0.00281596183777\n",
        "+-----------+\n",
        "cloud 'india'\n",
        "+------------+----------+-------------+--------------------------------------+----------+-------------------------+-----------+-------------------------------------------------+-----------------+----------------------+\n",
        "| name       | status   | addresses   | id                                   | flavor   | image                   | user_id   | metadata                                        | key_name        | created              |\n",
        "+============+==========+=============+======================================+==========+=========================+===========+=================================================+=================+======================+\n",
        "| xiaoyuk_12 | ACTIVE   | 10.39.1.62  | d0fa0379-0832-4825-8da6-7f0ac5d77191 | m1.small | futuregrid/ubuntu-14.04 | xiaoyuk   | {u'cm_owner': u'xiaoyuk', u'cm_group': u'test'} | xiaoyuk_fg_key1 | 2014-08-27T20:35:13Z |\n",
        "+------------+----------+-------------+--------------------------------------+----------+-------------------------+-----------+-------------------------------------------------+-----------------+----------------------+\n",
        "count: 1\n",
        "+------+\n",
        "+------------+\n",
        "cloud 'sierra'\n",
        "+------------+----------+-------------+--------------------------------------+----------+-------------------------+-----------+-------------------------------------------------+-----------------+----------------------+\n",
        "| name       | status   | addresses   | id                                   | flavor   | image                   | user_id   | metadata                                        | key_name        | created              |\n",
        "+============+==========+=============+======================================+==========+=========================+===========+=================================================+=================+======================+\n",
        "| xiaoyuk_11 | ACTIVE   | 10.35.23.9  | bd60fefa-9994-448a-a962-421c917c1c7f | m1.small | futuregrid/ubuntu-14.04 | xiaoyuk   | {u'cm_owner': u'xiaoyuk', u'cm_group': u'test'} | xiaoyuk_fg_key1 | 2014-08-27T20:35:02Z |\n",
        "+------------+----------+-------------+--------------------------------------+----------+-------------------------+-----------+-------------------------------------------------+-----------------+----------------------+\n",
        "count: 1\n",
        "+------+\n",
        "\n"
       ]
      }
     ],
     "prompt_number": 66
    },
    {
     "cell_type": "heading",
     "level": 3,
     "metadata": {},
     "source": [
      "delete VMs by group"
     ]
    },
    {
     "cell_type": "code",
     "collapsed": false,
     "input": [
      "print cloudmesh.shell(\"vm delete --cloud=sierra --group=test --force\")"
     ],
     "language": "python",
     "metadata": {},
     "outputs": [
      {
       "output_type": "stream",
       "stream": "stdout",
       "text": [
        "* sierra\n",
        "Refreshing xiaoyuk servers sierra ->\n",
        "Refresh time: 1.30718493462\n",
        "Store time: 0.00294589996338\n",
        "* sierra\n",
        "Refreshing xiaoyuk servers sierra ->\n",
        "Refresh time: 0.181340932846\n",
        "Store time: 0.00281500816345\n",
        "\n",
        "# ######################################################################\n",
        "# Deleting vm->xiaoyuk_11 on cloud->sierra\n",
        "# ######################################################################\n",
        "job status: PENDING\n",
        "time consumed: 0.20 s\n",
        "\n"
       ]
      }
     ],
     "prompt_number": 67
    },
    {
     "cell_type": "code",
     "collapsed": false,
     "input": [
      "print cloudmesh.shell(\"vm delete --group=test --force\")"
     ],
     "language": "python",
     "metadata": {},
     "outputs": [
      {
       "output_type": "stream",
       "stream": "stdout",
       "text": [
        "* india\n",
        "Refreshing xiaoyuk servers india ->\n",
        "Refresh time: 0.132085084915\n",
        "Store time: 0.00315403938293\n",
        "* india\n",
        "Refreshing xiaoyuk servers india ->\n",
        "Refresh time: 0.0744030475616\n",
        "Store time: 0.00285506248474\n",
        "\n",
        "# ######################################################################\n",
        "# Deleting vm->xiaoyuk_12 on cloud->india\n",
        "# ######################################################################\n",
        "job status: PENDING\n",
        "time consumed: 0.20 s\n",
        "\n"
       ]
      }
     ],
     "prompt_number": 68
    },
    {
     "cell_type": "code",
     "collapsed": false,
     "input": [
      "print cloudmesh.shell(\"list vm --all --refresh\")"
     ],
     "language": "python",
     "metadata": {},
     "outputs": [
      {
       "output_type": "stream",
       "stream": "stdout",
       "text": [
        "* india\n",
        "Refreshing xiaoyuk servers india ->\n",
        "Refresh time: 0.103296041489\n",
        "Store time: 0.00195813179016\n",
        "* sierra\n",
        "Refreshing xiaoyuk servers sierra ->\n",
        "Refresh time: 1.6628010273\n",
        "Store time: 0.00127196311951\n",
        "* india\n",
        "Refreshing xiaoyuk servers india ->\n",
        "Refresh time: 0.0312690734863\n",
        "Store time: 0.00150012969971\n",
        "* sierra\n",
        "Refreshing xiaoyuk servers sierra ->\n",
        "Refresh time: 0.202683925629\n",
        "Store time: 0.000715970993042\n",
        "+-----------+\n",
        "cloud 'india'\n",
        "++\n",
        "++\n",
        "count: 0\n",
        "+------+\n",
        "+------------+\n",
        "cloud 'sierra'\n",
        "++\n",
        "++\n",
        "count: 0\n",
        "+------+\n",
        "\n"
       ]
      }
     ],
     "prompt_number": 69
    },
    {
     "cell_type": "code",
     "collapsed": false,
     "input": [],
     "language": "python",
     "metadata": {},
     "outputs": []
    }
   ],
   "metadata": {}
  }
 ]
}