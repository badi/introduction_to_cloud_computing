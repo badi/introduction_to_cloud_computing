{
 "metadata": {
  "name": "",
  "signature": "sha256:920a031d457b7fddbda1b4989dce81d1316cf9683bea2763714e0ad078e9759f"
 },
 "nbformat": 3,
 "nbformat_minor": 0,
 "worksheets": [
  {
   "cells": [
    {
     "cell_type": "code",
     "collapsed": false,
     "input": [
      "import cloudmesh"
     ],
     "language": "python",
     "metadata": {},
     "outputs": [],
     "prompt_number": 2
    },
    {
     "cell_type": "code",
     "collapsed": false,
     "input": [
      "print cloudmesh.shell(\"help\")"
     ],
     "language": "python",
     "metadata": {},
     "outputs": [
      {
       "output_type": "stream",
       "stream": "stdout",
       "text": [
        "\n",
        "Documented commands (type help <topic>):\n",
        "========================================\n",
        "EOF       edit      help       label   plugins  register        user   \n",
        "banner    exec      image      list    project  script          var    \n",
        "clear     exp       info       man     py       security_group  verbose\n",
        "cloud     flavor    init       metric  q        storm           version\n",
        "defaults  graphviz  inventory  open    quit     timer           vm     \n",
        "dot2      group     keys       pause   rain     use             web    \n",
        "\n",
        "Gui Commands\n",
        "============\n",
        "web\n",
        "\n",
        "Cloud Commands\n",
        "==============\n",
        "cloud     group  inventory  rain            storm  keys   \n",
        "defaults  image  list       register        user   project\n",
        "flavor    init   metric     security_group  vm   \n",
        "\n",
        "\n"
       ]
      }
     ],
     "prompt_number": 3
    }
   ],
   "metadata": {}
  }
 ]
}