{
 "metadata": {
  "celltoolbar": "Raw Cell Format",
  "name": "",
  "signature": "sha256:a9f11baba95d6e2b44cf6486772a9090716e5ce824f1d9bc3b122b14db0bb447"
 },
 "nbformat": 3,
 "nbformat_minor": 0,
 "worksheets": [
  {
   "cells": [
    {
     "cell_type": "heading",
     "level": 1,
     "metadata": {},
     "source": [
      "Cloudmesh Initialization"
     ]
    },
    {
     "cell_type": "markdown",
     "metadata": {},
     "source": [
      "To use th emany useful functions available in cloudmesh, we need to import the basic cloudmesh module. "
     ]
    },
    {
     "cell_type": "code",
     "collapsed": false,
     "input": [
      "import cloudmesh"
     ],
     "language": "python",
     "metadata": {},
     "outputs": [],
     "prompt_number": 1
    },
    {
     "cell_type": "heading",
     "level": 2,
     "metadata": {},
     "source": [
      "Version"
     ]
    },
    {
     "cell_type": "markdown",
     "metadata": {},
     "source": [
      "Cloudmesh has a version number that can be retrived with the version function"
     ]
    },
    {
     "cell_type": "code",
     "collapsed": false,
     "input": [
      "print cloudmesh.version()"
     ],
     "language": "python",
     "metadata": {},
     "outputs": [
      {
       "output_type": "stream",
       "stream": "stdout",
       "text": [
        "1.0\n"
       ]
      }
     ],
     "prompt_number": 2
    },
    {
     "cell_type": "heading",
     "level": 2,
     "metadata": {},
     "source": [
      "Generating VM Names"
     ]
    },
    {
     "cell_type": "markdown",
     "metadata": {},
     "source": [
      "Cloudmesh has a number of helper functions. One of them is to create a name for a virtual machine. This will come in handy when we need to start multile virtual machines and distinguish them with a different name"
     ]
    },
    {
     "cell_type": "code",
     "collapsed": false,
     "input": [
      "print cloudmesh.vm_name(\"gregor\", 1)"
     ],
     "language": "python",
     "metadata": {},
     "outputs": [
      {
       "output_type": "stream",
       "stream": "stdout",
       "text": [
        "gregor-00001\n"
       ]
      }
     ],
     "prompt_number": 18
    },
    {
     "cell_type": "markdown",
     "metadata": {},
     "source": [
      "-"
     ]
    }
   ],
   "metadata": {}
  }
 ]
}