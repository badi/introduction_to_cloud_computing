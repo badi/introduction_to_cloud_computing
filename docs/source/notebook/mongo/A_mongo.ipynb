{
 "metadata": {
  "name": "",
  "signature": "sha256:fbdcb7efaf68bfe4c34f3bdc7995bfd0d1a60a78595f3d8e2adabb50a375a567"
 },
 "nbformat": 3,
 "nbformat_minor": 0,
 "worksheets": [
  {
   "cells": [
    {
     "cell_type": "heading",
     "level": 1,
     "metadata": {},
     "source": [
      "Mongo"
     ]
    },
    {
     "cell_type": "code",
     "collapsed": false,
     "input": [
      "import cloudmesh"
     ],
     "language": "python",
     "metadata": {},
     "outputs": []
    },
    {
     "cell_type": "code",
     "collapsed": false,
     "input": [
      "from cloudmesh.config.cm_config import cm_config_server"
     ],
     "language": "python",
     "metadata": {},
     "outputs": []
    },
    {
     "cell_type": "code",
     "collapsed": false,
     "input": [],
     "language": "python",
     "metadata": {},
     "outputs": []
    },
    {
     "cell_type": "code",
     "collapsed": false,
     "input": [
      "config = cm_config_server().get(\"cloudmesh.server.mongo\")"
     ],
     "language": "python",
     "metadata": {},
     "outputs": []
    },
    {
     "cell_type": "code",
     "collapsed": false,
     "input": [
      "print config"
     ],
     "language": "python",
     "metadata": {},
     "outputs": []
    },
    {
     "cell_type": "code",
     "collapsed": false,
     "input": [
      "dbname = 'admin'"
     ],
     "language": "python",
     "metadata": {},
     "outputs": []
    },
    {
     "cell_type": "code",
     "collapsed": false,
     "input": [
      "   uri = \"mongodb://{2}:{3}/{4}\".format(cls.DBCONFIG[\"username\"],\n",
      "                                                                 cls.DBCONFIG[\"password\"],\n",
      "                                                                 cls.DBCONFIG[\"host\"],\n",
      "                                                                 cls.DBCONFIG[\"port\"],\n",
      "                                                                 dbname)"
     ],
     "language": "python",
     "metadata": {},
     "outputs": []
    },
    {
     "cell_type": "code",
     "collapsed": false,
     "input": [
      "print uri"
     ],
     "language": "python",
     "metadata": {},
     "outputs": []
    },
    {
     "cell_type": "code",
     "collapsed": false,
     "input": [
      " conn = MongoClient(uri)[dbname]"
     ],
     "language": "python",
     "metadata": {},
     "outputs": []
    }
   ],
   "metadata": {}
  }
 ]
}