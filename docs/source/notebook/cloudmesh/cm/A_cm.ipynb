{
 "metadata": {
  "name": "",
  "signature": "sha256:39b604606ca865b79d183b1f234c00acb4f49dadfb8a70a41d7ae6597c75536e"
 },
 "nbformat": 3,
 "nbformat_minor": 0,
 "worksheets": [
  {
   "cells": [
    {
     "cell_type": "heading",
     "level": 1,
     "metadata": {},
     "source": [
      "Calling **cm** in iPython or a shell"
     ]
    },
    {
     "cell_type": "markdown",
     "metadata": {},
     "source": [
      "In this section we use one of the build in features of iPython. It allows us to start command shell programs by putting the \"!\" at the beginning of the line. This allows us to start the command shell easily from iPython just as we would on a regular commandline.\n",
      "\n",
      "We will demonstrate this and also showcase how to pass parameters from a cm command to the cm shell."
     ]
    },
    {
     "cell_type": "heading",
     "level": 2,
     "metadata": {},
     "source": [
      "Parameters"
     ]
    },
    {
     "cell_type": "code",
     "collapsed": false,
     "input": [
      "!cm -h"
     ],
     "language": "python",
     "metadata": {},
     "outputs": [
      {
       "output_type": "stream",
       "stream": "stdout",
       "text": [
        "cm.\r\n",
        "\r\n",
        "    Usage:\r\n",
        "      cm [-q] help\r\n",
        "      cm [-v] [-b] [--file=SCRIPT] [-i] [COMMAND ...]\r\n",
        "\r\n",
        "    Arguments:\r\n",
        "      COMMAND                  A command to be executed\r\n",
        "\r\n",
        "    Options:\r\n",
        "      --file=SCRIPT  -f  SCRIPT  Executes the scipt\r\n",
        "      -i                 After start keep the shell interactive,\r\n",
        "                         otherwise quit [default: False]\r\n",
        "      -b                 surpress the printing of the banner [default: False]\r\n",
        "    \r\n"
       ]
      }
     ],
     "prompt_number": 1
    },
    {
     "cell_type": "heading",
     "level": 2,
     "metadata": {},
     "source": [
      "Help"
     ]
    },
    {
     "cell_type": "code",
     "collapsed": false,
     "input": [
      "!cm help"
     ],
     "language": "python",
     "metadata": {},
     "outputs": [
      {
       "output_type": "stream",
       "stream": "stdout",
       "text": [
        "\r\n",
        "Documented commands (type help <topic>):\r\n",
        "========================================\r\n",
        "EOF       edit      help       label   plugins  register        user   \r\n",
        "banner    exec      image      list    project  script          var    \r\n",
        "clear     exp       info       man     py       security_group  verbose\r\n",
        "cloud     flavor    init       metric  q        storm           version\r\n",
        "defaults  graphviz  inventory  open    quit     timer           vm     \r\n",
        "dot2      group     keys       pause   rain     use             web    \r\n",
        "\r\n",
        "Gui Commands\r\n",
        "============\r\n",
        "web\r\n",
        "\r\n",
        "Cloud Commands\r\n",
        "==============\r\n",
        "cloud     group  inventory  rain            storm  keys   \r\n",
        "defaults  image  list       register        user   project\r\n",
        "flavor    init   metric     security_group  vm   \r\n",
        "\r\n"
       ]
      }
     ],
     "prompt_number": 2
    },
    {
     "cell_type": "heading",
     "level": 2,
     "metadata": {},
     "source": [
      "An example command: cloud list"
     ]
    },
    {
     "cell_type": "code",
     "collapsed": false,
     "input": [
      "!cm cloud list"
     ],
     "language": "python",
     "metadata": {},
     "outputs": [
      {
       "output_type": "stream",
       "stream": "stdout",
       "text": [
        "+---------+----------+\r\n",
        "| cloud   | active   |\r\n",
        "+=========+==========+\r\n",
        "| alamo   |          |\r\n",
        "+---------+----------+\r\n",
        "| aws     |          |\r\n",
        "+---------+----------+\r\n",
        "| azure   |          |\r\n",
        "+---------+----------+\r\n",
        "| hp      |          |\r\n",
        "+---------+----------+\r\n",
        "| hp_east |          |\r\n",
        "+---------+----------+\r\n",
        "| india   | True     |\r\n",
        "+---------+----------+\r\n",
        "| sierra  |          |\r\n",
        "+---------+----------+\r\n"
       ]
      }
     ],
     "prompt_number": 3
    },
    {
     "cell_type": "markdown",
     "metadata": {},
     "source": [
      "Let us inspect the parameters. To limit the output we just display the first 10 lines of the help/man page. We see the --column option in the list command. "
     ]
    },
    {
     "cell_type": "code",
     "collapsed": false,
     "input": [
      "!cm help cloud | head -n 10 "
     ],
     "language": "python",
     "metadata": {},
     "outputs": [
      {
       "output_type": "stream",
       "stream": "stdout",
       "text": [
        "\r\n",
        "    ::\r\n",
        "\r\n",
        "        Usage:\r\n",
        "            cloud [list] [--column=COLUMN]\r\n",
        "            cloud info [CLOUD|--all]\r\n",
        "            cloud alias NAME [CLOUD]\r\n",
        "            cloud select [CLOUD]\r\n",
        "            cloud on [CLOUD]\r\n",
        "            cloud off [CLOUD]\r\n"
       ]
      }
     ],
     "prompt_number": 4
    },
    {
     "cell_type": "markdown",
     "metadata": {},
     "source": [
      "...\n",
      "\n",
      "For more information, read the help page. It essentially allows us to display some more useful information beyond to just document the active clouds. Let us also display the label. This is done with the following command."
     ]
    },
    {
     "cell_type": "code",
     "collapsed": false,
     "input": [
      "!cm cloud list --column=active,label"
     ],
     "language": "python",
     "metadata": {},
     "outputs": [
      {
       "output_type": "stream",
       "stream": "stdout",
       "text": [
        "Usage:\r\n",
        "      cm [-q] help\r\n",
        "      cm [-v] [-b] [--file=SCRIPT] [-i] [COMMAND ...]\r\n"
       ]
      }
     ],
     "prompt_number": 5
    },
    {
     "cell_type": "code",
     "collapsed": false,
     "input": [
      "!cm \"cloud list --column=active,label\""
     ],
     "language": "python",
     "metadata": {},
     "outputs": [
      {
       "output_type": "stream",
       "stream": "stdout",
       "text": [
        "+---------+----------+------------+\r\n",
        "| cloud   | active   | label      |\r\n",
        "+=========+==========+============+\r\n",
        "| alamo   |          | alamo      |\r\n",
        "+---------+----------+------------+\r\n",
        "| aws     |          | aws        |\r\n",
        "+---------+----------+------------+\r\n",
        "| azure   |          | waz        |\r\n",
        "+---------+----------+------------+\r\n",
        "| hp      |          | hpos       |\r\n",
        "+---------+----------+------------+\r\n",
        "| hp_east |          | hpeos      |\r\n",
        "+---------+----------+------------+\r\n",
        "| india   | True     | ios_havana |\r\n",
        "+---------+----------+------------+\r\n",
        "| sierra  |          | sos        |\r\n",
        "+---------+----------+------------+\r\n"
       ]
      }
     ],
     "prompt_number": 6
    },
    {
     "cell_type": "markdown",
     "metadata": {},
     "source": [
      "Alternatively we can also say \n",
      "\n",
      "!echo \"cloud list --column=active,label\" | cm"
     ]
    },
    {
     "cell_type": "heading",
     "level": 2,
     "metadata": {},
     "source": [
      "iPython Alias and Rehash"
     ]
    },
    {
     "cell_type": "markdown",
     "metadata": {},
     "source": [
      "IPython provides the ability to ommit the ! by defining an alias to cm. We will use this feature and define a cm alias in python as follows. If you need debugging output you can also add the -v option fo the cm command in the alsias specification."
     ]
    },
    {
     "cell_type": "code",
     "collapsed": false,
     "input": [
      "alias cm (cm \"%s\")"
     ],
     "language": "python",
     "metadata": {},
     "outputs": [],
     "prompt_number": 8
    },
    {
     "cell_type": "code",
     "collapsed": false,
     "input": [
      "cm version"
     ],
     "language": "python",
     "metadata": {},
     "outputs": [
      {
       "output_type": "stream",
       "stream": "stdout",
       "text": [
        "1.0.4\r\n"
       ]
      }
     ],
     "prompt_number": 9
    },
    {
     "cell_type": "markdown",
     "metadata": {},
     "source": [
      "In addition to the direct spesification IPython has also a rehash function, that loads the commands found in the $PATH variable so you can aexecute the without !. "
     ]
    },
    {
     "cell_type": "code",
     "collapsed": false,
     "input": [
      "%rehashx"
     ],
     "language": "python",
     "metadata": {},
     "outputs": [],
     "prompt_number": 10
    },
    {
     "cell_type": "code",
     "collapsed": false,
     "input": [
      "cm version"
     ],
     "language": "python",
     "metadata": {},
     "outputs": [
      {
       "output_type": "stream",
       "stream": "stdout",
       "text": [
        "1.0.4\r\n"
       ]
      }
     ],
     "prompt_number": 11
    }
   ],
   "metadata": {}
  }
 ]
}