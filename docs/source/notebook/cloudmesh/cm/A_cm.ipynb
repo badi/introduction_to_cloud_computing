{
 "metadata": {
  "name": "",
  "signature": "sha256:a2a9db88681e406ba5ef8df42a141a09cce0a7a26e3c1745d6902fd91fc5479c"
 },
 "nbformat": 3,
 "nbformat_minor": 0,
 "worksheets": [
  {
   "cells": [
    {
     "cell_type": "heading",
     "level": 1,
     "metadata": {},
     "source": [
      "Cloudmesh `cm` Command"
     ]
    },
    {
     "cell_type": "heading",
     "level": 2,
     "metadata": {},
     "source": [
      "iPython Execution of shell commands"
     ]
    },
    {
     "cell_type": "markdown",
     "metadata": {},
     "source": [
      "In this section we use one of the build in features of iPython. IPython provides various mechanisms to call programs within its shell. Onoe of the ways to do so it tou use the ! character at the beginning of a line to execute the command in the shell. \n",
      "\n",
      "However, there are more convenient ways to eliminate the ! sign at the beginning of a line. One way is to use the alias command, another is to use the %rehasx command."
     ]
    },
    {
     "cell_type": "heading",
     "level": 3,
     "metadata": {},
     "source": [
      "IPython Alias"
     ]
    },
    {
     "cell_type": "markdown",
     "metadata": {},
     "source": [
      "With the alias command we simply define a new command with the name cm that we can call directly from IPython. Here we make sure that the parameters ar between \"\" so that they are properly set. Just execute the following lines."
     ]
    },
    {
     "cell_type": "code",
     "collapsed": false,
     "input": [
      "alias cm cm \"%s\""
     ],
     "language": "python",
     "metadata": {},
     "outputs": [],
     "prompt_number": 46
    },
    {
     "cell_type": "markdown",
     "metadata": {},
     "source": [
      "Now let us test the command and lets print the version of cloudmesh cm"
     ]
    },
    {
     "cell_type": "code",
     "collapsed": false,
     "input": [
      "cm version"
     ],
     "language": "python",
     "metadata": {},
     "outputs": [
      {
       "output_type": "stream",
       "stream": "stdout",
       "text": [
        "1.0.4\r\n"
       ]
      }
     ],
     "prompt_number": 47
    },
    {
     "cell_type": "heading",
     "level": 3,
     "metadata": {},
     "source": [
      "Python %rehashx"
     ]
    },
    {
     "cell_type": "markdown",
     "metadata": {},
     "source": [
      "In addition to the direct spesification IPython has also a rehashx function, that loads the commands found in the $PATH variable so you can aexecute the without !. "
     ]
    },
    {
     "cell_type": "code",
     "collapsed": false,
     "input": [
      "%rehashx"
     ],
     "language": "python",
     "metadata": {},
     "outputs": [],
     "prompt_number": 52
    },
    {
     "cell_type": "code",
     "collapsed": false,
     "input": [
      "cm version"
     ],
     "language": "python",
     "metadata": {},
     "outputs": [
      {
       "output_type": "stream",
       "stream": "stdout",
       "text": [
        "1.0.4\r\n"
       ]
      }
     ],
     "prompt_number": 53
    },
    {
     "cell_type": "markdown",
     "metadata": {},
     "source": [
      "We are using now one of the methods to call the cm commands in the nextfollowing sections."
     ]
    },
    {
     "cell_type": "heading",
     "level": 2,
     "metadata": {},
     "source": [
      "`cm` Command"
     ]
    },
    {
     "cell_type": "markdown",
     "metadata": {},
     "source": [
      "The `cm` command has a number of options that are useful to pass a script or a command directly into cm. Please however not that in some cases the command must be quoted to avoid confusion between flags used for cm and flags used for its subcommands. Let us invoce the -h flag to see whaich options cm has."
     ]
    },
    {
     "cell_type": "code",
     "collapsed": false,
     "input": [
      "cm -h"
     ],
     "language": "python",
     "metadata": {},
     "outputs": [
      {
       "output_type": "stream",
       "stream": "stdout",
       "text": [
        "cm.\r\n",
        "\r\n",
        "    Usage:\r\n",
        "      cm [-q] help\r\n",
        "      cm [-v] [-b] [--file=SCRIPT] [-i] [COMMAND ...]\r\n",
        "\r\n",
        "    Arguments:\r\n",
        "      COMMAND                  A command to be executed\r\n",
        "\r\n",
        "    Options:\r\n",
        "      --file=SCRIPT  -f  SCRIPT  Executes the scipt\r\n",
        "      -i                 After start keep the shell interactive,\r\n",
        "                         otherwise quit [default: False]\r\n",
        "      -b                 surpress the printing of the banner [default: False]\r\n",
        "    \r\n"
       ]
      }
     ],
     "prompt_number": 54
    },
    {
     "cell_type": "heading",
     "level": 3,
     "metadata": {},
     "source": [
      "Help"
     ]
    },
    {
     "cell_type": "markdown",
     "metadata": {},
     "source": [
      "Now let us execute the help command to see what other functions are supported. As cm is based on cmd3 that you can find in pypi it inherots a number of commands from cmd3. However, more importantly it also obtains a number of commands from cm itself. To more easily distingushe the categories of the cloud related commands we introduced two of them called GUI commands and cloud commands. "
     ]
    },
    {
     "cell_type": "code",
     "collapsed": false,
     "input": [
      "cm help"
     ],
     "language": "python",
     "metadata": {},
     "outputs": [
      {
       "output_type": "stream",
       "stream": "stdout",
       "text": [
        "\r\n",
        "Documented commands (type help <topic>):\r\n",
        "========================================\r\n",
        "EOF       edit      help       label   plugins  register        user   \r\n",
        "banner    exec      image      list    project  script          var    \r\n",
        "clear     exp       info       man     py       security_group  verbose\r\n",
        "cloud     flavor    init       metric  q        storm           version\r\n",
        "defaults  graphviz  inventory  open    quit     timer           vm     \r\n",
        "dot2      group     keys       pause   rain     use             web    \r\n",
        "\r\n",
        "Gui Commands\r\n",
        "============\r\n",
        "web\r\n",
        "\r\n",
        "Cloud Commands\r\n",
        "==============\r\n",
        "cloud     group  inventory  rain            storm  keys   \r\n",
        "defaults  image  list       register        user   project\r\n",
        "flavor    init   metric     security_group  vm   \r\n",
        "\r\n"
       ]
      }
     ],
     "prompt_number": 55
    },
    {
     "cell_type": "heading",
     "level": 3,
     "metadata": {},
     "source": [
      "Starting the Web broser"
     ]
    },
    {
     "cell_type": "markdown",
     "metadata": {},
     "source": [
      "To start the browser, simply type the command "
     ]
    },
    {
     "cell_type": "markdown",
     "metadata": {},
     "source": [
      "<pre>cm web</pre>"
     ]
    },
    {
     "cell_type": "markdown",
     "metadata": {},
     "source": [
      "<img src=\"file://images/cm-splash.png\">"
     ]
    },
    {
     "cell_type": "markdown",
     "metadata": {},
     "source": [
      "<img src=\"cm-splash.png\">"
     ]
    },
    {
     "cell_type": "heading",
     "level": 3,
     "metadata": {},
     "source": [
      "Listing Clouds"
     ]
    },
    {
     "cell_type": "code",
     "collapsed": false,
     "input": [
      "cm cloud list"
     ],
     "language": "python",
     "metadata": {},
     "outputs": [
      {
       "output_type": "stream",
       "stream": "stdout",
       "text": [
        "+---------+----------+\r\n",
        "| cloud   | active   |\r\n",
        "+=========+==========+\r\n",
        "| alamo   |          |\r\n",
        "+---------+----------+\r\n",
        "| aws     |          |\r\n",
        "+---------+----------+\r\n",
        "| azure   |          |\r\n",
        "+---------+----------+\r\n",
        "| hp      |          |\r\n",
        "+---------+----------+\r\n",
        "| hp_east |          |\r\n",
        "+---------+----------+\r\n",
        "| india   | True     |\r\n",
        "+---------+----------+\r\n",
        "| sierra  | True     |\r\n",
        "+---------+----------+\r\n"
       ]
      }
     ],
     "prompt_number": 56
    },
    {
     "cell_type": "markdown",
     "metadata": {},
     "source": [
      "Let us inspect the parameters. To limit the output we just display the first 10 lines of the help/man page. We see the --column option in the list command. "
     ]
    },
    {
     "cell_type": "code",
     "collapsed": false,
     "input": [
      "cm help cloud | head -n 10 "
     ],
     "language": "python",
     "metadata": {},
     "outputs": [
      {
       "output_type": "stream",
       "stream": "stdout",
       "text": [
        "\r\n",
        "    ::\r\n",
        "\r\n",
        "        Usage:\r\n",
        "            cloud [list] [--column=COLUMN]\r\n",
        "            cloud info [CLOUD|--all]\r\n",
        "            cloud alias NAME [CLOUD]\r\n",
        "            cloud select [CLOUD]\r\n",
        "            cloud on [CLOUD]\r\n",
        "            cloud off [CLOUD]\r\n"
       ]
      }
     ],
     "prompt_number": 57
    },
    {
     "cell_type": "markdown",
     "metadata": {},
     "source": [
      "...\n",
      "\n",
      "For more information, read the help page. It essentially allows us to display some more useful information beyond to just document the active clouds. Let us also display the label. This is done with the following command."
     ]
    },
    {
     "cell_type": "code",
     "collapsed": false,
     "input": [
      "cm \"cloud list --column=active,label\""
     ],
     "language": "python",
     "metadata": {},
     "outputs": [
      {
       "output_type": "stream",
       "stream": "stdout",
       "text": [
        "+---------+----------+------------+\r\n",
        "| cloud   | active   | label      |\r\n",
        "+=========+==========+============+\r\n",
        "| alamo   |          | alamo      |\r\n",
        "+---------+----------+------------+\r\n",
        "| aws     |          | aws        |\r\n",
        "+---------+----------+------------+\r\n",
        "| azure   |          | waz        |\r\n",
        "+---------+----------+------------+\r\n",
        "| hp      |          | hpos       |\r\n",
        "+---------+----------+------------+\r\n",
        "| hp_east |          | hpeos      |\r\n",
        "+---------+----------+------------+\r\n",
        "| india   | True     | ios_havana |\r\n",
        "+---------+----------+------------+\r\n",
        "| sierra  | True     | sos        |\r\n",
        "+---------+----------+------------+\r\n"
       ]
      }
     ],
     "prompt_number": 59
    },
    {
     "cell_type": "markdown",
     "metadata": {},
     "source": [
      "Let us now demonstrate a common error by not using proper quoting. This occurs when you use option flags with the command. Here our current parser is unable to distinguish between the options passed to cm and the options as used in the cm command. "
     ]
    },
    {
     "cell_type": "code",
     "collapsed": false,
     "input": [
      "cm cloud list --column=active,label"
     ],
     "language": "python",
     "metadata": {},
     "outputs": [
      {
       "output_type": "stream",
       "stream": "stdout",
       "text": [
        "Usage:\r\n",
        "      cm [-q] help\r\n",
        "      cm [-v] [-b] [--file=SCRIPT] [-i] [COMMAND ...]\r\n"
       ]
      }
     ],
     "prompt_number": 58
    }
   ],
   "metadata": {}
  }
 ]
}