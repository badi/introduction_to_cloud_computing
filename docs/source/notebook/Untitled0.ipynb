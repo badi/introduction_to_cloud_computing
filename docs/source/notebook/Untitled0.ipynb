{
 "metadata": {
  "name": "",
  "signature": "sha256:f279dc3ff275b0ca515e5025fbaad56f12f325f7313e3ec3b6ffe16778788886"
 },
 "nbformat": 3,
 "nbformat_minor": 0,
 "worksheets": [
  {
   "cells": [
    {
     "cell_type": "markdown",
     "metadata": {},
     "source": [
      "<img src=\"../images/cm-logo.png\">"
     ]
    },
    {
     "cell_type": "code",
     "collapsed": false,
     "input": [],
     "language": "python",
     "metadata": {},
     "outputs": []
    }
   ],
   "metadata": {}
  }
 ]
}