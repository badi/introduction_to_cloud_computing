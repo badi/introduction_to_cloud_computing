{
 "metadata": {
  "name": "",
  "signature": "sha256:bfaccef5a1707fe89a0fcb6b6dd39f82126679f3bef74da2ae9b472fa6e06b55"
 },
 "nbformat": 3,
 "nbformat_minor": 0,
 "worksheets": [
  {
   "cells": [
    {
     "cell_type": "heading",
     "level": 1,
     "metadata": {},
     "source": [
      "Cloudmesh Shell"
     ]
    },
    {
     "cell_type": "heading",
     "level": 2,
     "metadata": {},
     "source": [
      "Initialization"
     ]
    },
    {
     "cell_type": "code",
     "collapsed": false,
     "input": [
      "import cloudmesh"
     ],
     "language": "python",
     "metadata": {},
     "outputs": [],
     "prompt_number": 1
    },
    {
     "cell_type": "heading",
     "level": 2,
     "metadata": {},
     "source": [
      "Activating Clouds"
     ]
    },
    {
     "cell_type": "markdown",
     "metadata": {},
     "source": [
      "In order for cloudmesh to work with multiple coulds, we need to find out first which clouds are available. Users can add their own clouds later which we describe in the registration section. \n",
      "\n",
      "Let us inspect what is already available by invoking the list command"
     ]
    },
    {
     "cell_type": "code",
     "collapsed": false,
     "input": [
      "print cloudmesh.shell(\"cloud list\")"
     ],
     "language": "python",
     "metadata": {},
     "outputs": [
      {
       "output_type": "stream",
       "stream": "stdout",
       "text": [
        "+---------+----------+\n",
        "| cloud   | active   |\n",
        "+=========+==========+\n",
        "| alamo   |          |\n",
        "+---------+----------+\n",
        "| aws     |          |\n",
        "+---------+----------+\n",
        "| azure   |          |\n",
        "+---------+----------+\n",
        "| hp      |          |\n",
        "+---------+----------+\n",
        "| hp_east |          |\n",
        "+---------+----------+\n",
        "| india   |          |\n",
        "+---------+----------+\n",
        "| sierra  |          |\n",
        "+---------+----------+\n",
        "\n"
       ]
      }
     ],
     "prompt_number": 3
    },
    {
     "cell_type": "markdown",
     "metadata": {},
     "source": [
      "As you see we have a number of clouds, but none of them is already active. Thus we need to first activate a cloud. \n",
      "We assume that you have an account on FutureGrid. Let us activate the cloud india"
     ]
    },
    {
     "cell_type": "code",
     "collapsed": false,
     "input": [
      "print cloudmesh.shell(\"cloud on india\")"
     ],
     "language": "python",
     "metadata": {},
     "outputs": [
      {
       "output_type": "stream",
       "stream": "stdout",
       "text": [
        "* india\n",
        "Refreshing gvonlasz servers india ->\n",
        "Refresh time: 0.382435083389\n",
        "Store time: 0.00305485725403\n",
        "\u001b[92mcloud 'india' activated.\u001b[0m\n",
        "\n"
       ]
      }
     ],
     "prompt_number": 4
    },
    {
     "cell_type": "markdown",
     "metadata": {},
     "source": [
      "We also have a conveniet interactive selector to select a cloud to work with, that however does not work with ipython\n",
      "        \n",
      "    \"cloud select\"\n",
      "    \n",
      "or you may also input \"cloud select india\" to select a specific cloud india"
     ]
    },
    {
     "cell_type": "markdown",
     "metadata": {},
     "source": [
      "To check if the cloud was activated, simply use the list command again"
     ]
    },
    {
     "cell_type": "code",
     "collapsed": false,
     "input": [
      "print cloudmesh.shell(\"cloud list\")"
     ],
     "language": "python",
     "metadata": {},
     "outputs": [
      {
       "output_type": "stream",
       "stream": "stdout",
       "text": [
        "+---------+----------+\n",
        "| cloud   | active   |\n",
        "+=========+==========+\n",
        "| alamo   |          |\n",
        "+---------+----------+\n",
        "| aws     |          |\n",
        "+---------+----------+\n",
        "| azure   |          |\n",
        "+---------+----------+\n",
        "| hp      |          |\n",
        "+---------+----------+\n",
        "| hp_east |          |\n",
        "+---------+----------+\n",
        "| india   | True     |\n",
        "+---------+----------+\n",
        "| sierra  |          |\n",
        "+---------+----------+\n",
        "\n"
       ]
      }
     ],
     "prompt_number": 5
    },
    {
     "cell_type": "heading",
     "level": 2,
     "metadata": {},
     "source": [
      "Starting VMs"
     ]
    },
    {
     "cell_type": "markdown",
     "metadata": {},
     "source": [
      "Now let us see how to start VMs on a cloud, here is how to start a VM on cloud india"
     ]
    },
    {
     "cell_type": "code",
     "collapsed": false,
     "input": [
      "print cloudmesh.shell(\"vm start --cloud=india --image=futuregrid/ubuntu-14.04 --flavor=m1.small\")"
     ],
     "language": "python",
     "metadata": {},
     "outputs": []
    },
    {
     "cell_type": "markdown",
     "metadata": {},
     "source": [
      "You may don't know what images or flavors are available on the cloud, or you don't want to type a long command every time you start a VM, things can get a lot easier by performing some setting up..."
     ]
    },
    {
     "cell_type": "heading",
     "level": 3,
     "metadata": {},
     "source": [
      "set default image"
     ]
    },
    {
     "cell_type": "markdown",
     "metadata": {},
     "source": [
      "You can invoke command \"cloud set image india\" to set a image interactively, however this does not work with ipython. Then we can use the following commands to get a list of images first and set default image by giving its image name or image id"
     ]
    },
    {
     "cell_type": "code",
     "collapsed": false,
     "input": [
      "print cloudmesh.shell(\"list image india --refresh\")"
     ],
     "language": "python",
     "metadata": {},
     "outputs": []
    },
    {
     "cell_type": "code",
     "collapsed": false,
     "input": [
      "print cloudmesh.shell(\"cloud set image india --image=futuregrid/ubuntu-14.04\")"
     ],
     "language": "python",
     "metadata": {},
     "outputs": []
    },
    {
     "cell_type": "heading",
     "level": 3,
     "metadata": {},
     "source": [
      "set default flavor"
     ]
    },
    {
     "cell_type": "markdown",
     "metadata": {},
     "source": [
      "Similar as setting default image, to set up default flavor interactively, \"cloud set flavor india\", otherwise you may get a list of flavors then set by giving flavor name or flavor id"
     ]
    },
    {
     "cell_type": "code",
     "collapsed": false,
     "input": [
      "print cloudmesh.shell(\"list flavor india --refresh\")"
     ],
     "language": "python",
     "metadata": {},
     "outputs": []
    },
    {
     "cell_type": "code",
     "collapsed": false,
     "input": [
      "print cloudmesh.shell(\"cloud set flavor india --flavorid=2\")"
     ],
     "language": "python",
     "metadata": {},
     "outputs": []
    },
    {
     "cell_type": "heading",
     "level": 3,
     "metadata": {},
     "source": [
      "set default cloud"
     ]
    },
    {
     "cell_type": "markdown",
     "metadata": {},
     "source": [
      "If you want to make things even more convenient, you can set a default cloud or select a cloud to work with so that you don't have to type in a cloud everytime you need to specify a cloud, to set india as default cloud"
     ]
    },
    {
     "cell_type": "code",
     "collapsed": false,
     "input": [
      "print cloudmesh.shell(\"cloud set default india\")"
     ],
     "language": "python",
     "metadata": {},
     "outputs": []
    },
    {
     "cell_type": "markdown",
     "metadata": {},
     "source": [
      "to select a cloud"
     ]
    },
    {
     "cell_type": "code",
     "collapsed": false,
     "input": [
      "print cloudmesh.shell(\"cloud select india\")"
     ],
     "language": "python",
     "metadata": {},
     "outputs": []
    },
    {
     "cell_type": "markdown",
     "metadata": {},
     "source": [
      "You can see a selected cloud as a temporarily default cloud to work with."
     ]
    },
    {
     "cell_type": "markdown",
     "metadata": {},
     "source": [
      "For more details of using command cloud to set up a cloud"
     ]
    },
    {
     "cell_type": "code",
     "collapsed": false,
     "input": [
      "print cloudmesh.shell(\"cloud -h\")"
     ],
     "language": "python",
     "metadata": {},
     "outputs": []
    },
    {
     "cell_type": "heading",
     "level": 3,
     "metadata": {},
     "source": [
      "simple way to start a VM"
     ]
    },
    {
     "cell_type": "markdown",
     "metadata": {},
     "source": [
      "After all setting up above, now you can start a VM simply by typing in"
     ]
    },
    {
     "cell_type": "code",
     "collapsed": false,
     "input": [
      "print cloudmesh.shell(\"vm start\")"
     ],
     "language": "python",
     "metadata": {},
     "outputs": []
    },
    {
     "cell_type": "heading",
     "level": 3,
     "metadata": {},
     "source": [
      "set default VM name"
     ]
    },
    {
     "cell_type": "markdown",
     "metadata": {},
     "source": [
      "If the user doesn't provide a name while starting VMs, cloudmesh will generate labels for them. The default form to name VMs is prefix_index, where prefix is a string and index is an non-negative integer. If a index is used, the index value will be automatically added by one waiting to be used for next VM. To check your current prefix and index"
     ]
    },
    {
     "cell_type": "code",
     "collapsed": false,
     "input": [
      "print cloudmesh.shell(\"label\")"
     ],
     "language": "python",
     "metadata": {},
     "outputs": []
    },
    {
     "cell_type": "markdown",
     "metadata": {},
     "source": [
      "To change the prefix and/or reset index(e.g. to abc and 3)"
     ]
    },
    {
     "cell_type": "code",
     "collapsed": false,
     "input": [
      "print cloudmesh.shell(\"label --prefix=abc --id=3\")"
     ],
     "language": "python",
     "metadata": {},
     "outputs": []
    },
    {
     "cell_type": "heading",
     "level": 2,
     "metadata": {},
     "source": [
      "Refreshing VM status"
     ]
    },
    {
     "cell_type": "markdown",
     "metadata": {},
     "source": [
      "After you have started or deleted VMs, you may want to check clouds' VMs status. To refresh cloud india's VMs information"
     ]
    },
    {
     "cell_type": "code",
     "collapsed": false,
     "input": [
      "print cloudmesh.shell(\"list vm india --refresh\")"
     ],
     "language": "python",
     "metadata": {},
     "outputs": []
    },
    {
     "cell_type": "heading",
     "level": 2,
     "metadata": {},
     "source": [
      "Starting multiple VMs"
     ]
    },
    {
     "cell_type": "markdown",
     "metadata": {},
     "source": [
      "Sometimes we want to start more than one VM at the same time, we can choose the option --count=int where int is the number of VMs you want to start. For example, to start 5 VMs on india"
     ]
    },
    {
     "cell_type": "code",
     "collapsed": false,
     "input": [
      "print cloudmesh.shell(\"vm start --cloud=india --count=5\")"
     ],
     "language": "python",
     "metadata": {},
     "outputs": []
    },
    {
     "cell_type": "heading",
     "level": 2,
     "metadata": {},
     "source": [
      "Deleting VMs "
     ]
    },
    {
     "cell_type": "markdown",
     "metadata": {},
     "source": [
      "To delete one VM is easy, what if we want to delete 1000 VMs, we need a more convenient way to do it. Cloudmesh shell provides several methods to find the VMs and delete them, you may think there are two phases of VM deletion, searching and deleting. Here are some examples:"
     ]
    },
    {
     "cell_type": "markdown",
     "metadata": {},
     "source": [
      "to delete all VMs of cloud india"
     ]
    },
    {
     "cell_type": "code",
     "collapsed": false,
     "input": [
      "print cloudmesh.shell(\"vm delete --cloud=india --force\")"
     ],
     "language": "python",
     "metadata": {},
     "outputs": []
    },
    {
     "cell_type": "markdown",
     "metadata": {},
     "source": [
      "Note here we use the option \"--force\", without it the shell will give you a list of VMs to delete and ask for your confirmation."
     ]
    },
    {
     "cell_type": "markdown",
     "metadata": {},
     "source": [
      "to delete a VM by giving its name (you may always provide a cloud unless you have specified a default cloud or have selected a cloud)"
     ]
    },
    {
     "cell_type": "code",
     "collapsed": false,
     "input": [
      "print cloudmesh.shell(\"vm delete --cloud=india abc_2 --force\")"
     ],
     "language": "python",
     "metadata": {},
     "outputs": []
    },
    {
     "cell_type": "markdown",
     "metadata": {},
     "source": [
      "to delete a VM by group"
     ]
    },
    {
     "cell_type": "code",
     "collapsed": false,
     "input": [
      "print cloudmesh.shell(\"vm delete --cloud=india --goup=testgroup --force\")"
     ],
     "language": "python",
     "metadata": {},
     "outputs": []
    },
    {
     "cell_type": "markdown",
     "metadata": {},
     "source": [
      "We can also narrow the search result by giving more search conditions. For example, to delete VMs of cloud india that they are also in the group 'testgroup' and they have the prefix name 'abc' and their indices' range is no greater than 100"
     ]
    },
    {
     "cell_type": "code",
     "collapsed": false,
     "input": [
      "print cloudmesh.shell(\"vm delete --cloud=india --goup=testgroup --prefix=abc --range=,100 --force\")"
     ],
     "language": "python",
     "metadata": {},
     "outputs": []
    },
    {
     "cell_type": "markdown",
     "metadata": {},
     "source": [
      "For more details for command vm"
     ]
    },
    {
     "cell_type": "code",
     "collapsed": false,
     "input": [
      "print cloudmesh.shell(\"vm -h\")"
     ],
     "language": "python",
     "metadata": {},
     "outputs": []
    }
   ],
   "metadata": {}
  }
 ]
}