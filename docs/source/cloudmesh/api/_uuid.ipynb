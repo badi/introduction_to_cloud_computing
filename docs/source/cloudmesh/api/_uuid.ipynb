{
 "metadata": {
  "name": "",
  "signature": "sha256:980ff244a2b175a09ff43ebc9a8e3451cc330593c9b9fabff2259fba76e86388"
 },
 "nbformat": 3,
 "nbformat_minor": 0,
 "worksheets": [
  {
   "cells": [
    {
     "cell_type": "heading",
     "level": 1,
     "metadata": {},
     "source": [
      "Defining Names"
     ]
    },
    {
     "cell_type": "markdown",
     "metadata": {},
     "source": [
      "Often we need to define some unique names to distinguish virtual machines or other objects that we use as part of our programming. Besisdes uuid that is provided by python, cloudmesh has additional functions  that simplify name generation."
     ]
    },
    {
     "cell_type": "heading",
     "level": 2,
     "metadata": {},
     "source": [
      "UUIDs"
     ]
    },
    {
     "cell_type": "markdown",
     "metadata": {},
     "source": [
      "UUIDs are provided as part of the python standard libraries. There are a number of different initializations and which to use depends on your needs. "
     ]
    },
    {
     "cell_type": "code",
     "collapsed": false,
     "input": [
      "import uuid"
     ],
     "language": "python",
     "metadata": {},
     "outputs": [],
     "prompt_number": 1
    },
    {
     "cell_type": "heading",
     "level": 2,
     "metadata": {},
     "source": [
      "Machine dependent uuid"
     ]
    },
    {
     "cell_type": "markdown",
     "metadata": {},
     "source": [
      "One of them is to create UUIDs dependent on your machine name with uuid1."
     ]
    },
    {
     "cell_type": "code",
     "collapsed": false,
     "input": [
      "uuid.uuid1()"
     ],
     "language": "python",
     "metadata": {},
     "outputs": [
      {
       "metadata": {},
       "output_type": "pyout",
       "prompt_number": 2,
       "text": [
        "UUID('cb40b7ae-43f5-11e4-b2f5-600308a5f9d2')"
       ]
      }
     ],
     "prompt_number": 2
    },
    {
     "cell_type": "heading",
     "level": 2,
     "metadata": {},
     "source": [
      "Random Uuid"
     ]
    },
    {
     "cell_type": "markdown",
     "metadata": {},
     "source": [
      "uuid4 creates random uuids."
     ]
    },
    {
     "cell_type": "code",
     "collapsed": false,
     "input": [
      "uuid.uuid4()"
     ],
     "language": "python",
     "metadata": {},
     "outputs": [
      {
       "metadata": {},
       "output_type": "pyout",
       "prompt_number": 3,
       "text": [
        "UUID('41e3f670-c816-45cb-b74c-47f43c08a795')"
       ]
      }
     ],
     "prompt_number": 3
    },
    {
     "cell_type": "markdown",
     "metadata": {},
     "source": [
      "As in some cases we want to generate names that do not include special characters such as - or . we avoid using the uuid function for now and use the function get_unique_name instaed."
     ]
    },
    {
     "cell_type": "code",
     "collapsed": false,
     "input": [
      "uuid.UUID(bytes=uuid.uuid4().bytes)"
     ],
     "language": "python",
     "metadata": {},
     "outputs": [
      {
       "metadata": {},
       "output_type": "pyout",
       "prompt_number": 4,
       "text": [
        "UUID('0ba9ce2e-8bb8-4503-9a4b-205c52d97c62')"
       ]
      }
     ],
     "prompt_number": 4
    },
    {
     "cell_type": "code",
     "collapsed": false,
     "input": [
      "uuid.uuid4().int"
     ],
     "language": "python",
     "metadata": {},
     "outputs": [
      {
       "metadata": {},
       "output_type": "pyout",
       "prompt_number": 5,
       "text": [
        "82842630962728572160157755786553046L"
       ]
      }
     ],
     "prompt_number": 5
    },
    {
     "cell_type": "heading",
     "level": 2,
     "metadata": {},
     "source": [
      "Cloudmesh get_unique_name"
     ]
    },
    {
     "cell_type": "markdown",
     "metadata": {},
     "source": [
      "Sometimes it is beneficial to create uuids without the - in it. For this we have a convenience function in cloudmesh."
     ]
    },
    {
     "cell_type": "code",
     "collapsed": false,
     "input": [
      "from cloudmesh_common.util import get_unique_name"
     ],
     "language": "python",
     "metadata": {},
     "outputs": [],
     "prompt_number": 6
    },
    {
     "cell_type": "code",
     "collapsed": false,
     "input": [
      "print get_unique_name()"
     ],
     "language": "python",
     "metadata": {},
     "outputs": [
      {
       "output_type": "stream",
       "stream": "stdout",
       "text": [
        "d1915dde43f511e4b2ca600308a5f9d2\n"
       ]
      }
     ],
     "prompt_number": 7
    },
    {
     "cell_type": "markdown",
     "metadata": {},
     "source": [
      "As you can see it is just like the uuid function (currently uuid1) with the - removed."
     ]
    },
    {
     "cell_type": "markdown",
     "metadata": {},
     "source": [
      "In addition one can place a prefix into the uuid to make furher distinctions. However this is rarely needed."
     ]
    },
    {
     "cell_type": "code",
     "collapsed": false,
     "input": [
      "get_unique_name(\"gregor\")"
     ],
     "language": "python",
     "metadata": {},
     "outputs": [
      {
       "metadata": {},
       "output_type": "pyout",
       "prompt_number": 8,
       "text": [
        "'gregord3280fa843f511e4a176600308a5f9d2'"
       ]
      }
     ],
     "prompt_number": 8
    },
    {
     "cell_type": "heading",
     "level": 2,
     "metadata": {},
     "source": [
      "Generating VM names"
     ]
    },
    {
     "cell_type": "markdown",
     "metadata": {},
     "source": [
      "To create a name for a virtual machine we often recommend to use a prefix with a number for an identifier of the virtual machine. This will come in handy when we need to start multile virtual machines and distinguish them with a different name. Cloudmesh uses internally by using your username from the FutureGrid portal as defined in the cloudmesh.yaml file."
     ]
    },
    {
     "cell_type": "code",
     "collapsed": false,
     "input": [
      "import cloudmesh"
     ],
     "language": "python",
     "metadata": {},
     "outputs": [],
     "prompt_number": 9
    },
    {
     "cell_type": "code",
     "collapsed": false,
     "input": [
      "print cloudmesh.vm_name(\"gregor\", 1)"
     ],
     "language": "python",
     "metadata": {},
     "outputs": [
      {
       "output_type": "stream",
       "stream": "stdout",
       "text": [
        "gregor-00001\n"
       ]
      }
     ],
     "prompt_number": 10
    },
    {
     "cell_type": "heading",
     "level": 2,
     "metadata": {},
     "source": [
      "Getting the next vm name"
     ]
    },
    {
     "cell_type": "markdown",
     "metadata": {},
     "source": [
      "Here is how to get the next vm name by using Cloudmesh API, this method gets the data from database. Before call vmname(), we need to get the username and activate the user account."
     ]
    },
    {
     "cell_type": "code",
     "collapsed": false,
     "input": [
      "mesh = cloudmesh.mesh(\"mongo\")"
     ],
     "language": "python",
     "metadata": {},
     "outputs": [],
     "prompt_number": 11
    },
    {
     "cell_type": "code",
     "collapsed": false,
     "input": [
      "username = cloudmesh.load().username()"
     ],
     "language": "python",
     "metadata": {},
     "outputs": [],
     "prompt_number": 12
    },
    {
     "cell_type": "code",
     "collapsed": false,
     "input": [
      "mesh.activate(username)"
     ],
     "language": "python",
     "metadata": {},
     "outputs": [
      {
       "output_type": "stream",
       "stream": "stdout",
       "text": [
        "* india\n",
        "Refreshing gvonlasz servers india ->\n",
        "Refresh time:"
       ]
      },
      {
       "output_type": "stream",
       "stream": "stdout",
       "text": [
        " 0.290459156036\n",
        "Store time:"
       ]
      },
      {
       "output_type": "stream",
       "stream": "stdout",
       "text": [
        " 0.074816942215\n"
       ]
      }
     ],
     "prompt_number": 13
    },
    {
     "cell_type": "code",
     "collapsed": false,
     "input": [
      "mesh.vmname()"
     ],
     "language": "python",
     "metadata": {},
     "outputs": [
      {
       "metadata": {},
       "output_type": "pyout",
       "prompt_number": 14,
       "text": [
        "u'gvonlasz_7'"
       ]
      }
     ],
     "prompt_number": 14
    },
    {
     "cell_type": "code",
     "collapsed": false,
     "input": [],
     "language": "python",
     "metadata": {},
     "outputs": []
    }
   ],
   "metadata": {}
  }
 ]
}