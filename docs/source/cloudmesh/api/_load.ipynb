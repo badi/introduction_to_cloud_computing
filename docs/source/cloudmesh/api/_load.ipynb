{
 "metadata": {
  "name": "",
  "signature": "sha256:8cddd72bc74f3fb11784de83eab80c61e6d12f66ec94da13104cc1d6e17ab417"
 },
 "nbformat": 3,
 "nbformat_minor": 0,
 "worksheets": [
  {
   "cells": [
    {
     "cell_type": "heading",
     "level": 1,
     "metadata": {},
     "source": [
      "Load Command"
     ]
    },
    {
     "cell_type": "markdown",
     "metadata": {},
     "source": [
      "CLoudmesh comes with a number f easy to use configuration files. All of them are yaml files. These configuration files configure certain aspects. They are important when cloudmesh starts up or is run in user more. In server mode the information is typically retrieved from the cloudmesh database.\n",
      "\n",
      "We focus here on some of the most important configuration files. After deployment they can be found in the `~/.cloudmesh` directory"
     ]
    },
    {
     "cell_type": "heading",
     "level": 2,
     "metadata": {},
     "source": [
      "API for cloudmesh.yaml"
     ]
    },
    {
     "cell_type": "markdown",
     "metadata": {},
     "source": [
      "Information about the user and which clouds he has access to are stored in the `cloudmesh.yaml` file. "
     ]
    },
    {
     "cell_type": "code",
     "collapsed": false,
     "input": [
      "import cloudmesh"
     ],
     "language": "python",
     "metadata": {},
     "outputs": [],
     "prompt_number": 14
    },
    {
     "cell_type": "code",
     "collapsed": false,
     "input": [
      "user = cloudmesh.load()"
     ],
     "language": "python",
     "metadata": {},
     "outputs": [],
     "prompt_number": 15
    },
    {
     "cell_type": "code",
     "collapsed": false,
     "input": [
      "user.cloudnames()"
     ],
     "language": "python",
     "metadata": {},
     "outputs": [
      {
       "metadata": {},
       "output_type": "pyout",
       "prompt_number": 16,
       "text": [
        "['alamo', 'hp_east', 'sierra', 'aws', 'hp', 'india', 'azure']"
       ]
      }
     ],
     "prompt_number": 16
    },
    {
     "cell_type": "code",
     "collapsed": false,
     "input": [
      "user.firstname"
     ],
     "language": "python",
     "metadata": {},
     "outputs": [
      {
       "metadata": {},
       "output_type": "pyout",
       "prompt_number": 17,
       "text": [
        "'Gregor'"
       ]
      }
     ],
     "prompt_number": 17
    },
    {
     "cell_type": "code",
     "collapsed": false,
     "input": [
      "user.lastname"
     ],
     "language": "python",
     "metadata": {},
     "outputs": [
      {
       "metadata": {},
       "output_type": "pyout",
       "prompt_number": 18,
       "text": [
        "'von Laszewski'"
       ]
      }
     ],
     "prompt_number": 18
    },
    {
     "cell_type": "markdown",
     "metadata": {},
     "source": [
      "To obtain the futuregrid username use the command `user.username()`"
     ]
    },
    {
     "cell_type": "heading",
     "level": 2,
     "metadata": {},
     "source": [
      "API for cloudmesh_server.yaml"
     ]
    },
    {
     "cell_type": "markdown",
     "metadata": {},
     "source": [
      "To configure the server and the databases the server yaml file is used. via the load command it will be loaded into a dict. A special get function can get sub dictionaries."
     ]
    },
    {
     "cell_type": "code",
     "collapsed": false,
     "input": [
      "config = cloudmesh.load(\"server\")"
     ],
     "language": "python",
     "metadata": {},
     "outputs": [],
     "prompt_number": 20
    },
    {
     "cell_type": "code",
     "collapsed": false,
     "input": [
      "print config.keys()"
     ],
     "language": "python",
     "metadata": {},
     "outputs": [
      {
       "output_type": "stream",
       "stream": "stdout",
       "text": [
        "['kind', 'cloudmesh', 'meta']\n"
       ]
      }
     ],
     "prompt_number": 21
    },
    {
     "cell_type": "code",
     "collapsed": false,
     "input": [
      "config.get('meta').keys()"
     ],
     "language": "python",
     "metadata": {},
     "outputs": [
      {
       "metadata": {},
       "output_type": "pyout",
       "prompt_number": 22,
       "text": [
        "['yaml_version', 'kind', 'prefix', 'location', 'filename']"
       ]
      }
     ],
     "prompt_number": 22
    },
    {
     "cell_type": "code",
     "collapsed": false,
     "input": [
      "config.get('meta.filename')"
     ],
     "language": "python",
     "metadata": {},
     "outputs": [
      {
       "metadata": {},
       "output_type": "pyout",
       "prompt_number": 23,
       "text": [
        "'/Users/flat/.cloudmesh/cloudmesh_server.yaml'"
       ]
      }
     ],
     "prompt_number": 23
    },
    {
     "cell_type": "code",
     "collapsed": false,
     "input": [
      "print config.get('cloudmesh').keys()"
     ],
     "language": "python",
     "metadata": {},
     "outputs": [
      {
       "output_type": "stream",
       "stream": "stdout",
       "text": [
        "['server']\n"
       ]
      }
     ],
     "prompt_number": 24
    },
    {
     "cell_type": "heading",
     "level": 2,
     "metadata": {},
     "source": [
      "API for cloudmesh_launcher.yaml"
     ]
    },
    {
     "cell_type": "markdown",
     "metadata": {},
     "source": [
      "We are currently working on integrating PaaS launchers into cloudmesh that easily deploy software based on configuration parameters specified in the launchers. The specification of the launchers are stored under `cloudmesh.launcher.recipies`. We provide the information for such a launcher as an example."
     ]
    },
    {
     "cell_type": "code",
     "collapsed": false,
     "input": [
      "config = cloudmesh.load(\"launcher\")"
     ],
     "language": "python",
     "metadata": {},
     "outputs": [],
     "prompt_number": 25
    },
    {
     "cell_type": "code",
     "collapsed": false,
     "input": [
      "print config.keys()"
     ],
     "language": "python",
     "metadata": {},
     "outputs": [
      {
       "output_type": "stream",
       "stream": "stdout",
       "text": [
        "['kind', 'cloudmesh', 'meta']\n"
       ]
      }
     ],
     "prompt_number": 26
    },
    {
     "cell_type": "code",
     "collapsed": false,
     "input": [
      "config.get('cloudmesh').keys()"
     ],
     "language": "python",
     "metadata": {},
     "outputs": [
      {
       "metadata": {},
       "output_type": "pyout",
       "prompt_number": 27,
       "text": [
        "['launcher']"
       ]
      }
     ],
     "prompt_number": 27
    },
    {
     "cell_type": "code",
     "collapsed": false,
     "input": [
      "config.get('cloudmesh.launcher').keys()"
     ],
     "language": "python",
     "metadata": {},
     "outputs": [
      {
       "metadata": {},
       "output_type": "pyout",
       "prompt_number": 28,
       "text": [
        "['recipies']"
       ]
      }
     ],
     "prompt_number": 28
    },
    {
     "cell_type": "code",
     "collapsed": false,
     "input": [
      "config.get('cloudmesh.launcher.recipies').keys()"
     ],
     "language": "python",
     "metadata": {},
     "outputs": [
      {
       "metadata": {},
       "output_type": "pyout",
       "prompt_number": 29,
       "text": [
        "['mooc', 'nagios', 'slurm', 'ganglia', 'hadoop']"
       ]
      }
     ],
     "prompt_number": 29
    },
    {
     "cell_type": "code",
     "collapsed": false,
     "input": [
      "from pprint import pprint \n",
      "pprint (config.get('cloudmesh.launcher.recipies.mooc'))"
     ],
     "language": "python",
     "metadata": {},
     "outputs": [
      {
       "output_type": "stream",
       "stream": "stdout",
       "text": [
        "{'description': 'Deploys a Slurm cluster. One of the Vms is the Master, while the others register with the master as worker nodes. The master will be the first node in the list.\\n',\n",
        " 'image': '/static/img/launcher/mooc.png',\n",
        " 'label': 'slurm',\n",
        " 'name': 'Mooc',\n",
        " 'parameters': [{'nodes': {'type': 'integer', 'value': 1}},\n",
        "                {'other': {'type': 'float', 'value': 5.0}},\n",
        "                {'types': {'type': 'string',\n",
        "                           'value': 'enter vm or bare metal'}},\n",
        "                {'selector': {'type': 'selector',\n",
        "                              'value': ['vm', 'baremetal', 'xyz']}},\n",
        "                {'cloud': {'type': 'selector', 'value': ['india', 'sierra']}}],\n",
        " 'script': {'type': 'sh',\n",
        "            'value': 'echo \"hello\" {{ selector }} -np {{ nodes }}'}}\n"
       ]
      }
     ],
     "prompt_number": 30
    },
    {
     "cell_type": "code",
     "collapsed": false,
     "input": [],
     "language": "python",
     "metadata": {},
     "outputs": [],
     "prompt_number": 30
    }
   ],
   "metadata": {}
  }
 ]
}