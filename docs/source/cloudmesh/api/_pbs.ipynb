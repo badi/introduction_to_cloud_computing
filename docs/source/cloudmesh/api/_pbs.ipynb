{
 "metadata": {
  "name": "",
  "signature": "sha256:312eafdbd844f42fad85a3b497ea4c2322f9cd5771839deff5af40222a8e55c8"
 },
 "nbformat": 3,
 "nbformat_minor": 0,
 "worksheets": [
  {
   "cells": [
    {
     "cell_type": "heading",
     "level": 1,
     "metadata": {},
     "source": [
      "Batch Queues"
     ]
    },
    {
     "cell_type": "markdown",
     "metadata": {},
     "source": [
      "Cloudmesh includes a convenient interface to PBS qstat. It is using an ssh command to connect to the login node on which to execute qstat. The result of the call is available as a dict and you can print it to inspect it closer. \n",
      "\n",
      "In addition cloudmesh has a customization that alloes resources in FUturegrid to be seperated by machine. This is necessary as the login node on india is also in control of the queues on a number of machines instead of just one. \n",
      "\n",
      "The username for FutureGrid is loaded from the configuration yaml file in the example"
     ]
    },
    {
     "cell_type": "code",
     "collapsed": false,
     "input": [
      "import cloudmesh"
     ],
     "language": "python",
     "metadata": {},
     "outputs": [],
     "prompt_number": 1
    },
    {
     "cell_type": "code",
     "collapsed": false,
     "input": [
      "username = cloudmesh.load().username()"
     ],
     "language": "python",
     "metadata": {},
     "outputs": [],
     "prompt_number": 2
    },
    {
     "cell_type": "code",
     "collapsed": false,
     "input": [
      "india = cloudmesh.PBS(username, \"india.futuregrid.org\")"
     ],
     "language": "python",
     "metadata": {},
     "outputs": [],
     "prompt_number": 3
    },
    {
     "cell_type": "heading",
     "level": 3,
     "metadata": {},
     "source": [
      "QStat"
     ]
    },
    {
     "cell_type": "code",
     "collapsed": false,
     "input": [
      "qstat = india.qstat()"
     ],
     "language": "python",
     "metadata": {},
     "outputs": [],
     "prompt_number": 4
    },
    {
     "cell_type": "markdown",
     "metadata": {},
     "source": [
      "Next, let us list the nuber of clusters managed with the india PBS deployment"
     ]
    },
    {
     "cell_type": "code",
     "collapsed": false,
     "input": [
      "qstat.keys()"
     ],
     "language": "python",
     "metadata": {},
     "outputs": [
      {
       "metadata": {},
       "output_type": "pyout",
       "prompt_number": 5,
       "text": [
        "['echo.futuregrid.org',\n",
        " 'india.futuregrid.org',\n",
        " 'delta.futuregrid.org',\n",
        " 'bravo.futuregrid.org']"
       ]
      }
     ],
     "prompt_number": 5
    },
    {
     "cell_type": "code",
     "collapsed": false,
     "input": [
      "qstat[\"india.futuregrid.org\"].keys()"
     ],
     "language": "python",
     "metadata": {},
     "outputs": [
      {
       "metadata": {},
       "output_type": "pyout",
       "prompt_number": 6,
       "text": [
        "[u'1979086.i136',\n",
        " u'1978990.i136',\n",
        " u'1979049.i136',\n",
        " u'1979053.i136',\n",
        " u'1979043.i136',\n",
        " u'1945306.i136',\n",
        " u'1979047.i136',\n",
        " u'1979027.i136',\n",
        " u'1979079.i136',\n",
        " u'1979070.i136',\n",
        " u'1979025.i136',\n",
        " u'1978995.i136',\n",
        " u'1972832.i136',\n",
        " u'1979020.i136',\n",
        " u'1979075.i136',\n",
        " u'1979090.i136',\n",
        " u'1979031.i136',\n",
        " u'1979030.i136',\n",
        " u'1979050.i136',\n",
        " u'1979080.i136',\n",
        " u'1979034.i136',\n",
        " u'1979000.i136',\n",
        " u'1979018.i136',\n",
        " u'1979048.i136',\n",
        " u'1979046.i136',\n",
        " u'1979062.i136',\n",
        " u'1979068.i136',\n",
        " u'1979087.i136',\n",
        " u'1979057.i136',\n",
        " u'1979083.i136',\n",
        " u'1979089.i136',\n",
        " u'1979029.i136',\n",
        " u'1979004.i136',\n",
        " u'1979005.i136',\n",
        " u'1979067.i136',\n",
        " u'1978994.i136',\n",
        " u'1979042.i136',\n",
        " u'1979051.i136',\n",
        " u'1979013.i136',\n",
        " u'1979037.i136',\n",
        " u'1979058.i136',\n",
        " u'1979052.i136',\n",
        " u'1979076.i136',\n",
        " u'1979017.i136',\n",
        " u'1979044.i136',\n",
        " u'1978997.i136',\n",
        " u'1979064.i136',\n",
        " u'1979074.i136',\n",
        " u'1979026.i136',\n",
        " u'1979063.i136',\n",
        " u'1979032.i136',\n",
        " u'1979008.i136',\n",
        " u'1979019.i136',\n",
        " u'1979066.i136',\n",
        " u'1979002.i136',\n",
        " u'1979073.i136',\n",
        " u'1979056.i136',\n",
        " u'1978962.i136',\n",
        " u'1979022.i136',\n",
        " u'1979085.i136',\n",
        " u'1979072.i136',\n",
        " u'1979023.i136',\n",
        " u'1979077.i136',\n",
        " u'1979035.i136',\n",
        " u'1979007.i136',\n",
        " u'1979069.i136',\n",
        " u'1979039.i136',\n",
        " u'1978996.i136',\n",
        " u'1979040.i136',\n",
        " u'1956966.i136',\n",
        " u'1979010.i136',\n",
        " u'1979081.i136',\n",
        " u'1979054.i136',\n",
        " u'1979078.i136',\n",
        " u'1979012.i136',\n",
        " u'1979009.i136',\n",
        " u'1979084.i136',\n",
        " u'1979036.i136',\n",
        " u'1979082.i136',\n",
        " u'1979033.i136',\n",
        " u'1979024.i136',\n",
        " u'1978993.i136',\n",
        " u'1979015.i136',\n",
        " u'1979045.i136',\n",
        " u'1979065.i136',\n",
        " u'1979014.i136',\n",
        " u'1979001.i136',\n",
        " u'1979011.i136',\n",
        " u'1978992.i136',\n",
        " u'1930290.i136',\n",
        " u'1979021.i136',\n",
        " u'1979016.i136',\n",
        " u'1979003.i136',\n",
        " u'1979071.i136',\n",
        " u'1979059.i136',\n",
        " u'1979006.i136',\n",
        " u'1979060.i136',\n",
        " u'1979041.i136',\n",
        " u'1978999.i136',\n",
        " u'1979061.i136',\n",
        " u'1979088.i136',\n",
        " u'1978998.i136',\n",
        " u'1979028.i136',\n",
        " u'1979038.i136',\n",
        " u'1979055.i136']"
       ]
      }
     ],
     "prompt_number": 6
    },
    {
     "cell_type": "code",
     "collapsed": false,
     "input": [
      "for jobname in qstat[\"india.futuregrid.org\"]:\n",
      "    job = qstat[\"india.futuregrid.org\"][jobname]\n",
      "    print jobname, job[\"job_state\"]"
     ],
     "language": "python",
     "metadata": {},
     "outputs": [
      {
       "output_type": "stream",
       "stream": "stdout",
       "text": [
        "1979086.i136 C\n",
        "1978990.i136 C\n",
        "1979049.i136 C\n",
        "1979053.i136 C\n",
        "1979043.i136 C\n",
        "1945306.i136 R\n",
        "1979047.i136 C\n",
        "1979027.i136 C\n",
        "1979079.i136 C\n",
        "1979070.i136 C\n",
        "1979025.i136 C\n",
        "1978995.i136 C\n",
        "1972832.i136 H\n",
        "1979020.i136 C\n",
        "1979075.i136 C\n",
        "1979090.i136 Q\n",
        "1979031.i136 C\n",
        "1979030.i136 C\n",
        "1979050.i136 C\n",
        "1979080.i136 C\n",
        "1979034.i136 C\n",
        "1979000.i136 C\n",
        "1979018.i136 C\n",
        "1979048.i136 C\n",
        "1979046.i136 C\n",
        "1979062.i136 C\n",
        "1979068.i136 C\n",
        "1979087.i136 C\n",
        "1979057.i136 C\n",
        "1979083.i136 C\n",
        "1979089.i136 C\n",
        "1979029.i136 C\n",
        "1979004.i136 C\n",
        "1979005.i136 C\n",
        "1979067.i136 C\n",
        "1978994.i136 C\n",
        "1979042.i136 C\n",
        "1979051.i136 C\n",
        "1979013.i136 C\n",
        "1979037.i136 C\n",
        "1979058.i136 C\n",
        "1979052.i136 C\n",
        "1979076.i136 C\n",
        "1979017.i136 C\n",
        "1979044.i136 C\n",
        "1978997.i136 C\n",
        "1979064.i136 C\n",
        "1979074.i136 C\n",
        "1979026.i136 C\n",
        "1979063.i136 C\n",
        "1979032.i136 C\n",
        "1979008.i136 C\n",
        "1979019.i136 C\n",
        "1979066.i136 C\n",
        "1979002.i136 C\n",
        "1979073.i136 C\n",
        "1979056.i136 C\n",
        "1978962.i136 C\n",
        "1979022.i136 C\n",
        "1979085.i136 C\n",
        "1979072.i136 C\n",
        "1979023.i136 C\n",
        "1979077.i136 C\n",
        "1979035.i136 C\n",
        "1979007.i136 C\n",
        "1979069.i136 C\n",
        "1979039.i136 C\n",
        "1978996.i136 C\n",
        "1979040.i136 C\n",
        "1956966.i136 H\n",
        "1979010.i136 C\n",
        "1979081.i136 C\n",
        "1979054.i136 C\n",
        "1979078.i136 C\n",
        "1979012.i136 C\n",
        "1979009.i136 C\n",
        "1979084.i136 C\n",
        "1979036.i136 C\n",
        "1979082.i136 C\n",
        "1979033.i136 C\n",
        "1979024.i136 C\n",
        "1978993.i136 C\n",
        "1979015.i136 C\n",
        "1979045.i136 C\n",
        "1979065.i136 C\n",
        "1979014.i136 C\n",
        "1979001.i136 C\n",
        "1979011.i136 C\n",
        "1978992.i136 C\n",
        "1930290.i136 R\n",
        "1979021.i136 C\n",
        "1979016.i136 C\n",
        "1979003.i136 C\n",
        "1979071.i136 C\n",
        "1979059.i136 C\n",
        "1979006.i136 C\n",
        "1979060.i136 C\n",
        "1979041.i136 C\n",
        "1978999.i136 C\n",
        "1979061.i136 C\n",
        "1979088.i136 C\n",
        "1978998.i136 C\n",
        "1979028.i136 C\n",
        "1979038.i136 C\n",
        "1979055.i136 C\n"
       ]
      }
     ],
     "prompt_number": 7
    },
    {
     "cell_type": "heading",
     "level": 3,
     "metadata": {},
     "source": [
      "QInfo"
     ]
    },
    {
     "cell_type": "code",
     "collapsed": false,
     "input": [
      "qinfo = india.qinfo()"
     ],
     "language": "python",
     "metadata": {},
     "outputs": [],
     "prompt_number": 8
    },
    {
     "cell_type": "markdown",
     "metadata": {},
     "source": [
      "To list the queue names, simply print the keys. "
     ]
    },
    {
     "cell_type": "code",
     "collapsed": false,
     "input": [
      "print qinfo[\"india.futuregrid.org\"].keys()"
     ],
     "language": "python",
     "metadata": {},
     "outputs": [
      {
       "output_type": "stream",
       "stream": "stdout",
       "text": [
        "['reserved', 'systest', 'batch', 'b534', 'long', 'interactive']\n"
       ]
      }
     ],
     "prompt_number": 10
    },
    {
     "cell_type": "markdown",
     "metadata": {},
     "source": [
      "More information is available when you inspect the dict."
     ]
    }
   ],
   "metadata": {}
  }
 ]
}