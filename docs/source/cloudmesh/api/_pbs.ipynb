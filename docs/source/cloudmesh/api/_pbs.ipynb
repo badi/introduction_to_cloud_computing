{
 "metadata": {
  "name": "",
  "signature": "sha256:adb004797a4913c3d3643a0bb3f1e9a46db80715119a0fe5587e208bbc558070"
 },
 "nbformat": 3,
 "nbformat_minor": 0,
 "worksheets": [
  {
   "cells": [
    {
     "cell_type": "heading",
     "level": 1,
     "metadata": {},
     "source": [
      "Batch Queues"
     ]
    },
    {
     "cell_type": "markdown",
     "metadata": {},
     "source": [
      "Cloudmesh includes a convenient interface to PBS qstat. It is using an ssh command to connect to the login node on which to execute qstat. The result of the call is available as a dict and you can print it to inspect it closer. \n",
      "\n",
      "In addition cloudmesh has a customization that alloes resources in FUturegrid to be seperated by machine. This is necessary as the login node on india is also in control of the queues on a number of machines instead of just one. \n",
      "\n",
      "The username for FutureGrid is loaded from the configuration yaml file in the example"
     ]
    },
    {
     "cell_type": "code",
     "collapsed": false,
     "input": [
      "import cloudmesh"
     ],
     "language": "python",
     "metadata": {},
     "outputs": [],
     "prompt_number": 3
    },
    {
     "cell_type": "code",
     "collapsed": false,
     "input": [
      "username = cloudmesh.load().username()"
     ],
     "language": "python",
     "metadata": {},
     "outputs": [],
     "prompt_number": 4
    },
    {
     "cell_type": "code",
     "collapsed": false,
     "input": [
      "india = cloudmesh.PBS(username, \"india.futuregrid.org\")"
     ],
     "language": "python",
     "metadata": {},
     "outputs": [],
     "prompt_number": 5
    },
    {
     "cell_type": "heading",
     "level": 3,
     "metadata": {},
     "source": [
      "QStat"
     ]
    },
    {
     "cell_type": "code",
     "collapsed": false,
     "input": [
      "qstat = india.qstat()"
     ],
     "language": "python",
     "metadata": {},
     "outputs": [],
     "prompt_number": 6
    },
    {
     "cell_type": "markdown",
     "metadata": {},
     "source": [
      "Next, let us list the nuber of clusters managed with the india PBS deployment"
     ]
    },
    {
     "cell_type": "code",
     "collapsed": false,
     "input": [
      "qstat.keys()"
     ],
     "language": "python",
     "metadata": {},
     "outputs": [
      {
       "metadata": {},
       "output_type": "pyout",
       "prompt_number": 7,
       "text": [
        "['echo.futuregrid.org',\n",
        " 'india.futuregrid.org',\n",
        " 'delta.futuregrid.org',\n",
        " 'bravo.futuregrid.org']"
       ]
      }
     ],
     "prompt_number": 7
    },
    {
     "cell_type": "code",
     "collapsed": false,
     "input": [
      "qstat[\"india.futuregrid.org\"].keys()"
     ],
     "language": "python",
     "metadata": {},
     "outputs": [
      {
       "metadata": {},
       "output_type": "pyout",
       "prompt_number": 8,
       "text": [
        "[u'1906163.i136',\n",
        " u'1906085.i136',\n",
        " u'1906155.i136',\n",
        " u'1906160.i136',\n",
        " u'1906164.i136',\n",
        " u'1906161.i136',\n",
        " u'1906086.i136',\n",
        " u'1906088.i136',\n",
        " u'1906084.i136',\n",
        " u'1906162.i136',\n",
        " u'1906087.i136',\n",
        " u'1906154.i136']"
       ]
      }
     ],
     "prompt_number": 8
    },
    {
     "cell_type": "code",
     "collapsed": false,
     "input": [
      "for jobname in qstat[\"india.futuregrid.org\"]:\n",
      "    job = qstat[\"india.futuregrid.org\"][jobname]\n",
      "    print jobname, job[\"job_state\"]"
     ],
     "language": "python",
     "metadata": {},
     "outputs": [
      {
       "output_type": "stream",
       "stream": "stdout",
       "text": [
        "1906163.i136 H\n",
        "1906085.i136 R\n",
        "1906155.i136 R\n",
        "1906160.i136 H\n",
        "1906164.i136 H\n",
        "1906161.i136 H\n",
        "1906086.i136 R\n",
        "1906088.i136 R\n",
        "1906084.i136 R\n",
        "1906162.i136 H\n",
        "1906087.i136 R\n",
        "1906154.i136 Q\n"
       ]
      }
     ],
     "prompt_number": 9
    },
    {
     "cell_type": "heading",
     "level": 3,
     "metadata": {},
     "source": [
      "QInfo"
     ]
    },
    {
     "cell_type": "code",
     "collapsed": false,
     "input": [
      "qinfo = india.qinfo()"
     ],
     "language": "python",
     "metadata": {},
     "outputs": [],
     "prompt_number": 11
    },
    {
     "cell_type": "code",
     "collapsed": false,
     "input": [
      "To list the queue names, simply print the keys. "
     ],
     "language": "python",
     "metadata": {},
     "outputs": []
    },
    {
     "cell_type": "code",
     "collapsed": false,
     "input": [
      "print qinfo[\"india.futuregrid.org\"].keys()"
     ],
     "language": "python",
     "metadata": {},
     "outputs": [
      {
       "output_type": "stream",
       "stream": "stdout",
       "text": [
        "['reserved', 'systest', 'batch', 'b534', 'long', 'interactive']\n"
       ]
      }
     ],
     "prompt_number": 14
    },
    {
     "cell_type": "markdown",
     "metadata": {},
     "source": [
      "More information is available when you inspect the dict."
     ]
    },
    {
     "cell_type": "code",
     "collapsed": false,
     "input": [],
     "language": "python",
     "metadata": {},
     "outputs": []
    }
   ],
   "metadata": {}
  }
 ]
}