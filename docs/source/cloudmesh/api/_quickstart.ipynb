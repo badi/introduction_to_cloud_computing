{
 "metadata": {
  "name": "",
  "signature": "sha256:d69dfb8477b08146f4bf7399fdf3ca1775fe9af8ad49ad8117d14b0ccb351658"
 },
 "nbformat": 3,
 "nbformat_minor": 0,
 "worksheets": [
  {
   "cells": [
    {
     "cell_type": "markdown",
     "metadata": {},
     "source": [
      "Cloudmesh API Quick Start\n",
      "=========================\n",
      "\n",
      "In python, Cloudmesh supports cloud management through simple steps. This page shows how to use Cloudmesh functions in python by introducing a  few examples, e.g. launching or terminating vm instances.\n",
      "\n",
      "This is about *[m.py](https://github.com/cloudmesh/cloudmesh/blob/master/m.py)* script in cloudmesh."
     ]
    },
    {
     "cell_type": "markdown",
     "metadata": {},
     "source": [
      "Import Cloudmesh\n",
      "-----------------\n",
      "A simple import allows you to enable all features of Cloudmesh in Python."
     ]
    },
    {
     "cell_type": "code",
     "collapsed": false,
     "input": [
      "import cloudmesh"
     ],
     "language": "python",
     "metadata": {},
     "outputs": [],
     "prompt_number": 1
    },
    {
     "cell_type": "markdown",
     "metadata": {},
     "source": [
      "Choose a place to initialize\n",
      "-----------------------------\n",
      "\n",
      "Cloudmesh provides *yaml* or *mongo* option where to load basic information. *yaml* relies on the yaml files in the $HOME/.cloudmesh directory, *mongo* retrieves information from the mongo database."
     ]
    },
    {
     "cell_type": "code",
     "collapsed": false,
     "input": [
      "mesh = cloudmesh.mesh(\"mongo\")"
     ],
     "language": "python",
     "metadata": {},
     "outputs": [],
     "prompt_number": 2
    },
    {
     "cell_type": "markdown",
     "metadata": {},
     "source": [
      "Get a username\n",
      "-----------------\n",
      "In most Cloudmesh functions, you need to provide a username to tell the server who is going to use cloud services."
     ]
    },
    {
     "cell_type": "code",
     "collapsed": false,
     "input": [
      "username = cloudmesh.load().username()"
     ],
     "language": "python",
     "metadata": {},
     "outputs": [],
     "prompt_number": 3
    },
    {
     "cell_type": "markdown",
     "metadata": {},
     "source": [
      "Activate the user account\n",
      "---------------------------\n",
      "With the activation, Cloudmesh is verified to connect IaaS cloud services."
     ]
    },
    {
     "cell_type": "code",
     "collapsed": false,
     "input": [
      "mesh.activate(username)"
     ],
     "language": "python",
     "metadata": {},
     "outputs": [],
     "prompt_number": 22
    },
    {
     "cell_type": "markdown",
     "metadata": {},
     "source": [
      "Get Flavors\n",
      "------------\n",
      "\n",
      "Available flavors can be listed with the following function."
     ]
    },
    {
     "cell_type": "code",
     "collapsed": false,
     "input": [
      "mesh.flavors(cm_user_id=username, clouds=[\"india\"])"
     ],
     "language": "python",
     "metadata": {},
     "outputs": [],
     "prompt_number": 22
    },
    {
     "cell_type": "markdown",
     "metadata": {},
     "source": [
      "refresh function updates the data from the IaaS cloud. The cached data in the mongo database will be updated."
     ]
    },
    {
     "cell_type": "code",
     "collapsed": false,
     "input": [
      "mesh.refresh(username,types=['flavors'],names=[\"india\"])"
     ],
     "language": "python",
     "metadata": {},
     "outputs": [],
     "prompt_number": 15
    },
    {
     "cell_type": "markdown",
     "metadata": {},
     "source": [
      "Start VM\n",
      "---------\n",
      "\n",
      "A simple function *start* provides a quick launch of vm instances in cloudmesh."
     ]
    },
    {
     "cell_type": "code",
     "collapsed": false,
     "input": [
      "result = mesh.start(cloud, username)"
     ],
     "language": "python",
     "metadata": {},
     "outputs": []
    },
    {
     "cell_type": "markdown",
     "metadata": {},
     "source": [
      "Delete VM\n",
      "----------\n",
      "\n",
      "If you know the id of the virtual machine that you want to destroy, *delete* funcion in cloudmesh simply terminate the instance.\n",
      "This example deletes the vm that we just launched above by getting the id from the result dict."
     ]
    },
    {
     "cell_type": "code",
     "collapsed": false,
     "input": [
      "server = result['server']['id']\n",
      "mesh.delete(cloud, server, username)"
     ],
     "language": "python",
     "metadata": {},
     "outputs": [],
     "prompt_number": 6
    },
    {
     "cell_type": "markdown",
     "metadata": {},
     "source": [
      "VM Images\n",
      "------------\n",
      "The functions about vm images provide an available vm images on a selected cloud."
     ]
    },
    {
     "cell_type": "code",
     "collapsed": false,
     "input": [
      "mesh.images(clouds=['india'],cm_user_id=username)"
     ],
     "language": "python",
     "metadata": {},
     "outputs": [],
     "prompt_number": 4
    },
    {
     "cell_type": "markdown",
     "metadata": {},
     "source": [
      "### Select a image\n",
      "If you know the name of the vm image, you can specify the vm image to user it later. In this example, we choose Ubuntu trusty 14.04 image."
     ]
    },
    {
     "cell_type": "code",
     "collapsed": false,
     "input": [
      "image=mesh.image('india','futuregrid/ubuntu-14.04')"
     ],
     "language": "python",
     "metadata": {},
     "outputs": [],
     "prompt_number": 9
    },
    {
     "cell_type": "markdown",
     "metadata": {},
     "source": [
      "### Select a flavor\n",
      "Flavor is also selectable. The selected image or flavor can be used to set a default image or a default flavor."
     ]
    },
    {
     "cell_type": "code",
     "collapsed": false,
     "input": [
      "flavor = mesh.flavor('india', 'm1.small')"
     ],
     "language": "python",
     "metadata": {},
     "outputs": [],
     "prompt_number": 17
    },
    {
     "cell_type": "markdown",
     "metadata": {},
     "source": [
      "Set a default flavor or image\n",
      "------------------------------\n",
      "Each cloud must have a default image or a default flavor to launch vm instances in a simple step. default function provides a way to set default values for an image and a flavor.\n",
      "In this example, we use *image*, *flavor* variables which created from the examples above."
     ]
    },
    {
     "cell_type": "markdown",
     "metadata": {},
     "source": [
      "### Need a help for the function?\n",
      "You can execute a cell with a function name and a single question mark (?) to see a short description of a function.\n",
      "A double question marks (??) provide a source code with a docstring of the function.\n",
      "Try *mesh.default?*\n",
      "or\n",
      "*mesh.default??*"
     ]
    },
    {
     "cell_type": "code",
     "collapsed": false,
     "input": [
      "defaults = mesh.default('india', 'image', image)"
     ],
     "language": "python",
     "metadata": {},
     "outputs": [],
     "prompt_number": 18
    },
    {
     "cell_type": "code",
     "collapsed": false,
     "input": [
      "defaults = mesh.default('india', 'flavor', flavor)"
     ],
     "language": "python",
     "metadata": {},
     "outputs": []
    },
    {
     "cell_type": "markdown",
     "metadata": {},
     "source": [
      "More examples follows soon, for example listing vm instances."
     ]
    }
   ],
   "metadata": {}
  }
 ]
}