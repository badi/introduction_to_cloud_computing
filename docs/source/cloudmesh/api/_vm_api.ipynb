{
 "metadata": {
  "name": "",
  "signature": "sha256:f0ba5d78043f7499ea5f6f6617bf52dbf21420ab5b9e3d86bc9562645f0d765c"
 },
 "nbformat": 3,
 "nbformat_minor": 0,
 "worksheets": [
  {
   "cells": [
    {
     "cell_type": "heading",
     "level": 1,
     "metadata": {},
     "source": [
      "Cloudmesh API for VM Management"
     ]
    },
    {
     "cell_type": "markdown",
     "metadata": {},
     "source": [
      "<button type=\"button\" class=\"btn btn-default navbar-btn\">[Notebook](http://localhost:8888/notebooks/docs/source/cloudmesh/api/_vm_api.ipynb)</button>"
     ]
    },
    {
     "cell_type": "markdown",
     "metadata": {},
     "source": [
      "Cloudmesh supports the simple management of heterogeneous virtual machines from a variety of cloud frameworks, including Openstack, Azure, AWS, Eucalyptus and but also AWS compatible clouds. This page shows how to use Cloudmesh functions in python by a couple of examples on starting or stopping virtual machine instances through the APIs."
     ]
    },
    {
     "cell_type": "heading",
     "level": 2,
     "metadata": {},
     "source": [
      "Initialization"
     ]
    },
    {
     "cell_type": "markdown",
     "metadata": {},
     "source": [
      "A simple import allows you to enable all features of Cloudmesh in Python."
     ]
    },
    {
     "cell_type": "code",
     "collapsed": false,
     "input": [
      "import cloudmesh"
     ],
     "language": "python",
     "metadata": {},
     "outputs": [],
     "prompt_number": 1
    },
    {
     "cell_type": "code",
     "collapsed": false,
     "input": [
      "from pprint import pprint"
     ],
     "language": "python",
     "metadata": {},
     "outputs": [],
     "prompt_number": 2
    },
    {
     "cell_type": "heading",
     "level": 2,
     "metadata": {},
     "source": [
      "Activating Clouds"
     ]
    },
    {
     "cell_type": "markdown",
     "metadata": {},
     "source": [
      "Cloudmesh provides *yaml* or *mongo* option where to load basic information. *yaml* relies on the yaml files in the $HOME/.cloudmesh directory, *mongo* retrieves information from the mongo database."
     ]
    },
    {
     "cell_type": "code",
     "collapsed": false,
     "input": [
      "mesh = cloudmesh.mesh(\"mongo\")"
     ],
     "language": "python",
     "metadata": {},
     "outputs": [],
     "prompt_number": 4
    },
    {
     "cell_type": "heading",
     "level": 3,
     "metadata": {},
     "source": [
      "Get a username"
     ]
    },
    {
     "cell_type": "markdown",
     "metadata": {},
     "source": [
      "In most Cloudmesh functions, you need to provide a username to tell the server who is going to use cloud services."
     ]
    },
    {
     "cell_type": "code",
     "collapsed": false,
     "input": [
      "username = cloudmesh.load().username()"
     ],
     "language": "python",
     "metadata": {},
     "outputs": [],
     "prompt_number": 6
    },
    {
     "cell_type": "code",
     "collapsed": false,
     "input": [
      "print username"
     ],
     "language": "python",
     "metadata": {},
     "outputs": [
      {
       "output_type": "stream",
       "stream": "stdout",
       "text": [
        "gvonlasz\n"
       ]
      }
     ],
     "prompt_number": 7
    },
    {
     "cell_type": "heading",
     "level": 3,
     "metadata": {},
     "source": [
      "Activate the user account"
     ]
    },
    {
     "cell_type": "markdown",
     "metadata": {},
     "source": [
      "With the activation, the connection to IaaS cloud is established."
     ]
    },
    {
     "cell_type": "code",
     "collapsed": false,
     "input": [
      "mesh.activate(username)"
     ],
     "language": "python",
     "metadata": {},
     "outputs": [
      {
       "output_type": "stream",
       "stream": "stdout",
       "text": [
        "* india\n",
        "Refreshing gvonlasz servers india ->\n",
        "Refresh time:"
       ]
      },
      {
       "output_type": "stream",
       "stream": "stdout",
       "text": [
        " 0.145269155502\n",
        "Store time: 0.00236892700195\n"
       ]
      }
     ],
     "prompt_number": 8
    },
    {
     "cell_type": "heading",
     "level": 3,
     "metadata": {},
     "source": [
      "Register a cloud"
     ]
    },
    {
     "cell_type": "code",
     "collapsed": false,
     "input": [
      "cloudmesh.shell(\"cloud on india\")"
     ],
     "language": "python",
     "metadata": {},
     "outputs": [
      {
       "metadata": {},
       "output_type": "pyout",
       "prompt_number": 9,
       "text": [
        "* india\n",
        "Refreshing gvonlasz servers india ->\n",
        "Refresh time: 0.156200885773\n",
        "Store time: 0.00193500518799\n",
        "\u001b[32mcloud 'india' activated.\u001b[0m"
       ]
      }
     ],
     "prompt_number": 9
    },
    {
     "cell_type": "code",
     "collapsed": false,
     "input": [
      "cloudmesh.shell(\"cloud list\")"
     ],
     "language": "python",
     "metadata": {},
     "outputs": [
      {
       "metadata": {},
       "output_type": "pyout",
       "prompt_number": 10,
       "text": [
        "+-----------+--------+\n",
        "| cloud     | active |\n",
        "+-----------+--------+\n",
        "| aws       |        |\n",
        "| azure     |        |\n",
        "| devstack  |        |\n",
        "| dreamhost |        |\n",
        "| hp        |        |\n",
        "| hp_east   |        |\n",
        "| india     | True   |\n",
        "+-----------+--------+"
       ]
      }
     ],
     "prompt_number": 10
    },
    {
     "cell_type": "markdown",
     "metadata": {},
     "source": [
      "Each cloud must have a default image and a default flavor to launch vm instances in a simple step. default function provides a way to set default values for an image o a flavor.\n",
      "In this example, we use *image*, *flavor* variables which created from the examples above."
     ]
    },
    {
     "cell_type": "heading",
     "level": 3,
     "metadata": {},
     "source": [
      "Need a help for the function?"
     ]
    },
    {
     "cell_type": "markdown",
     "metadata": {},
     "source": [
      "You can execute a cell with a function name and a single question mark (?) to see a short description of a function.\n",
      "A double question marks (??) provide a source code with a docstring of the function.\n",
      "Try *mesh.default?*\n",
      "or\n",
      "*mesh.default??*"
     ]
    },
    {
     "cell_type": "heading",
     "level": 2,
     "metadata": {},
     "source": [
      "Get Flavors or Images"
     ]
    },
    {
     "cell_type": "markdown",
     "metadata": {},
     "source": [
      "Cloudmesh retrieves information from a cache that need to be refreshed in case you like to get the newest values. At the beginning you have to call refresh so that he information from the cloud is populated into the cache."
     ]
    },
    {
     "cell_type": "code",
     "collapsed": false,
     "input": [
      "mesh.refresh(username,types=['flavors', 'images'],names=[\"india\"])"
     ],
     "language": "python",
     "metadata": {},
     "outputs": []
    },
    {
     "cell_type": "markdown",
     "metadata": {},
     "source": [
      "Available flavors can be listed with the following function. "
     ]
    },
    {
     "cell_type": "code",
     "collapsed": false,
     "input": [
      "flavors = mesh.flavors(cm_user_id=username, clouds=[\"india\"])"
     ],
     "language": "python",
     "metadata": {},
     "outputs": []
    },
    {
     "cell_type": "markdown",
     "metadata": {},
     "source": [
      "Let us display the names of the flavors"
     ]
    },
    {
     "cell_type": "markdown",
     "metadata": {},
     "source": [
      "The functions about vm images provide an available vm images on a selected cloud."
     ]
    },
    {
     "cell_type": "code",
     "collapsed": false,
     "input": [
      "for id in flavors[\"india\"]:\n",
      "    print flavors[\"india\"][id][\"name\"]"
     ],
     "language": "python",
     "metadata": {},
     "outputs": []
    },
    {
     "cell_type": "code",
     "collapsed": false,
     "input": [
      "images = mesh.images(clouds=['india'],cm_user_id=username)"
     ],
     "language": "python",
     "metadata": {},
     "outputs": []
    },
    {
     "cell_type": "code",
     "collapsed": false,
     "input": [
      "for id in images[\"india\"]:\n",
      "    print images[\"india\"][id][\"name\"]"
     ],
     "language": "python",
     "metadata": {},
     "outputs": []
    },
    {
     "cell_type": "heading",
     "level": 3,
     "metadata": {},
     "source": [
      "Select a flavor"
     ]
    },
    {
     "cell_type": "markdown",
     "metadata": {},
     "source": [
      "Flavor is also selectable. The selected image or flavor can be used to set a default image or a default flavor."
     ]
    },
    {
     "cell_type": "code",
     "collapsed": false,
     "input": [
      "flavor = mesh.flavor('india', 'm1.small')"
     ],
     "language": "python",
     "metadata": {},
     "outputs": []
    },
    {
     "cell_type": "heading",
     "level": 3,
     "metadata": {},
     "source": [
      "Select an image"
     ]
    },
    {
     "cell_type": "markdown",
     "metadata": {},
     "source": [
      "If you know the name of the vm image, you can specify the vm image to user it later. In this example, we choose Ubuntu trusty 14.04 image."
     ]
    },
    {
     "cell_type": "code",
     "collapsed": false,
     "input": [
      "image=mesh.image('india','futuregrid/ubuntu-14.04')"
     ],
     "language": "python",
     "metadata": {},
     "outputs": []
    },
    {
     "cell_type": "heading",
     "level": 2,
     "metadata": {},
     "source": [
      "Set a default flavor or image"
     ]
    },
    {
     "cell_type": "code",
     "collapsed": false,
     "input": [
      "defaults = mesh.default('india', 'image', image)"
     ],
     "language": "python",
     "metadata": {},
     "outputs": []
    },
    {
     "cell_type": "code",
     "collapsed": false,
     "input": [
      "defaults = mesh.default('india', 'flavor', flavor)"
     ],
     "language": "python",
     "metadata": {},
     "outputs": []
    },
    {
     "cell_type": "code",
     "collapsed": false,
     "input": [
      "pprint(defaults)"
     ],
     "language": "python",
     "metadata": {},
     "outputs": []
    },
    {
     "cell_type": "heading",
     "level": 2,
     "metadata": {},
     "source": [
      "Quick Start a VM"
     ]
    },
    {
     "cell_type": "markdown",
     "metadata": {},
     "source": [
      "A simple function *start* provides a quick launch of vm instances in cloudmesh."
     ]
    },
    {
     "cell_type": "code",
     "collapsed": false,
     "input": [
      "result = mesh.start(\"india\", username)"
     ],
     "language": "python",
     "metadata": {},
     "outputs": []
    },
    {
     "cell_type": "code",
     "collapsed": false,
     "input": [
      "result = mesh.start(\"india\", username)"
     ],
     "language": "python",
     "metadata": {},
     "outputs": []
    },
    {
     "cell_type": "code",
     "collapsed": false,
     "input": [
      "pprint (result)"
     ],
     "language": "python",
     "metadata": {},
     "outputs": []
    },
    {
     "cell_type": "heading",
     "level": 2,
     "metadata": {},
     "source": [
      "Delete VM"
     ]
    },
    {
     "cell_type": "code",
     "collapsed": false,
     "input": [
      "server = result['server']['id']"
     ],
     "language": "python",
     "metadata": {},
     "outputs": []
    },
    {
     "cell_type": "code",
     "collapsed": false,
     "input": [
      "print server"
     ],
     "language": "python",
     "metadata": {},
     "outputs": []
    },
    {
     "cell_type": "code",
     "collapsed": false,
     "input": [
      "mesh.delete(\"india\", server, username)"
     ],
     "language": "python",
     "metadata": {},
     "outputs": []
    },
    {
     "cell_type": "heading",
     "level": 2,
     "metadata": {},
     "source": [
      "Start a VM"
     ]
    },
    {
     "cell_type": "markdown",
     "metadata": {},
     "source": [
      "Now let us see how to start VMs on a cloud, here is how to start a VM on cloud india."
     ]
    },
    {
     "cell_type": "code",
     "collapsed": false,
     "input": [
      "image = \"futuregrid/ubuntu-14.04\""
     ],
     "language": "python",
     "metadata": {},
     "outputs": []
    },
    {
     "cell_type": "code",
     "collapsed": false,
     "input": [
      "flavor = \"m1.small\""
     ],
     "language": "python",
     "metadata": {},
     "outputs": []
    },
    {
     "cell_type": "code",
     "collapsed": false,
     "input": [
      "cloud = \"india\""
     ],
     "language": "python",
     "metadata": {},
     "outputs": []
    },
    {
     "cell_type": "code",
     "collapsed": false,
     "input": [
      "result = mesh.start(cloud=cloud, \n",
      "                    cm_user_id=username,\n",
      "                    flavor=flavor, \n",
      "                    image=image)"
     ],
     "language": "python",
     "metadata": {},
     "outputs": []
    },
    {
     "cell_type": "markdown",
     "metadata": {},
     "source": [
      "You may don\u2019t know what images or flavors are available on the cloud, or you don\u2019t want to type a long line every time you start a VM, things can get a lot easier by performing some setting up."
     ]
    },
    {
     "cell_type": "code",
     "collapsed": false,
     "input": [
      "pprint (result)"
     ],
     "language": "python",
     "metadata": {},
     "outputs": []
    },
    {
     "cell_type": "markdown",
     "metadata": {},
     "source": [
      "If you know the id of the virtual machine that you want to destroy, *delete* function in cloudmesh simply terminate the instance.\n",
      "This example deletes the vm that we just launched above by getting the id from the result dict."
     ]
    },
    {
     "cell_type": "heading",
     "level": 2,
     "metadata": {},
     "source": [
      "More options to launch a VM instance"
     ]
    },
    {
     "cell_type": "markdown",
     "metadata": {},
     "source": [
      "When you create a new VM instance, you can also choose multiple options such as a flavor, an image, or a key associated with the instance. *start()* function accepts keyword parameters as a user input of these options. To see a brief description of the function, try *mesh.start?* in the IPython Notebook cell.\n",
      "\n",
      "Available options are:\n",
      "with\n",
      "* `cloud`: cloud id e.g. india\n",
      "* `cm_user_id`: portal user id\n",
      "* `prefix`: The VM instance name starts \n",
      "* `index`: The number of vm instances (auto increment), if you set this make sure it is higher than the last index, as it \n",
      "   will aslo set the default index\n",
      "* `flavor`: flavor name e.g. m1.small\n",
      "* `image`: image name e.g. futuregrid/ubuntu-14.04\n",
      "* `key`: key name to use\n",
      "* `meta`: data in python dict e.g. {\"cm_user_id\": username}"
     ]
    },
    {
     "cell_type": "markdown",
     "metadata": {},
     "source": [
      "`result = mesh.start(\"india\", username, prefix=username)`"
     ]
    },
    {
     "cell_type": "heading",
     "level": 2,
     "metadata": {},
     "source": [
      "Vitual Machine Name"
     ]
    },
    {
     "cell_type": "markdown",
     "metadata": {},
     "source": [
      "In Cloudmesh, the default VM name consists of your username and an auto incremented number, for example, *alex_1*. Couple of functions allow you to manage or modify the VM name as you wish."
     ]
    },
    {
     "cell_type": "code",
     "collapsed": false,
     "input": [
      "mesh.vmname()"
     ],
     "language": "python",
     "metadata": {},
     "outputs": [
      {
       "metadata": {},
       "output_type": "pyout",
       "prompt_number": 11,
       "text": [
        "u'gvonlasz_36'"
       ]
      }
     ],
     "prompt_number": 11
    },
    {
     "cell_type": "markdown",
     "metadata": {},
     "source": [
      "`vmname()` without parameters returns the current VM name that you can use."
     ]
    },
    {
     "cell_type": "markdown",
     "metadata": {},
     "source": [
      "If you want to use a different name, you can specify prefix='' and idx='' as parameters. However be aware that using this will also reset the default values. Thus if you specify a number that is smaller than the current number in the vms, you may overwrite in time the previos name and end up with duplicated names."
     ]
    },
    {
     "cell_type": "markdown",
     "metadata": {},
     "source": [
      "`mesh.vmname(username, 10)`"
     ]
    },
    {
     "cell_type": "markdown",
     "metadata": {},
     "source": [
      "vmname_next() returns a VM name with an increased index number."
     ]
    },
    {
     "cell_type": "code",
     "collapsed": false,
     "input": [
      "name = mesh.vmname_next()"
     ],
     "language": "python",
     "metadata": {},
     "outputs": [
      {
       "ename": "TypeError",
       "evalue": "'NoneType' object has no attribute '__getitem__'",
       "output_type": "pyerr",
       "traceback": [
        "\u001b[0;31m---------------------------------------------------------------------------\u001b[0m\n\u001b[0;31mTypeError\u001b[0m                                 Traceback (most recent call last)",
        "\u001b[0;32m<ipython-input-5-2cb2e0068d23>\u001b[0m in \u001b[0;36m<module>\u001b[0;34m()\u001b[0m\n\u001b[0;32m----> 1\u001b[0;31m \u001b[0mname\u001b[0m \u001b[0;34m=\u001b[0m \u001b[0mmesh\u001b[0m\u001b[0;34m.\u001b[0m\u001b[0mvmname_next\u001b[0m\u001b[0;34m(\u001b[0m\u001b[0;34m)\u001b[0m\u001b[0;34m\u001b[0m\u001b[0m\n\u001b[0m",
        "\u001b[0;32m/Users/flat/ENV/lib/python2.7/site-packages/cloudmesh-1.0-py2.7.egg/cloudmesh/cm_mongo.pyc\u001b[0m in \u001b[0;36mvmname_next\u001b[0;34m(self)\u001b[0m\n\u001b[1;32m    851\u001b[0m \u001b[0;34m\u001b[0m\u001b[0m\n\u001b[1;32m    852\u001b[0m     \u001b[0;32mdef\u001b[0m \u001b[0mvmname_next\u001b[0m\u001b[0;34m(\u001b[0m\u001b[0mself\u001b[0m\u001b[0;34m)\u001b[0m\u001b[0;34m:\u001b[0m\u001b[0;34m\u001b[0m\u001b[0m\n\u001b[0;32m--> 853\u001b[0;31m         \u001b[0;32mreturn\u001b[0m \u001b[0mself\u001b[0m\u001b[0;34m.\u001b[0m\u001b[0mvmname\u001b[0m\u001b[0;34m(\u001b[0m\u001b[0midx\u001b[0m\u001b[0;34m=\u001b[0m\u001b[0;34m\"+1\"\u001b[0m\u001b[0;34m)\u001b[0m\u001b[0;34m\u001b[0m\u001b[0m\n\u001b[0m\u001b[1;32m    854\u001b[0m \u001b[0;34m\u001b[0m\u001b[0m\n\u001b[1;32m    855\u001b[0m     \u001b[0;32mdef\u001b[0m \u001b[0mssh_execute\u001b[0m\u001b[0;34m(\u001b[0m\u001b[0mself\u001b[0m\u001b[0;34m,\u001b[0m \u001b[0mipaddr\u001b[0m\u001b[0;34m,\u001b[0m \u001b[0musername\u001b[0m\u001b[0;34m=\u001b[0m\u001b[0;34m\"ubuntu\"\u001b[0m\u001b[0;34m,\u001b[0m \u001b[0mcommand\u001b[0m\u001b[0;34m=\u001b[0m\u001b[0;34m\"ls -al\"\u001b[0m\u001b[0;34m,\u001b[0m \u001b[0mpkey\u001b[0m\u001b[0;34m=\u001b[0m\u001b[0mNone\u001b[0m\u001b[0;34m)\u001b[0m\u001b[0;34m:\u001b[0m\u001b[0;34m\u001b[0m\u001b[0m\n",
        "\u001b[0;32m/Users/flat/ENV/lib/python2.7/site-packages/cloudmesh-1.0-py2.7.egg/cloudmesh/cm_mongo.pyc\u001b[0m in \u001b[0;36mvmname\u001b[0;34m(self, prefix, idx, cm_user_id)\u001b[0m\n\u001b[1;32m    838\u001b[0m         \u001b[0mcm_user_id\u001b[0m \u001b[0;34m=\u001b[0m \u001b[0mcm_user_id\u001b[0m \u001b[0;32mor\u001b[0m \u001b[0mself\u001b[0m\u001b[0;34m.\u001b[0m\u001b[0muserid\u001b[0m\u001b[0;34m\u001b[0m\u001b[0m\n\u001b[1;32m    839\u001b[0m         \u001b[0muserinfo\u001b[0m\u001b[0;34m[\u001b[0m\u001b[0;34m'defaults'\u001b[0m\u001b[0;34m]\u001b[0m\u001b[0;34m[\u001b[0m\u001b[0;34m'prefix'\u001b[0m\u001b[0;34m]\u001b[0m \u001b[0;34m=\u001b[0m \u001b[0mprefix\u001b[0m \u001b[0;32mor\u001b[0m\u001b[0;31m \u001b[0m\u001b[0;31m\\\u001b[0m\u001b[0;34m\u001b[0m\u001b[0m\n\u001b[0;32m--> 840\u001b[0;31m             \u001b[0muserinfo\u001b[0m\u001b[0;34m[\u001b[0m\u001b[0;34m'defaults'\u001b[0m\u001b[0;34m]\u001b[0m\u001b[0;34m[\u001b[0m\u001b[0;34m'prefix'\u001b[0m\u001b[0;34m]\u001b[0m\u001b[0;34m\u001b[0m\u001b[0m\n\u001b[0m\u001b[1;32m    841\u001b[0m         \u001b[0;32mif\u001b[0m \u001b[0midx\u001b[0m\u001b[0;34m:\u001b[0m\u001b[0;34m\u001b[0m\u001b[0m\n\u001b[1;32m    842\u001b[0m             \u001b[0;32mif\u001b[0m \u001b[0mstr\u001b[0m\u001b[0;34m(\u001b[0m\u001b[0midx\u001b[0m\u001b[0;34m)\u001b[0m\u001b[0;34m.\u001b[0m\u001b[0misdigit\u001b[0m\u001b[0;34m(\u001b[0m\u001b[0;34m)\u001b[0m\u001b[0;34m:\u001b[0m\u001b[0;34m\u001b[0m\u001b[0m\n",
        "\u001b[0;31mTypeError\u001b[0m: 'NoneType' object has no attribute '__getitem__'"
       ]
      }
     ],
     "prompt_number": 5
    },
    {
     "cell_type": "code",
     "collapsed": false,
     "input": [
      "print name"
     ],
     "language": "python",
     "metadata": {},
     "outputs": []
    },
    {
     "cell_type": "code",
     "collapsed": false,
     "input": [
      "name = mesh.vmname_next()"
     ],
     "language": "python",
     "metadata": {},
     "outputs": []
    },
    {
     "cell_type": "code",
     "collapsed": false,
     "input": [],
     "language": "python",
     "metadata": {},
     "outputs": []
    },
    {
     "cell_type": "code",
     "collapsed": false,
     "input": [
      "print name"
     ],
     "language": "python",
     "metadata": {},
     "outputs": []
    },
    {
     "cell_type": "markdown",
     "metadata": {},
     "source": [
      "There are some tricks to update the index number in *vmname()* function."
     ]
    },
    {
     "cell_type": "markdown",
     "metadata": {},
     "source": [
      "`mesh.vmname(username, \"+5\")`"
     ]
    },
    {
     "cell_type": "markdown",
     "metadata": {},
     "source": [
      "Assign a public IP address to the VM"
     ]
    },
    {
     "cell_type": "markdown",
     "metadata": {},
     "source": [
      "assign_public_ip() function obtains a public IP address and assign it to the VM."
     ]
    },
    {
     "cell_type": "code",
     "collapsed": false,
     "input": [
      "server = result['server']['id']"
     ],
     "language": "python",
     "metadata": {},
     "outputs": []
    },
    {
     "cell_type": "code",
     "collapsed": false,
     "input": [
      "print server"
     ],
     "language": "python",
     "metadata": {},
     "outputs": []
    },
    {
     "cell_type": "code",
     "collapsed": false,
     "input": [
      "ip=mesh.assign_public_ip('india', server, username)"
     ],
     "language": "python",
     "metadata": {},
     "outputs": []
    },
    {
     "cell_type": "code",
     "collapsed": false,
     "input": [
      "print ip"
     ],
     "language": "python",
     "metadata": {},
     "outputs": []
    },
    {
     "cell_type": "heading",
     "level": 2,
     "metadata": {},
     "source": [
      "SSH to the VM"
     ]
    },
    {
     "cell_type": "markdown",
     "metadata": {},
     "source": [
      "Once you obtained the public ip address, you can execute a test command via SSH to the VM.\n",
      "You can use wait() function with retry options. Otherwise, you can simply use ssh_execute() function."
     ]
    },
    {
     "cell_type": "code",
     "collapsed": false,
     "input": [
      "result = mesh.wait(ipaddr=ip, interval=2, retry=10)"
     ],
     "language": "python",
     "metadata": {},
     "outputs": []
    },
    {
     "cell_type": "code",
     "collapsed": false,
     "input": [
      "print result"
     ],
     "language": "python",
     "metadata": {},
     "outputs": []
    },
    {
     "cell_type": "code",
     "collapsed": false,
     "input": [
      "mesh.ssh_execute(ipaddr=ip, command=\"uname -a\")"
     ],
     "language": "python",
     "metadata": {},
     "outputs": []
    },
    {
     "cell_type": "heading",
     "level": 2,
     "metadata": {},
     "source": [
      "Refreshing VM status"
     ]
    },
    {
     "cell_type": "markdown",
     "metadata": {},
     "source": [
      "The information of VM instances can be displayed with `servers()` function."
     ]
    },
    {
     "cell_type": "code",
     "collapsed": false,
     "input": [
      "mesh.refresh(username, names=[\"india\"],types=[\"servers\"])"
     ],
     "language": "python",
     "metadata": {},
     "outputs": []
    },
    {
     "cell_type": "code",
     "collapsed": false,
     "input": [
      "mesh.servers(clouds=[\"india\"],cm_user_id=username)[\"india\"].keys()"
     ],
     "language": "python",
     "metadata": {},
     "outputs": []
    },
    {
     "cell_type": "code",
     "collapsed": false,
     "input": [],
     "language": "python",
     "metadata": {},
     "outputs": []
    }
   ],
   "metadata": {}
  }
 ]
}