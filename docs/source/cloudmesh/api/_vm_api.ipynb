{
 "metadata": {
  "name": "",
  "signature": "sha256:33f78fbe86049e332d6ca590b5b75ecb9a759a94ddf60bdaaf271778b683be7f"
 },
 "nbformat": 3,
 "nbformat_minor": 0,
 "worksheets": [
  {
   "cells": [
    {
     "cell_type": "heading",
     "level": 1,
     "metadata": {},
     "source": [
      "Cloudmesh API for VM Management"
     ]
    },
    {
     "cell_type": "markdown",
     "metadata": {},
     "source": [
      "<button type=\"button\" class=\"btn btn-default navbar-btn\">[Notebook](http://localhost:8888/notebooks/docs/source/cloudmesh/api/_vm_api.ipynb)</button>"
     ]
    },
    {
     "cell_type": "markdown",
     "metadata": {},
     "source": [
      "Cloudmesh supports the simple management of heterogeneous virtual machines from a variety of cloud frameworks, including Openstack, Azure, AWS, Eucalyptus and but also AWS compatible clouds. This page shows how to use Cloudmesh functions in python by a couple of examples on starting or stopping virtual machine instances through the APIs."
     ]
    },
    {
     "cell_type": "heading",
     "level": 2,
     "metadata": {},
     "source": [
      "Initialization"
     ]
    },
    {
     "cell_type": "markdown",
     "metadata": {},
     "source": [
      "A simple import allows you to enable all features of Cloudmesh in Python."
     ]
    },
    {
     "cell_type": "code",
     "collapsed": false,
     "input": [
      "import cloudmesh"
     ],
     "language": "python",
     "metadata": {},
     "outputs": [],
     "prompt_number": 23
    },
    {
     "cell_type": "code",
     "collapsed": false,
     "input": [
      "from pprint import pprint"
     ],
     "language": "python",
     "metadata": {},
     "outputs": [],
     "prompt_number": 24
    },
    {
     "cell_type": "heading",
     "level": 2,
     "metadata": {},
     "source": [
      "Activating Clouds"
     ]
    },
    {
     "cell_type": "markdown",
     "metadata": {},
     "source": [
      "Cloudmesh provides *yaml* or *mongo* option where to load basic information. *yaml* relies on the yaml files in the $HOME/.cloudmesh directory, *mongo* retrieves information from the mongo database."
     ]
    },
    {
     "cell_type": "code",
     "collapsed": false,
     "input": [
      "mesh = cloudmesh.mesh(\"mongo\")"
     ],
     "language": "python",
     "metadata": {},
     "outputs": [],
     "prompt_number": 25
    },
    {
     "cell_type": "heading",
     "level": 3,
     "metadata": {},
     "source": [
      "Get a username"
     ]
    },
    {
     "cell_type": "markdown",
     "metadata": {},
     "source": [
      "In most Cloudmesh functions, you need to provide a username to tell the server who is going to use cloud services."
     ]
    },
    {
     "cell_type": "code",
     "collapsed": false,
     "input": [
      "username = cloudmesh.load().username()"
     ],
     "language": "python",
     "metadata": {},
     "outputs": [],
     "prompt_number": 26
    },
    {
     "cell_type": "code",
     "collapsed": false,
     "input": [
      "print username"
     ],
     "language": "python",
     "metadata": {},
     "outputs": [
      {
       "output_type": "stream",
       "stream": "stdout",
       "text": [
        "gvonlasz\n"
       ]
      }
     ],
     "prompt_number": 27
    },
    {
     "cell_type": "heading",
     "level": 3,
     "metadata": {},
     "source": [
      "Activate the user account"
     ]
    },
    {
     "cell_type": "markdown",
     "metadata": {},
     "source": [
      "With the activation, the connection to IaaS cloud is established."
     ]
    },
    {
     "cell_type": "code",
     "collapsed": false,
     "input": [
      "mesh.activate(username)"
     ],
     "language": "python",
     "metadata": {},
     "outputs": [],
     "prompt_number": 28
    },
    {
     "cell_type": "heading",
     "level": 3,
     "metadata": {},
     "source": [
      "Register a cloud"
     ]
    },
    {
     "cell_type": "code",
     "collapsed": false,
     "input": [
      "cloudmesh.shell(\"cloud on india\")"
     ],
     "language": "python",
     "metadata": {},
     "outputs": [
      {
       "metadata": {},
       "output_type": "pyout",
       "prompt_number": 29,
       "text": [
        "* india\n",
        "Refreshing gvonlasz servers india ->\n",
        "Refresh time: 0.32300901413\n",
        "Store time: 0.00248599052429\n",
        "\u001b[32mcloud 'india' activated.\u001b[0m"
       ]
      }
     ],
     "prompt_number": 29
    },
    {
     "cell_type": "code",
     "collapsed": false,
     "input": [
      "cloudmesh.shell(\"cloud list\")"
     ],
     "language": "python",
     "metadata": {},
     "outputs": [
      {
       "metadata": {},
       "output_type": "pyout",
       "prompt_number": 30,
       "text": [
        "+-----------+--------+\n",
        "| cloud     | active |\n",
        "+-----------+--------+\n",
        "| aws       |        |\n",
        "| azure     |        |\n",
        "| devstack  |        |\n",
        "| dreamhost |        |\n",
        "| hp        |        |\n",
        "| hp_east   |        |\n",
        "| india     | True   |\n",
        "+-----------+--------+"
       ]
      }
     ],
     "prompt_number": 30
    },
    {
     "cell_type": "markdown",
     "metadata": {},
     "source": [
      "Each cloud must have a default image and a default flavor to launch vm instances in a simple step. default function provides a way to set default values for an image o a flavor.\n",
      "In this example, we use *image*, *flavor* variables which created from the examples above."
     ]
    },
    {
     "cell_type": "heading",
     "level": 3,
     "metadata": {},
     "source": [
      "Need a help for the function?"
     ]
    },
    {
     "cell_type": "markdown",
     "metadata": {},
     "source": [
      "You can execute a cell with a function name and a single question mark (?) to see a short description of a function.\n",
      "A double question marks (??) provide a source code with a docstring of the function.\n",
      "Try *mesh.default?*\n",
      "or\n",
      "*mesh.default??*"
     ]
    },
    {
     "cell_type": "heading",
     "level": 2,
     "metadata": {},
     "source": [
      "Get Flavors or Images"
     ]
    },
    {
     "cell_type": "markdown",
     "metadata": {},
     "source": [
      "Cloudmesh retrieves information from a cache that need to be refreshed in case you like to get the newest values. At the beginning you have to call refresh so that he information from the cloud is populated into the cache."
     ]
    },
    {
     "cell_type": "code",
     "collapsed": false,
     "input": [
      "mesh.refresh(username,types=['flavors', 'images'],names=[\"india\"])"
     ],
     "language": "python",
     "metadata": {},
     "outputs": [
      {
       "output_type": "stream",
       "stream": "stdout",
       "text": [
        "* india\n",
        "Refreshing gvonlasz flavors india ->\n",
        "Refresh time:"
       ]
      },
      {
       "output_type": "stream",
       "stream": "stdout",
       "text": [
        " 0.171421051025\n",
        "Store time: 0.00268006324768\n",
        "Refreshing gvonlasz images india ->\n",
        "Refresh time:"
       ]
      },
      {
       "output_type": "stream",
       "stream": "stdout",
       "text": [
        " 0.272296905518\n",
        "Store time: 0.00799894332886\n"
       ]
      }
     ],
     "prompt_number": 31
    },
    {
     "cell_type": "markdown",
     "metadata": {},
     "source": [
      "Available flavors can be listed with the following function. "
     ]
    },
    {
     "cell_type": "code",
     "collapsed": false,
     "input": [
      "flavors = mesh.flavors(cm_user_id=username, clouds=[\"india\"])"
     ],
     "language": "python",
     "metadata": {},
     "outputs": [],
     "prompt_number": 32
    },
    {
     "cell_type": "markdown",
     "metadata": {},
     "source": [
      "Let us display the names of the flavors"
     ]
    },
    {
     "cell_type": "markdown",
     "metadata": {},
     "source": [
      "The functions about vm images provide an available vm images on a selected cloud."
     ]
    },
    {
     "cell_type": "code",
     "collapsed": false,
     "input": [
      "for id in flavors[\"india\"]:\n",
      "    print flavors[\"india\"][id][\"name\"]"
     ],
     "language": "python",
     "metadata": {},
     "outputs": [
      {
       "output_type": "stream",
       "stream": "stdout",
       "text": [
        "m1.tiny\n",
        "m1.medium\n",
        "m1.small\n",
        "m1.xlarge\n",
        "m1.large\n"
       ]
      }
     ],
     "prompt_number": 33
    },
    {
     "cell_type": "code",
     "collapsed": false,
     "input": [
      "images = mesh.images(clouds=['india'],cm_user_id=username)"
     ],
     "language": "python",
     "metadata": {},
     "outputs": [],
     "prompt_number": 34
    },
    {
     "cell_type": "code",
     "collapsed": false,
     "input": [
      "for id in images[\"india\"]:\n",
      "    print images[\"india\"][id][\"name\"]"
     ],
     "language": "python",
     "metadata": {},
     "outputs": [
      {
       "output_type": "stream",
       "stream": "stdout",
       "text": [
        "salsahpc/cloud-mooc-m1-large-4GB\n",
        "CentOS6\n",
        "SL64-blank-sparse10gb-C vmdk\n",
        "cglmoocs/ipython\n",
        "futuregrid/centos-6\n",
        "DaLiAna-vm2014e-geant4.10.vmdk Jan best\n",
        "ubuntu-13.10\n",
        "futuregrid/ubuntu-14.04\n",
        "fg101/richieriee/my-ubuntu-01\n",
        "sl64-gluex-vm2014e-40gb.vmdk Justin\n",
        "futuregrid/fedora-19\n",
        "fg10/jcharcal/centos6.5_x86_64\n",
        "balewski/kernel-2.6.32-431.5.1-sl65\n",
        "SL64-blank-sparse40GB vmdk\n",
        "Ubuntu-12.04-blank2.vmdk\n",
        "balewski/ramdisk-2.6.32-431.5.1-sl65\n",
        "sl6_x64-qemu  french ?bad\n",
        "balewski/sl6.5-blank-80gb-b works\n",
        "grp17Cent\n",
        "futuregrid/ubuntu-12.04\n",
        "ndssl-vt/ubuntu-12.04-small\n",
        "futuregrid/fedora-20\n",
        "fg7/rynge/centos6-v1\n",
        "ubuntu12-comet\n",
        "balewski/daliana-vm2014e2-sl6.5-geant4.10-root5.34\n",
        "DaLiAna-vm2014d-SL64-A.vmdk\n"
       ]
      }
     ],
     "prompt_number": 35
    },
    {
     "cell_type": "heading",
     "level": 3,
     "metadata": {},
     "source": [
      "Select a flavor"
     ]
    },
    {
     "cell_type": "markdown",
     "metadata": {},
     "source": [
      "Flavor is also selectable. The selected image or flavor can be used to set a default image or a default flavor."
     ]
    },
    {
     "cell_type": "code",
     "collapsed": false,
     "input": [
      "flavor = mesh.flavor('india', 'm1.small')"
     ],
     "language": "python",
     "metadata": {},
     "outputs": [],
     "prompt_number": 36
    },
    {
     "cell_type": "heading",
     "level": 3,
     "metadata": {},
     "source": [
      "Select an image"
     ]
    },
    {
     "cell_type": "markdown",
     "metadata": {},
     "source": [
      "If you know the name of the vm image, you can specify the vm image to user it later. In this example, we choose Ubuntu trusty 14.04 image."
     ]
    },
    {
     "cell_type": "code",
     "collapsed": false,
     "input": [
      "image=mesh.image('india','futuregrid/ubuntu-14.04')"
     ],
     "language": "python",
     "metadata": {},
     "outputs": [],
     "prompt_number": 37
    },
    {
     "cell_type": "heading",
     "level": 2,
     "metadata": {},
     "source": [
      "Set a default flavor or image"
     ]
    },
    {
     "cell_type": "code",
     "collapsed": false,
     "input": [
      "defaults = mesh.default('india', 'image', image)"
     ],
     "language": "python",
     "metadata": {},
     "outputs": [],
     "prompt_number": 38
    },
    {
     "cell_type": "code",
     "collapsed": false,
     "input": [
      "defaults = mesh.default('india', 'flavor', flavor)"
     ],
     "language": "python",
     "metadata": {},
     "outputs": [],
     "prompt_number": 39
    },
    {
     "cell_type": "code",
     "collapsed": false,
     "input": [
      "pprint(defaults)"
     ],
     "language": "python",
     "metadata": {},
     "outputs": [
      {
       "output_type": "stream",
       "stream": "stdout",
       "text": [
        "{u'_id': ObjectId('54242b0b6d8fecaafd838a11'),\n",
        " u'activeclouds': [u'india'],\n",
        " u'cm_user_id': u'gvonlasz',\n",
        " u'flavors': {u'india': u'2'},\n",
        " u'group': None,\n",
        " u'images': {u'india': u'ba327564-5969-4309-b3f3-b67764038e66'},\n",
        " u'index': 38,\n",
        " u'key': u'flat-key',\n",
        " u'pagestatus': {u'india': u'true'},\n",
        " u'prefix': u'gvonlasz',\n",
        " u'project': u'fg82',\n",
        " u'registered_clouds': [u'india'],\n",
        " u'securitygroup': u'development',\n",
        " u'shell_print_format': u'table'}\n"
       ]
      }
     ],
     "prompt_number": 40
    },
    {
     "cell_type": "code",
     "collapsed": false,
     "input": [
      "image = \"futuregrid/ubuntu-14.04\""
     ],
     "language": "python",
     "metadata": {},
     "outputs": [],
     "prompt_number": 41
    },
    {
     "cell_type": "code",
     "collapsed": false,
     "input": [
      "flavor = \"m1.small\""
     ],
     "language": "python",
     "metadata": {},
     "outputs": [],
     "prompt_number": 42
    },
    {
     "cell_type": "code",
     "collapsed": false,
     "input": [
      "cloud = \"india\""
     ],
     "language": "python",
     "metadata": {},
     "outputs": [],
     "prompt_number": 43
    },
    {
     "cell_type": "heading",
     "level": 2,
     "metadata": {},
     "source": [
      "Quick Start a VM"
     ]
    },
    {
     "cell_type": "markdown",
     "metadata": {},
     "source": [
      "A simple function *start* provides a quick launch of vm instances in cloudmesh."
     ]
    },
    {
     "cell_type": "code",
     "collapsed": false,
     "input": [
      "result = mesh.start(\"india\", username)"
     ],
     "language": "python",
     "metadata": {},
     "outputs": [],
     "prompt_number": 44
    },
    {
     "cell_type": "code",
     "collapsed": false,
     "input": [
      "pprint (result)"
     ],
     "language": "python",
     "metadata": {},
     "outputs": [
      {
       "output_type": "stream",
       "stream": "stdout",
       "text": [
        "{'cloud': 'india',\n",
        " 'cm_user_id': 'gvonlasz',\n",
        " 'flavor': u'm1.small',\n",
        " 'flavor_id': u'2',\n",
        " 'image': u'futuregrid/ubuntu-14.04',\n",
        " 'image_id': u'ba327564-5969-4309-b3f3-b67764038e66',\n",
        " 'key': u'gvonlasz_flat-key',\n",
        " 'name': u'gvonlasz_38',\n",
        " u'server': {u'OS-DCF:diskConfig': u'MANUAL',\n",
        "             u'adminPass': u'Qhpytf3fJu96',\n",
        "             u'id': u'9c9e8576-7b9b-4118-9571-fe7f25cb01f4',\n",
        "             u'links': [{u'href': u'http://149.165.146.57:8774/v1.1/8bc7e259464944b3bf4d8b050d1ab935/servers/9c9e8576-7b9b-4118-9571-fe7f25cb01f4',\n",
        "                         u'rel': u'self'},\n",
        "                        {u'href': u'http://149.165.146.57:8774/8bc7e259464944b3bf4d8b050d1ab935/servers/9c9e8576-7b9b-4118-9571-fe7f25cb01f4',\n",
        "                         u'rel': u'bookmark'}],\n",
        "             u'security_groups': [{u'name': u'default'}]}}\n"
       ]
      }
     ],
     "prompt_number": 45
    },
    {
     "cell_type": "heading",
     "level": 2,
     "metadata": {},
     "source": [
      "Delete VM"
     ]
    },
    {
     "cell_type": "code",
     "collapsed": false,
     "input": [
      "server = result['server']['id']"
     ],
     "language": "python",
     "metadata": {},
     "outputs": [],
     "prompt_number": 46
    },
    {
     "cell_type": "code",
     "collapsed": false,
     "input": [
      "mesh.delete(cloud, server, username)"
     ],
     "language": "python",
     "metadata": {},
     "outputs": [
      {
       "metadata": {},
       "output_type": "pyout",
       "prompt_number": 47,
       "text": [
        "{'release_unused_public_ips': True, 'vm_delete': {'msg': 'success'}}"
       ]
      }
     ],
     "prompt_number": 47
    },
    {
     "cell_type": "markdown",
     "metadata": {},
     "source": [
      "If you know the id of the virtual machine that you want to destroy, *delete* function in cloudmesh simply terminate the instance.\n",
      "This example deletes the vm that we just launched above by getting the id from the result dict."
     ]
    },
    {
     "cell_type": "heading",
     "level": 2,
     "metadata": {},
     "source": [
      "Start a VM"
     ]
    },
    {
     "cell_type": "markdown",
     "metadata": {},
     "source": [
      "Now let us see how to start VMs on a cloud, here is how to start a VM on cloud india."
     ]
    },
    {
     "cell_type": "code",
     "collapsed": false,
     "input": [
      "result = mesh.start(cloud=cloud, \n",
      "                    cm_user_id=username,\n",
      "                    flavor=flavor, \n",
      "                    image=image)"
     ],
     "language": "python",
     "metadata": {},
     "outputs": [],
     "prompt_number": 48
    },
    {
     "cell_type": "markdown",
     "metadata": {},
     "source": [
      "You may don\u2019t know what images or flavors are available on the cloud, or you don\u2019t want to type a long line every time you start a VM, things can get a lot easier by performing some setting up."
     ]
    },
    {
     "cell_type": "code",
     "collapsed": false,
     "input": [
      "pprint (result)"
     ],
     "language": "python",
     "metadata": {},
     "outputs": [
      {
       "output_type": "stream",
       "stream": "stdout",
       "text": [
        "{'cloud': 'india',\n",
        " 'cm_user_id': 'gvonlasz',\n",
        " 'flavor': u'm1.small',\n",
        " 'flavor_id': u'2',\n",
        " 'image': u'futuregrid/ubuntu-14.04',\n",
        " 'image_id': u'ba327564-5969-4309-b3f3-b67764038e66',\n",
        " 'key': u'gvonlasz_flat-key',\n",
        " 'name': u'gvonlasz_38',\n",
        " u'server': {u'OS-DCF:diskConfig': u'MANUAL',\n",
        "             u'adminPass': u'mcN9ZZpUjp84',\n",
        "             u'id': u'84f72afa-58ae-4dbc-b61a-6e4af3097caf',\n",
        "             u'links': [{u'href': u'http://149.165.146.57:8774/v1.1/8bc7e259464944b3bf4d8b050d1ab935/servers/84f72afa-58ae-4dbc-b61a-6e4af3097caf',\n",
        "                         u'rel': u'self'},\n",
        "                        {u'href': u'http://149.165.146.57:8774/8bc7e259464944b3bf4d8b050d1ab935/servers/84f72afa-58ae-4dbc-b61a-6e4af3097caf',\n",
        "                         u'rel': u'bookmark'}],\n",
        "             u'security_groups': [{u'name': u'default'}]}}\n"
       ]
      }
     ],
     "prompt_number": 49
    },
    {
     "cell_type": "heading",
     "level": 2,
     "metadata": {},
     "source": [
      "More options to launch a VM instance"
     ]
    },
    {
     "cell_type": "markdown",
     "metadata": {},
     "source": [
      "When you create a new VM instance, you can also choose multiple options such as a flavor, an image, or a key associated with the instance. *start()* function accepts keyword parameters as a user input of these options. To see a brief description of the function, try *mesh.start?* in the IPython Notebook cell.\n",
      "\n",
      "Available options are:\n",
      "with\n",
      "* `cloud`: cloud id e.g. india\n",
      "* `cm_user_id`: portal user id\n",
      "* `prefix`: The VM instance name starts \n",
      "* `index`: The number of vm instances (auto increment), if you set this make sure it is higher than the last index, as it \n",
      "   will aslo set the default index\n",
      "* `flavor`: flavor name e.g. m1.small\n",
      "* `image`: image name e.g. futuregrid/ubuntu-14.04\n",
      "* `key`: key name to use\n",
      "* `meta`: data in python dict e.g. {\"cm_user_id\": username}"
     ]
    },
    {
     "cell_type": "code",
     "collapsed": false,
     "input": [
      "result = mesh.start(\"india\", username, prefix=username)"
     ],
     "language": "python",
     "metadata": {},
     "outputs": [],
     "prompt_number": 50
    },
    {
     "cell_type": "heading",
     "level": 2,
     "metadata": {},
     "source": [
      "Vitual Machine Name"
     ]
    },
    {
     "cell_type": "markdown",
     "metadata": {},
     "source": [
      "In Cloudmesh, the default VM name consists of your username and an auto incremented number, for example, *alex_1*. Couple of functions allow you to manage or modify the VM name as you wish."
     ]
    },
    {
     "cell_type": "code",
     "collapsed": false,
     "input": [
      "mesh.vmname()"
     ],
     "language": "python",
     "metadata": {},
     "outputs": [
      {
       "metadata": {},
       "output_type": "pyout",
       "prompt_number": 51,
       "text": [
        "u'gvonlasz_38'"
       ]
      }
     ],
     "prompt_number": 51
    },
    {
     "cell_type": "markdown",
     "metadata": {},
     "source": [
      "`vmname()` without parameters returns the current VM name that you can use."
     ]
    },
    {
     "cell_type": "markdown",
     "metadata": {},
     "source": [
      "If you want to use a different name, you can specify prefix='' and idx='' as parameters. However be aware that using this will also reset the default values. Thus if you specify a number that is smaller than the current number in the vms, you may overwrite in time the previos name and end up with duplicated names."
     ]
    },
    {
     "cell_type": "markdown",
     "metadata": {},
     "source": [
      "`mesh.vmname(username, 10)`"
     ]
    },
    {
     "cell_type": "markdown",
     "metadata": {},
     "source": [
      "vmname_next() returns a VM name with an increased index number."
     ]
    },
    {
     "cell_type": "markdown",
     "metadata": {},
     "source": [
      "`mesh.vmname_next()`"
     ]
    },
    {
     "cell_type": "markdown",
     "metadata": {},
     "source": [
      "There are some tricks to update the index number in *vmname()* function."
     ]
    },
    {
     "cell_type": "markdown",
     "metadata": {},
     "source": [
      "`mesh.vmname(username, \"+5\")`"
     ]
    },
    {
     "cell_type": "markdown",
     "metadata": {},
     "source": [
      "Assign a public IP address to the VM"
     ]
    },
    {
     "cell_type": "markdown",
     "metadata": {},
     "source": [
      "assign_public_ip() function obtains a public IP address and assign it to the VM."
     ]
    },
    {
     "cell_type": "code",
     "collapsed": false,
     "input": [
      "ip=mesh.assign_public_ip('india', server, username)"
     ],
     "language": "python",
     "metadata": {},
     "outputs": [],
     "prompt_number": 52
    },
    {
     "cell_type": "code",
     "collapsed": false,
     "input": [
      "print ip"
     ],
     "language": "python",
     "metadata": {},
     "outputs": [
      {
       "output_type": "stream",
       "stream": "stdout",
       "text": [
        "149.165.159.25\n"
       ]
      }
     ],
     "prompt_number": 53
    },
    {
     "cell_type": "heading",
     "level": 2,
     "metadata": {},
     "source": [
      "SSH to the VM"
     ]
    },
    {
     "cell_type": "markdown",
     "metadata": {},
     "source": [
      "Once you obtained the public ip address, you can execute a test command via SSH to the VM.\n",
      "You can use wait() function with retry options. Otherwise, you can simply use ssh_execute() function."
     ]
    },
    {
     "cell_type": "code",
     "collapsed": false,
     "input": [
      "result = mesh.wait(ipaddr=ip, interval=2, retry=10)"
     ],
     "language": "python",
     "metadata": {},
     "outputs": [
      {
       "output_type": "stream",
       "stream": "stdout",
       "text": [
        "0 try to execute via ssh...\n",
        "1 try to execute via ssh..."
       ]
      },
      {
       "output_type": "stream",
       "stream": "stdout",
       "text": [
        "\n",
        "2 try to execute via ssh..."
       ]
      },
      {
       "output_type": "stream",
       "stream": "stdout",
       "text": [
        "\n",
        "3 try to execute via ssh..."
       ]
      },
      {
       "output_type": "stream",
       "stream": "stdout",
       "text": [
        "\n",
        "4 try to execute via ssh..."
       ]
      },
      {
       "output_type": "stream",
       "stream": "stdout",
       "text": [
        "\n",
        "5 try to execute via ssh..."
       ]
      },
      {
       "output_type": "stream",
       "stream": "stdout",
       "text": [
        "\n",
        "6 try to execute via ssh..."
       ]
      },
      {
       "output_type": "stream",
       "stream": "stdout",
       "text": [
        "\n",
        "7 try to execute via ssh..."
       ]
      },
      {
       "output_type": "stream",
       "stream": "stdout",
       "text": [
        "\n",
        "8 try to execute via ssh..."
       ]
      },
      {
       "output_type": "stream",
       "stream": "stdout",
       "text": [
        "\n",
        "9 try to execute via ssh..."
       ]
      },
      {
       "output_type": "stream",
       "stream": "stdout",
       "text": [
        "\n"
       ]
      },
      {
       "ename": "TypeError",
       "evalue": "",
       "output_type": "pyerr",
       "traceback": [
        "\u001b[0;31m---------------------------------------------------------------------------\u001b[0m\n\u001b[0;31mTypeError\u001b[0m                                 Traceback (most recent call last)",
        "\u001b[0;32m<ipython-input-54-022918c098c0>\u001b[0m in \u001b[0;36m<module>\u001b[0;34m()\u001b[0m\n\u001b[0;32m----> 1\u001b[0;31m \u001b[0mresult\u001b[0m \u001b[0;34m=\u001b[0m \u001b[0mmesh\u001b[0m\u001b[0;34m.\u001b[0m\u001b[0mwait\u001b[0m\u001b[0;34m(\u001b[0m\u001b[0mipaddr\u001b[0m\u001b[0;34m=\u001b[0m\u001b[0mip\u001b[0m\u001b[0;34m,\u001b[0m \u001b[0minterval\u001b[0m\u001b[0;34m=\u001b[0m\u001b[0;36m2\u001b[0m\u001b[0;34m,\u001b[0m \u001b[0mretry\u001b[0m\u001b[0;34m=\u001b[0m\u001b[0;36m10\u001b[0m\u001b[0;34m)\u001b[0m\u001b[0;34m\u001b[0m\u001b[0m\n\u001b[0m",
        "\u001b[0;32m/Users/flat/ENV/lib/python2.7/site-packages/cloudmesh-1.0-py2.7.egg/cloudmesh/cm_mongo.pyc\u001b[0m in \u001b[0;36mwait\u001b[0;34m(self, ipaddr, username, command, pkey, interval, retry)\u001b[0m\n\u001b[1;32m    877\u001b[0m                 \u001b[0merr\u001b[0m \u001b[0;34m=\u001b[0m \u001b[0msys\u001b[0m\u001b[0;34m.\u001b[0m\u001b[0mexc_info\u001b[0m\u001b[0;34m(\u001b[0m\u001b[0;34m)\u001b[0m\u001b[0;34m[\u001b[0m\u001b[0;36m0\u001b[0m\u001b[0;34m]\u001b[0m\u001b[0;34m\u001b[0m\u001b[0m\n\u001b[1;32m    878\u001b[0m                 \u001b[0mtime\u001b[0m\u001b[0;34m.\u001b[0m\u001b[0msleep\u001b[0m\u001b[0;34m(\u001b[0m\u001b[0minterval\u001b[0m\u001b[0;34m)\u001b[0m\u001b[0;34m\u001b[0m\u001b[0m\n\u001b[0;32m--> 879\u001b[0;31m         \u001b[0;32mraise\u001b[0m \u001b[0merr\u001b[0m\u001b[0;34m\u001b[0m\u001b[0m\n\u001b[0m\u001b[1;32m    880\u001b[0m         \u001b[0;31m#\u001b[0m\u001b[0;34m\u001b[0m\u001b[0;34m\u001b[0m\u001b[0m\n\u001b[1;32m    881\u001b[0m         \u001b[0;31m# TODO: not sure if we can get rid of the raise error function\u001b[0m\u001b[0;34m\u001b[0m\u001b[0;34m\u001b[0m\u001b[0m\n",
        "\u001b[0;31mTypeError\u001b[0m: "
       ]
      }
     ],
     "prompt_number": 54
    },
    {
     "cell_type": "code",
     "collapsed": false,
     "input": [
      "print result"
     ],
     "language": "python",
     "metadata": {},
     "outputs": []
    },
    {
     "cell_type": "code",
     "collapsed": false,
     "input": [
      "mesh.ssh_execute(ipaddr=ip, command=\"uname -a\")"
     ],
     "language": "python",
     "metadata": {},
     "outputs": []
    },
    {
     "cell_type": "heading",
     "level": 2,
     "metadata": {},
     "source": [
      "Refreshing VM status"
     ]
    },
    {
     "cell_type": "markdown",
     "metadata": {},
     "source": [
      "The information of VM instances can be displayed with `servers()` function."
     ]
    },
    {
     "cell_type": "code",
     "collapsed": false,
     "input": [
      "mesh.refresh(username, names=[\"india\"],types=[\"servers\"])"
     ],
     "language": "python",
     "metadata": {},
     "outputs": []
    },
    {
     "cell_type": "code",
     "collapsed": false,
     "input": [
      "mesh.servers(clouds=[\"india\"],cm_user_id=username)"
     ],
     "language": "python",
     "metadata": {},
     "outputs": []
    },
    {
     "cell_type": "code",
     "collapsed": false,
     "input": [],
     "language": "python",
     "metadata": {},
     "outputs": []
    }
   ],
   "metadata": {}
  }
 ]
}