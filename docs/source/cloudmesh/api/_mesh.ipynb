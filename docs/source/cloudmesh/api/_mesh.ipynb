{
 "metadata": {
  "name": "",
  "signature": "sha256:4f0137f6f8a3710c1c59e5abfb54ae7440ad96ab83bf5a0a57f07ac56f369429"
 },
 "nbformat": 3,
 "nbformat_minor": 0,
 "worksheets": [
  {
   "cells": [
    {
     "cell_type": "heading",
     "level": 1,
     "metadata": {},
     "source": [
      "Cloudmesh Mesh"
     ]
    },
    {
     "cell_type": "markdown",
     "metadata": {},
     "source": [
      ".. warning:: this example is not yet fully completed"
     ]
    },
    {
     "cell_type": "code",
     "collapsed": false,
     "input": [
      "import cloudmesh"
     ],
     "language": "python",
     "metadata": {},
     "outputs": [],
     "prompt_number": 1
    },
    {
     "cell_type": "code",
     "collapsed": false,
     "input": [
      "username = cloudmesh.load().username()"
     ],
     "language": "python",
     "metadata": {},
     "outputs": [],
     "prompt_number": 2
    },
    {
     "cell_type": "markdown",
     "metadata": {},
     "source": [
      "One of the most convenient methods to interact in python is to use the cloudmesh mesh interface. To activate it use the mesh command. We are currently only supporting to run cloudmesh with the mongo db activated."
     ]
    },
    {
     "cell_type": "code",
     "collapsed": false,
     "input": [
      "mesh = cloudmesh.mesh(\"mongo\")"
     ],
     "language": "python",
     "metadata": {},
     "outputs": [],
     "prompt_number": 4
    },
    {
     "cell_type": "markdown",
     "metadata": {},
     "source": [
      "After activation we can find out more information with th einfo command."
     ]
    },
    {
     "cell_type": "code",
     "collapsed": false,
     "input": [
      "mesh.info()"
     ],
     "language": "python",
     "metadata": {},
     "outputs": [
      {
       "output_type": "stream",
       "stream": "stderr",
       "text": [
        "CM ... site/cloudmesh-1.0-py2.7.egg/cloudmesh/iaas/openstack/cm_compute.pyc:107:   INFO - 107: The cloud sierra has no admin credential\n"
       ]
      },
      {
       "output_type": "stream",
       "stream": "stderr",
       "text": [
        "INFO:... site/cloudmesh-1.0-py2.7.egg/cloudmesh/iaas/openstack/cm_compute.pyc:107: The cloud sierra has no admin credential\n"
       ]
      },
      {
       "output_type": "stream",
       "stream": "stderr",
       "text": [
        "CM ... site/cloudmesh-1.0-py2.7.egg/cloudmesh/iaas/openstack/cm_compute.pyc:159:   INFO - 159: Loading User Credentials\n"
       ]
      },
      {
       "output_type": "stream",
       "stream": "stderr",
       "text": [
        "INFO:... site/cloudmesh-1.0-py2.7.egg/cloudmesh/iaas/openstack/cm_compute.pyc:159: Loading User Credentials\n"
       ]
      },
      {
       "output_type": "stream",
       "stream": "stderr",
       "text": [
        "CM ... site/cloudmesh-1.0-py2.7.egg/cloudmesh/iaas/openstack/cm_compute.pyc:182:  DEBUG - 194 - GET CRED {'OS_VERSION': 'grizzly', 'OS_AUTH_URL': 'https://s77r.idp.sdsc.futuregrid.org:5000/v2.0', 'OS_USERNAME': 'gvonlasz', 'OS_PASSWORD': '********', 'OS_CACERT': '/Users/flat/.cloudmesh/sierra-cacert.pem', 'OS_TENANT_NAME': 'fg82'}\n"
       ]
      },
      {
       "output_type": "stream",
       "stream": "stderr",
       "text": [
        "DEBUG:... site/cloudmesh-1.0-py2.7.egg/cloudmesh/iaas/openstack/cm_compute.pyc:194 - GET CRED {'OS_VERSION': 'grizzly', 'OS_AUTH_URL': 'https://s77r.idp.sdsc.futuregrid.org:5000/v2.0', 'OS_USERNAME': 'gvonlasz', 'OS_PASSWORD': '********', 'OS_CACERT': '/Users/flat/.cloudmesh/sierra-cacert.pem', 'OS_TENANT_NAME': 'fg82'}\n"
       ]
      },
      {
       "output_type": "stream",
       "stream": "stderr",
       "text": [
        "CM ... site/cloudmesh-1.0-py2.7.egg/cloudmesh/iaas/openstack/cm_compute.pyc:215:  DEBUG - 215: URL https://s77r.idp.sdsc.futuregrid.org:5000/v2.0/tokens\n"
       ]
      },
      {
       "output_type": "stream",
       "stream": "stderr",
       "text": [
        "DEBUG:... site/cloudmesh-1.0-py2.7.egg/cloudmesh/iaas/openstack/cm_compute.pyc:215: URL https://s77r.idp.sdsc.futuregrid.org:5000/v2.0/tokens\n"
       ]
      },
      {
       "output_type": "stream",
       "stream": "stderr",
       "text": [
        "CM ... site/cloudmesh-1.0-py2.7.egg/cloudmesh/iaas/openstack/cm_compute.pyc:222:  DEBUG - 222:PARAM {\"auth\": {\"tenantName\": \"fg82\", \"passwordCredentials\": {\"username\": \"gvonlasz\", \"password\": \"********\"}}}\n"
       ]
      },
      {
       "output_type": "stream",
       "stream": "stderr",
       "text": [
        "DEBUG:... site/cloudmesh-1.0-py2.7.egg/cloudmesh/iaas/openstack/cm_compute.pyc:222:PARAM {\"auth\": {\"tenantName\": \"fg82\", \"passwordCredentials\": {\"username\": \"gvonlasz\", \"password\": \"********\"}}}\n"
       ]
      },
      {
       "output_type": "stream",
       "stream": "stderr",
       "text": [
        "CM ... site/cloudmesh-1.0-py2.7.egg/cloudmesh/iaas/openstack/cm_compute.pyc:223:  DEBUG - 223:HEADER {'content-type': 'application/json'}\n"
       ]
      },
      {
       "output_type": "stream",
       "stream": "stderr",
       "text": [
        "DEBUG:... site/cloudmesh-1.0-py2.7.egg/cloudmesh/iaas/openstack/cm_compute.pyc:223:HEADER {'content-type': 'application/json'}\n"
       ]
      },
      {
       "output_type": "stream",
       "stream": "stderr",
       "text": [
        "CM ... site/cloudmesh-1.0-py2.7.egg/cloudmesh/iaas/openstack/cm_compute.pyc:224:  DEBUG - 224:VERIFY /Users/flat/.cloudmesh/sierra-cacert.pem\n"
       ]
      },
      {
       "output_type": "stream",
       "stream": "stderr",
       "text": [
        "DEBUG:... site/cloudmesh-1.0-py2.7.egg/cloudmesh/iaas/openstack/cm_compute.pyc:224:VERIFY /Users/flat/.cloudmesh/sierra-cacert.pem\n"
       ]
      },
      {
       "output_type": "stream",
       "stream": "stderr",
       "text": [
        "CM ... site/cloudmesh-1.0-py2.7.egg/cloudmesh/iaas/openstack/cm_compute.pyc:167:   INFO - 167: Loading Admin Credentials\n"
       ]
      },
      {
       "output_type": "stream",
       "stream": "stderr",
       "text": [
        "INFO:... site/cloudmesh-1.0-py2.7.egg/cloudmesh/iaas/openstack/cm_compute.pyc:167: Loading Admin Credentials\n"
       ]
      },
      {
       "output_type": "stream",
       "stream": "stdout",
       "text": [
        "\n",
        "# ######################################################################\n",
        "# CLOUD MESH INFO\n",
        "# ######################################################################\n",
        "\n"
       ]
      },
      {
       "output_type": "stream",
       "stream": "stderr",
       "text": [
        "CM ... site/cloudmesh-1.0-py2.7.egg/cloudmesh/iaas/openstack/cm_compute.pyc:519:  DEBUG - 519: AUTH URL http://198.202.120.83:8774/v1.1/1ae6813a3a6d4cebbeb1912f6d139ad0/images/detail\n"
       ]
      },
      {
       "output_type": "stream",
       "stream": "stderr",
       "text": [
        "DEBUG:... site/cloudmesh-1.0-py2.7.egg/cloudmesh/iaas/openstack/cm_compute.pyc:519: AUTH URL http://198.202.120.83:8774/v1.1/1ae6813a3a6d4cebbeb1912f6d139ad0/images/detail\n"
       ]
      },
      {
       "output_type": "stream",
       "stream": "stderr",
       "text": [
        "CM ... site/cloudmesh-1.0-py2.7.egg/cloudmesh/iaas/openstack/cm_compute.pyc:524:  DEBUG - 524: Response <Response [200]>\n"
       ]
      },
      {
       "output_type": "stream",
       "stream": "stderr",
       "text": [
        "DEBUG:... site/cloudmesh-1.0-py2.7.egg/cloudmesh/iaas/openstack/cm_compute.pyc:524: Response <Response [200]>\n"
       ]
      },
      {
       "output_type": "stream",
       "stream": "stderr",
       "text": [
        "CM ... site/cloudmesh-1.0-py2.7.egg/cloudmesh/iaas/openstack/cm_compute.pyc:519:  DEBUG - 519: AUTH URL http://198.202.120.83:8774/v1.1/1ae6813a3a6d4cebbeb1912f6d139ad0/flavors/detail\n"
       ]
      },
      {
       "output_type": "stream",
       "stream": "stderr",
       "text": [
        "DEBUG:... site/cloudmesh-1.0-py2.7.egg/cloudmesh/iaas/openstack/cm_compute.pyc:519: AUTH URL http://198.202.120.83:8774/v1.1/1ae6813a3a6d4cebbeb1912f6d139ad0/flavors/detail\n"
       ]
      },
      {
       "output_type": "stream",
       "stream": "stderr",
       "text": [
        "CM ... site/cloudmesh-1.0-py2.7.egg/cloudmesh/iaas/openstack/cm_compute.pyc:524:  DEBUG - 524: Response <Response [200]>\n"
       ]
      },
      {
       "output_type": "stream",
       "stream": "stderr",
       "text": [
        "DEBUG:... site/cloudmesh-1.0-py2.7.egg/cloudmesh/iaas/openstack/cm_compute.pyc:524: Response <Response [200]>\n"
       ]
      },
      {
       "output_type": "stream",
       "stream": "stderr",
       "text": [
        "CM ... site/cloudmesh-1.0-py2.7.egg/cloudmesh/iaas/openstack/cm_compute.pyc:519:  DEBUG - 519: AUTH URL http://198.202.120.83:8774/v1.1/1ae6813a3a6d4cebbeb1912f6d139ad0/servers/detail\n"
       ]
      },
      {
       "output_type": "stream",
       "stream": "stderr",
       "text": [
        "DEBUG:... site/cloudmesh-1.0-py2.7.egg/cloudmesh/iaas/openstack/cm_compute.pyc:519: AUTH URL http://198.202.120.83:8774/v1.1/1ae6813a3a6d4cebbeb1912f6d139ad0/servers/detail\n"
       ]
      },
      {
       "output_type": "stream",
       "stream": "stderr",
       "text": [
        "CM ... site/cloudmesh-1.0-py2.7.egg/cloudmesh/iaas/openstack/cm_compute.pyc:524:  DEBUG - 524: Response <Response [200]>\n"
       ]
      },
      {
       "output_type": "stream",
       "stream": "stderr",
       "text": [
        "DEBUG:... site/cloudmesh-1.0-py2.7.egg/cloudmesh/iaas/openstack/cm_compute.pyc:524: Response <Response [200]>\n"
       ]
      },
      {
       "output_type": "stream",
       "stream": "stdout",
       "text": [
        "# ######################################################################\n",
        "# Info sierra\n",
        "# ######################################################################\n",
        "Label:"
       ]
      },
      {
       "output_type": "stream",
       "stream": "stderr",
       "text": [
        "CM ... site/cloudmesh-1.0-py2.7.egg/cloudmesh/iaas/openstack/cm_compute.pyc:107:   INFO - 107: The cloud hp has no admin credential\n"
       ]
      },
      {
       "output_type": "stream",
       "stream": "stderr",
       "text": [
        "INFO:... site/cloudmesh-1.0-py2.7.egg/cloudmesh/iaas/openstack/cm_compute.pyc:107: The cloud hp has no admin credential\n"
       ]
      },
      {
       "output_type": "stream",
       "stream": "stderr",
       "text": [
        "CM ... site/cloudmesh-1.0-py2.7.egg/cloudmesh/iaas/openstack/cm_compute.pyc:159:   INFO - 159: Loading User Credentials\n"
       ]
      },
      {
       "output_type": "stream",
       "stream": "stderr",
       "text": [
        "INFO:... site/cloudmesh-1.0-py2.7.egg/cloudmesh/iaas/openstack/cm_compute.pyc:159: Loading User Credentials\n"
       ]
      },
      {
       "output_type": "stream",
       "stream": "stderr",
       "text": [
        "CM ... site/cloudmesh-1.0-py2.7.egg/cloudmesh/iaas/openstack/cm_compute.pyc:182:  DEBUG - 194 - GET CRED {'OS_PASSWORD': '********', 'OS_AUTH_URL': 'https://region-a.geo-1.identity.hpcloudsvc.com:35357/v2.0/', 'OS_USERNAME': 'TBD', 'OS_CACERT': 'None', 'OS_TENANT_NAME': 'FutureGrid'}\n"
       ]
      },
      {
       "output_type": "stream",
       "stream": "stderr",
       "text": [
        "DEBUG:... site/cloudmesh-1.0-py2.7.egg/cloudmesh/iaas/openstack/cm_compute.pyc:194 - GET CRED {'OS_PASSWORD': '********', 'OS_AUTH_URL': 'https://region-a.geo-1.identity.hpcloudsvc.com:35357/v2.0/', 'OS_USERNAME': 'TBD', 'OS_CACERT': 'None', 'OS_TENANT_NAME': 'FutureGrid'}\n"
       ]
      },
      {
       "output_type": "stream",
       "stream": "stderr",
       "text": [
        "CM ... site/cloudmesh-1.0-py2.7.egg/cloudmesh/iaas/openstack/cm_compute.pyc:215:  DEBUG - 215: URL https://region-a.geo-1.identity.hpcloudsvc.com:35357/v2.0//tokens\n"
       ]
      },
      {
       "output_type": "stream",
       "stream": "stderr",
       "text": [
        "DEBUG:... site/cloudmesh-1.0-py2.7.egg/cloudmesh/iaas/openstack/cm_compute.pyc:215: URL https://region-a.geo-1.identity.hpcloudsvc.com:35357/v2.0//tokens\n"
       ]
      },
      {
       "output_type": "stream",
       "stream": "stderr",
       "text": [
        "CM ... site/cloudmesh-1.0-py2.7.egg/cloudmesh/iaas/openstack/cm_compute.pyc:222:  DEBUG - 222:PARAM {\"auth\": {\"tenantName\": \"FutureGrid\", \"passwordCredentials\": {\"username\": \"TBD\", \"password\": \"********\"}}}\n"
       ]
      },
      {
       "output_type": "stream",
       "stream": "stderr",
       "text": [
        "DEBUG:... site/cloudmesh-1.0-py2.7.egg/cloudmesh/iaas/openstack/cm_compute.pyc:222:PARAM {\"auth\": {\"tenantName\": \"FutureGrid\", \"passwordCredentials\": {\"username\": \"TBD\", \"password\": \"********\"}}}\n"
       ]
      },
      {
       "output_type": "stream",
       "stream": "stderr",
       "text": [
        "CM ... site/cloudmesh-1.0-py2.7.egg/cloudmesh/iaas/openstack/cm_compute.pyc:223:  DEBUG - 223:HEADER {'content-type': 'application/json'}\n"
       ]
      },
      {
       "output_type": "stream",
       "stream": "stderr",
       "text": [
        "DEBUG:... site/cloudmesh-1.0-py2.7.egg/cloudmesh/iaas/openstack/cm_compute.pyc:223:HEADER {'content-type': 'application/json'}\n"
       ]
      },
      {
       "output_type": "stream",
       "stream": "stderr",
       "text": [
        "CM ... site/cloudmesh-1.0-py2.7.egg/cloudmesh/iaas/openstack/cm_compute.pyc:224:  DEBUG - 224:VERIFY False\n"
       ]
      },
      {
       "output_type": "stream",
       "stream": "stderr",
       "text": [
        "DEBUG:... site/cloudmesh-1.0-py2.7.egg/cloudmesh/iaas/openstack/cm_compute.pyc:224:VERIFY False\n"
       ]
      },
      {
       "output_type": "stream",
       "stream": "stderr",
       "text": [
        "CM ... site/cloudmesh-1.0-py2.7.egg/cloudmesh/iaas/openstack/cm_compute.pyc:167:   INFO - 167: Loading Admin Credentials\n"
       ]
      },
      {
       "output_type": "stream",
       "stream": "stderr",
       "text": [
        "INFO:... site/cloudmesh-1.0-py2.7.egg/cloudmesh/iaas/openstack/cm_compute.pyc:167: Loading Admin Credentials\n"
       ]
      },
      {
       "output_type": "stream",
       "stream": "stdout",
       "text": [
        " sierra\n",
        "Type: openstack\n",
        "Flavors: 6\n",
        "Servers: 0\n",
        "Images: 29\n",
        "Security Groups: 0\n",
        "\n"
       ]
      },
      {
       "output_type": "stream",
       "stream": "stderr",
       "text": [
        "CM ... site/cloudmesh-1.0-py2.7.egg/cloudmesh/cm_mesh.pyc:222:  ERROR - 'access'\n"
       ]
      },
      {
       "output_type": "stream",
       "stream": "stderr",
       "text": [
        "ERROR:... site/cloudmesh-1.0-py2.7.egg/cloudmesh/cm_mesh.pyc:'access'\n"
       ]
      },
      {
       "output_type": "stream",
       "stream": "stdout",
       "text": [
        "# ######################################################################\n",
        "# Info hp\n",
        "# ######################################################################\n"
       ]
      }
     ],
     "prompt_number": 5
    },
    {
     "cell_type": "code",
     "collapsed": false,
     "input": [
      "mesh.activate(username)"
     ],
     "language": "python",
     "metadata": {},
     "outputs": [
      {
       "ename": "AttributeError",
       "evalue": "cm_mesh instance has no attribute 'activate'",
       "output_type": "pyerr",
       "traceback": [
        "\u001b[0;31m---------------------------------------------------------------------------\u001b[0m\n\u001b[0;31mAttributeError\u001b[0m                            Traceback (most recent call last)",
        "\u001b[0;32m<ipython-input-6-a24ffb702dc4>\u001b[0m in \u001b[0;36m<module>\u001b[0;34m()\u001b[0m\n\u001b[0;32m----> 1\u001b[0;31m \u001b[0mmesh\u001b[0m\u001b[0;34m.\u001b[0m\u001b[0mactivate\u001b[0m\u001b[0;34m(\u001b[0m\u001b[0musername\u001b[0m\u001b[0;34m)\u001b[0m\u001b[0;34m\u001b[0m\u001b[0m\n\u001b[0m",
        "\u001b[0;31mAttributeError\u001b[0m: cm_mesh instance has no attribute 'activate'"
       ]
      }
     ],
     "prompt_number": 6
    },
    {
     "cell_type": "code",
     "collapsed": false,
     "input": [
      "mesh.refresh()"
     ],
     "language": "python",
     "metadata": {},
     "outputs": [
      {
       "ename": "TypeError",
       "evalue": "refresh() takes at least 2 arguments (1 given)",
       "output_type": "pyerr",
       "traceback": [
        "\u001b[0;31m---------------------------------------------------------------------------\u001b[0m\n\u001b[0;31mTypeError\u001b[0m                                 Traceback (most recent call last)",
        "\u001b[0;32m<ipython-input-14-6a9ebadaeb63>\u001b[0m in \u001b[0;36m<module>\u001b[0;34m()\u001b[0m\n\u001b[0;32m----> 1\u001b[0;31m \u001b[0mmesh\u001b[0m\u001b[0;34m.\u001b[0m\u001b[0mrefresh\u001b[0m\u001b[0;34m(\u001b[0m\u001b[0;34m)\u001b[0m\u001b[0;34m\u001b[0m\u001b[0m\n\u001b[0m",
        "\u001b[0;31mTypeError\u001b[0m: refresh() takes at least 2 arguments (1 given)"
       ]
      }
     ],
     "prompt_number": 14
    },
    {
     "cell_type": "code",
     "collapsed": false,
     "input": [],
     "language": "python",
     "metadata": {},
     "outputs": []
    }
   ],
   "metadata": {}
  }
 ]
}