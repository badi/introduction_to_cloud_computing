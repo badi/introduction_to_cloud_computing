{
 "metadata": {
  "name": "",
  "signature": "sha256:03b22fd150dd8b23bb5057cb342d575517583d4545d5aee635cef9bd3332c7ab"
 },
 "nbformat": 3,
 "nbformat_minor": 0,
 "worksheets": [
  {
   "cells": [
    {
     "cell_type": "heading",
     "level": 1,
     "metadata": {},
     "source": [
      "group command in Cloudmesh cm"
     ]
    },
    {
     "cell_type": "markdown",
     "metadata": {},
     "source": [
      "When you start a cluster of VMs in Cloudmesh CLI, it is required to specify a group name for the cluster, so that we can manage the cluster according to the cluster name. In Cloudmesh CLI, you may use group command to manage groups."
     ]
    },
    {
     "cell_type": "markdown",
     "metadata": {},
     "source": [
      "IPython Alias"
     ]
    },
    {
     "cell_type": "markdown",
     "metadata": {},
     "source": [
      "With the alias command we simply define a new command with the name cm that we can call directly from IPython. Here we make sure that the parameters are between \"\" so that they are properly set. Just execute the following lines."
     ]
    },
    {
     "cell_type": "code",
     "collapsed": false,
     "input": [
      "alias cm cm %s"
     ],
     "language": "python",
     "metadata": {},
     "outputs": []
    },
    {
     "cell_type": "markdown",
     "metadata": {},
     "source": [
      "We are using now one of the methods to call the cm commands in the following sections."
     ]
    },
    {
     "cell_type": "heading",
     "level": 2,
     "metadata": {},
     "source": [
      "group command"
     ]
    },
    {
     "cell_type": "markdown",
     "metadata": {},
     "source": [
      "group command is the place for you to perform group management, you may create a group, add items to groups, list groups, etc. for more detailed description:"
     ]
    },
    {
     "cell_type": "code",
     "collapsed": false,
     "input": [
      "cm \"group -h\""
     ],
     "language": "python",
     "metadata": {},
     "outputs": []
    },
    {
     "cell_type": "markdown",
     "metadata": {},
     "source": [
      "To better understand this command, here is a simple usage case. For example, you may create group named sample-group by:"
     ]
    },
    {
     "cell_type": "code",
     "collapsed": false,
     "input": [
      "cm \"group create sample-group\""
     ],
     "language": "python",
     "metadata": {},
     "outputs": []
    },
    {
     "cell_type": "markdown",
     "metadata": {},
     "source": [
      "Then list the groups by:"
     ]
    },
    {
     "cell_type": "code",
     "collapsed": false,
     "input": [
      "cm \"group list\""
     ],
     "language": "python",
     "metadata": {},
     "outputs": []
    },
    {
     "cell_type": "markdown",
     "metadata": {},
     "source": [
      "Then add a VM named sample-vm to the group (make sure the VM exists before add it):"
     ]
    },
    {
     "cell_type": "code",
     "collapsed": false,
     "input": [
      "cm \"group add item sample-group vm sample-vm\""
     ],
     "language": "python",
     "metadata": {},
     "outputs": []
    },
    {
     "cell_type": "markdown",
     "metadata": {},
     "source": [
      "To list what is included in the group:"
     ]
    },
    {
     "cell_type": "code",
     "collapsed": false,
     "input": [
      "cm \"group show sample-group\""
     ],
     "language": "python",
     "metadata": {},
     "outputs": []
    },
    {
     "cell_type": "markdown",
     "metadata": {},
     "source": [
      "To delete a VM from a group:"
     ]
    },
    {
     "cell_type": "code",
     "collapsed": false,
     "input": [
      "cm \"group remove item sample-group vm sample-vm\""
     ],
     "language": "python",
     "metadata": {},
     "outputs": []
    },
    {
     "cell_type": "markdown",
     "metadata": {},
     "source": [
      "To delete a group:"
     ]
    },
    {
     "cell_type": "code",
     "collapsed": false,
     "input": [
      "cm \"group remove sample-group\""
     ],
     "language": "python",
     "metadata": {},
     "outputs": []
    },
    {
     "cell_type": "heading",
     "level": 2,
     "metadata": {},
     "source": [
      "Working with group"
     ]
    },
    {
     "cell_type": "markdown",
     "metadata": {},
     "source": [
      "In Cloudmesh CLI, there will be several places you will need to use groups, for example, you may include a VM into a group while you create it, delete VMs by groups and when you create a cluster, a group name has to be provided. Here are some usage examples:"
     ]
    },
    {
     "cell_type": "markdown",
     "metadata": {},
     "source": [
      "start a VM and include it in a group, if the group doesn't exist, one will be created:"
     ]
    },
    {
     "cell_type": "code",
     "collapsed": false,
     "input": [
      "cm \"vm start --group=sample\""
     ],
     "language": "python",
     "metadata": {},
     "outputs": []
    },
    {
     "cell_type": "markdown",
     "metadata": {},
     "source": [
      "delete a group of VMs:"
     ]
    },
    {
     "cell_type": "code",
     "collapsed": false,
     "input": [
      "cm \"vm delete --group=sample\""
     ],
     "language": "python",
     "metadata": {},
     "outputs": []
    },
    {
     "cell_type": "markdown",
     "metadata": {},
     "source": [
      "When creating a cluster, you need to provide a group name, if the group doesn't exist, one will be created. If the group exist and it has VMs in it already, all the existing VMs will be included into the cluster, which means the group equals to the cluster:"
     ]
    },
    {
     "cell_type": "code",
     "collapsed": false,
     "input": [
      "cm \"cluster create --count=2 --group=sample\""
     ],
     "language": "python",
     "metadata": {},
     "outputs": []
    }
   ],
   "metadata": {}
  }
 ]
}