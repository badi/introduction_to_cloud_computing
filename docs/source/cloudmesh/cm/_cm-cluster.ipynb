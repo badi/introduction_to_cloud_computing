{
 "metadata": {
  "name": "",
  "signature": "sha256:69c4c9946c8745cf58b563afd2a2bd584d00108bf48cd529eb0ae84b46ef10e4"
 },
 "nbformat": 3,
 "nbformat_minor": 0,
 "worksheets": [
  {
   "cells": [
    {
     "cell_type": "heading",
     "level": 1,
     "metadata": {},
     "source": [
      "Deploying Data-Intensive Cluster on Cloudmesh"
     ]
    },
    {
     "cell_type": "markdown",
     "metadata": {},
     "source": [
      "<button type=\"button\" class=\"btn btn-default navbar-btn\">[Notebook](http://localhost:8888/notebooks/docs/source/cloudmesh/cm/_cm-cluster.ipynb)</button>"
     ]
    },
    {
     "cell_type": "markdown",
     "metadata": {},
     "source": [
      "To support a compute cluster (e.g. Hadoop or Slurm) on cloudmesh, we are offering a new command ```cluster``` to start, configure, manage or update compute nodes (vms)."
     ]
    },
    {
     "cell_type": "heading",
     "level": 3,
     "metadata": {},
     "source": [
      "IPython Alias"
     ]
    },
    {
     "cell_type": "markdown",
     "metadata": {},
     "source": [
      "With the alias command we simply define a new command with the name cm that we can call directly from IPython. Here we make sure that the parameters ar between \"\" so that they are properly set. Just execute the following lines."
     ]
    },
    {
     "cell_type": "code",
     "collapsed": false,
     "input": [
      "alias cm cm %s"
     ],
     "language": "python",
     "metadata": {},
     "outputs": []
    },
    {
     "cell_type": "heading",
     "level": 2,
     "metadata": {},
     "source": [
      "Preparation (Optional)"
     ]
    },
    {
     "cell_type": "markdown",
     "metadata": {},
     "source": [
      "```cluster``` command should be available in cm command. There are certain steps to make sure you are all set to deploy a new cluster.\n",
      "\n",
      "You can SKIP these steps if you have configured cloudmesh."
     ]
    },
    {
     "cell_type": "code",
     "collapsed": false,
     "input": [
      "cm \"cluster\" "
     ],
     "language": "python",
     "metadata": {},
     "outputs": []
    },
    {
     "cell_type": "markdown",
     "metadata": {},
     "source": [
      "Before start a cluster, please make sure you do the following settings with Cloudmesh CLI: "
     ]
    },
    {
     "cell_type": "heading",
     "level": 3,
     "metadata": {},
     "source": [
      "Activate cloud"
     ]
    },
    {
     "cell_type": "markdown",
     "metadata": {},
     "source": [
      "It is a default setting to use a cloud service."
     ]
    },
    {
     "cell_type": "code",
     "collapsed": false,
     "input": [
      "cm \"cloud on india\""
     ],
     "language": "python",
     "metadata": {},
     "outputs": []
    },
    {
     "cell_type": "heading",
     "level": 3,
     "metadata": {},
     "source": [
      "Choose a cloud service host to use"
     ]
    },
    {
     "cell_type": "markdown",
     "metadata": {},
     "source": [
      "It is a default setting to use a cloud service."
     ]
    },
    {
     "cell_type": "code",
     "collapsed": false,
     "input": [
      "cm \"cloud select india\""
     ],
     "language": "python",
     "metadata": {},
     "outputs": []
    },
    {
     "cell_type": "heading",
     "level": 3,
     "metadata": {},
     "source": [
      "Default keypair"
     ]
    },
    {
     "cell_type": "markdown",
     "metadata": {},
     "source": [
      "Default key is being used when a virtual machine is started. If you don't have a default keypair, you need to set or need to specify which keypair you are going use for the vm."
     ]
    },
    {
     "cell_type": "code",
     "collapsed": false,
     "input": [
      "cm \"key default test-key\""
     ],
     "language": "python",
     "metadata": {},
     "outputs": []
    },
    {
     "cell_type": "heading",
     "level": 3,
     "metadata": {},
     "source": [
      "VM Name"
     ]
    },
    {
     "cell_type": "markdown",
     "metadata": {},
     "source": [
      "You can also define the name of VMs which contains a prefix and an index with the ```label``` command."
     ]
    },
    {
     "cell_type": "code",
     "collapsed": false,
     "input": [
      "cm \"label --prefix=test --id=1\""
     ],
     "language": "python",
     "metadata": {},
     "outputs": []
    },
    {
     "cell_type": "heading",
     "level": 3,
     "metadata": {},
     "source": [
      "Default Image"
     ]
    },
    {
     "cell_type": "markdown",
     "metadata": {},
     "source": [
      "You can choose a default image to create a virtual machine. In this example, we use ubuntu-14.04 image as a default."
     ]
    },
    {
     "cell_type": "code",
     "collapsed": false,
     "input": [
      "cm \"default image --name=futuregrid/ubuntu-14.04\""
     ],
     "language": "python",
     "metadata": {},
     "outputs": []
    },
    {
     "cell_type": "heading",
     "level": 3,
     "metadata": {},
     "source": [
      "Default Flavor"
     ]
    },
    {
     "cell_type": "markdown",
     "metadata": {},
     "source": [
      "flavor is also same with configuring a default image."
     ]
    },
    {
     "cell_type": "code",
     "collapsed": false,
     "input": [
      "cm \"default flavor --name=m1.small\""
     ],
     "language": "python",
     "metadata": {},
     "outputs": []
    },
    {
     "cell_type": "heading",
     "level": 2,
     "metadata": {},
     "source": [
      "Create Cluster"
     ]
    },
    {
     "cell_type": "markdown",
     "metadata": {},
     "source": [
      "Then you may start the cluster with command 'cluster create' by providing the following values:\n",
      "\n",
      "--count           \n",
      "    specify amount of VMs in the cluster\n",
      "\n",
      "--group           \n",
      "    specify a group name of the cluster, make sure it's UNIQUE\n",
      "\n",
      "--ln          \n",
      "    login name for VMs, e.g. ubuntu\n",
      "\n",
      "for example:"
     ]
    },
    {
     "cell_type": "heading",
     "level": 3,
     "metadata": {},
     "source": [
      "Create 3 virtual machines"
     ]
    },
    {
     "cell_type": "code",
     "collapsed": false,
     "input": [
      "cm \"cluster create --count=3 --group=test --ln=ubuntu\""
     ],
     "language": "python",
     "metadata": {},
     "outputs": []
    },
    {
     "cell_type": "markdown",
     "metadata": {},
     "source": [
      "You may also provide cloud name, flavor or image in the command if you don't want to pre-set them. For example:"
     ]
    },
    {
     "cell_type": "markdown",
     "metadata": {},
     "source": [
      "cm \"cluster create --count=3 --group=test0 --ln=ubuntu --cloud=india --flavor=m1.small --image=futuregrid/ubuntu-14.04\""
     ]
    },
    {
     "cell_type": "markdown",
     "metadata": {},
     "source": [
      "command cluster is still under development, at this point, if you want to list the VMs of the cluster you just created, you may use the following command:"
     ]
    },
    {
     "cell_type": "code",
     "collapsed": false,
     "input": [
      "Check the v"
     ],
     "language": "python",
     "metadata": {},
     "outputs": []
    },
    {
     "cell_type": "code",
     "collapsed": false,
     "input": [
      "cm \"vm list --refresh --group=test\""
     ],
     "language": "python",
     "metadata": {},
     "outputs": []
    }
   ],
   "metadata": {}
  }
 ]
}