{
 "metadata": {
  "name": "",
  "signature": "sha256:37760d493079d491eb16195cced8c1c3e9edc9737a678e78da40f9420961b3af"
 },
 "nbformat": 3,
 "nbformat_minor": 0,
 "worksheets": [
  {
   "cells": [
    {
     "cell_type": "heading",
     "level": 1,
     "metadata": {},
     "source": [
      "CM Console for VM Management"
     ]
    },
    {
     "cell_type": "markdown",
     "metadata": {},
     "source": [
      "<button type=\"button\" class=\"btn btn-default navbar-btn\">[Notebook](http://localhost:8888/notebooks/docs/source/cloudmesh/cm/_vm-cm.ipynb)</button>"
     ]
    },
    {
     "cell_type": "code",
     "collapsed": false,
     "input": [
      "alias cm cm %s"
     ],
     "language": "python",
     "metadata": {},
     "outputs": [],
     "prompt_number": 1
    },
    {
     "cell_type": "markdown",
     "metadata": {},
     "source": [
      "<div class=\"alert alert-info\" role=\"alert\">\n",
      "The alias command is only needed when executing the commands in this in IPython. \n",
      "</div>"
     ]
    },
    {
     "cell_type": "markdown",
     "metadata": {},
     "source": [
      "First let us set the error reporting to a minimal. If you like to see more output you can switch it on by setting different debug and loglevels."
     ]
    },
    {
     "cell_type": "heading",
     "level": 2,
     "metadata": {},
     "source": [
      "Preparation"
     ]
    },
    {
     "cell_type": "code",
     "collapsed": false,
     "input": [
      "cm debug off"
     ],
     "language": "python",
     "metadata": {},
     "outputs": [
      {
       "output_type": "stream",
       "stream": "stdout",
       "text": [
        "Debug mode is off.\r\n"
       ]
      }
     ],
     "prompt_number": 2
    },
    {
     "cell_type": "code",
     "collapsed": false,
     "input": [
      "cm loglevel error"
     ],
     "language": "python",
     "metadata": {},
     "outputs": [
      {
       "output_type": "stream",
       "stream": "stdout",
       "text": [
        "ERROR mode is set.\r\n"
       ]
      }
     ],
     "prompt_number": 3
    },
    {
     "cell_type": "heading",
     "level": 2,
     "metadata": {},
     "source": [
      "Help"
     ]
    },
    {
     "cell_type": "markdown",
     "metadata": {},
     "source": [
      "Let us review the available commands"
     ]
    },
    {
     "cell_type": "code",
     "collapsed": false,
     "input": [
      "cm help"
     ],
     "language": "python",
     "metadata": {},
     "outputs": [
      {
       "output_type": "stream",
       "stream": "stdout",
       "text": [
        "\r\n",
        "Documented commands (type help <topic>):\r\n",
        "========================================\r\n",
        "EOF       dot2      help       list      plugins   script          var    \r\n",
        "banner    edit      image      loglevel  project   security_group  verbose\r\n",
        "clear     exec      info       man       py        status          version\r\n",
        "cloud     exp       init       metric    q         storm           vm     \r\n",
        "color     flavor    inventory  notebook  quit      timer           web    \r\n",
        "debug     graphviz  key        open      rain      use             yaml   \r\n",
        "defaults  group     label      pause     register  user          \r\n",
        "\r\n",
        "Ipython Commands\r\n",
        "================\r\n",
        "notebook\r\n",
        "\r\n",
        "Gui Commands\r\n",
        "============\r\n",
        "web\r\n",
        "\r\n",
        "Cloud Commands\r\n",
        "==============\r\n",
        "cloud     group  inventory  rain            status  vm     loglevel\r\n",
        "defaults  image  list       register        storm   yaml   keys    \r\n",
        "flavor    init   metric     security_group  user    debug  project \r\n",
        "\r\n"
       ]
      }
     ],
     "prompt_number": 4
    },
    {
     "cell_type": "heading",
     "level": 2,
     "metadata": {},
     "source": [
      "Activating Clouds"
     ]
    },
    {
     "cell_type": "markdown",
     "metadata": {},
     "source": [
      "In order for cloudmesh to work with multiple clouds, we need to find out first which clouds are available. Users can add their own clouds later which we describe in the registration section. \n",
      "\n",
      "Let us inspect which clouds are available by invoking the list command."
     ]
    },
    {
     "cell_type": "markdown",
     "metadata": {},
     "source": [
      "As you see we have a number of clouds, but none of them is already active. Thus we need to first activate a cloud. \n",
      "We assume that you have an account on FutureGrid. Let us activate the cloud india"
     ]
    },
    {
     "cell_type": "code",
     "collapsed": false,
     "input": [
      "cm cloud list"
     ],
     "language": "python",
     "metadata": {},
     "outputs": [
      {
       "output_type": "stream",
       "stream": "stdout",
       "text": [
        "+-----------+--------+\r\n",
        "| cloud     | active |\r\n",
        "+-----------+--------+\r\n",
        "| aws       |        |\r\n",
        "| azure     |        |\r\n",
        "| devstack  |        |\r\n",
        "| dreamhost |        |\r\n",
        "| hp        |        |\r\n",
        "| hp_east   |        |\r\n",
        "| india     |        |\r\n",
        "+-----------+--------+\r\n"
       ]
      }
     ],
     "prompt_number": 6
    },
    {
     "cell_type": "code",
     "collapsed": false,
     "input": [
      "cm cloud on india"
     ],
     "language": "python",
     "metadata": {},
     "outputs": []
    },
    {
     "cell_type": "markdown",
     "metadata": {},
     "source": [
      "We also have a conveniet interactive command to select a cloud to work with, that however does not work with ipython\n",
      "        \n",
      "    \"cloud select\"\n",
      "    \n",
      "or you may also input \"cloud select india\" to select a specific cloud india."
     ]
    },
    {
     "cell_type": "markdown",
     "metadata": {},
     "source": [
      "To check if the cloud was activated, simply use the list command again."
     ]
    },
    {
     "cell_type": "code",
     "collapsed": false,
     "input": [
      "cm cloud list"
     ],
     "language": "python",
     "metadata": {},
     "outputs": [
      {
       "output_type": "stream",
       "stream": "stdout",
       "text": [
        "+-----------+--------+\r\n",
        "| cloud     | active |\r\n",
        "+-----------+--------+\r\n",
        "| aws       |        |\r\n",
        "| azure     |        |\r\n",
        "| devstack  |        |\r\n",
        "| dreamhost |        |\r\n",
        "| hp        |        |\r\n",
        "| hp_east   |        |\r\n",
        "| india     | True   |\r\n",
        "+-----------+--------+\r\n"
       ]
      }
     ],
     "prompt_number": 5
    },
    {
     "cell_type": "heading",
     "level": 2,
     "metadata": {},
     "source": [
      "Start a VM"
     ]
    },
    {
     "cell_type": "markdown",
     "metadata": {},
     "source": [
      "Now let us see how to start a VM on a cloud, here is how to start a VM on cloud india."
     ]
    },
    {
     "cell_type": "code",
     "collapsed": false,
     "input": [
      "cm \"vm start --cloud=india --image=futuregrid/ubuntu-14.04 --flavor=m1.small\""
     ],
     "language": "python",
     "metadata": {},
     "outputs": []
    },
    {
     "cell_type": "markdown",
     "metadata": {},
     "source": [
      "You may don\u2019t know what images or flavors are available on the cloud, or you don\u2019t want to type a long command every time you start a VM, things can get a lot easier by performing some setting up."
     ]
    },
    {
     "cell_type": "heading",
     "level": 2,
     "metadata": {},
     "source": [
      "Set a default flavor or image"
     ]
    },
    {
     "cell_type": "markdown",
     "metadata": {},
     "source": [
      "Each cloud must have a default image and a default flavor to launch vm instances in a simple step. The `cloud set` command provides a way to set default values for an image or a flavor."
     ]
    },
    {
     "cell_type": "code",
     "collapsed": false,
     "input": [
      "cm \"cloud set flavor india --flavor=m1.small\""
     ],
     "language": "python",
     "metadata": {},
     "outputs": []
    },
    {
     "cell_type": "code",
     "collapsed": false,
     "input": [
      "cm \"cloud set image india --image=futuregrid/ubuntu-14.04\""
     ],
     "language": "python",
     "metadata": {},
     "outputs": []
    },
    {
     "cell_type": "heading",
     "level": 2,
     "metadata": {},
     "source": [
      "Get Flavors or Images"
     ]
    },
    {
     "cell_type": "markdown",
     "metadata": {},
     "source": [
      "Available flavors can be listed with the following command."
     ]
    },
    {
     "cell_type": "code",
     "collapsed": false,
     "input": [
      "cm list flavor india"
     ],
     "language": "python",
     "metadata": {},
     "outputs": [
      {
       "output_type": "stream",
       "stream": "stdout",
       "text": [
        "+------+-----------+---------+-------+--------+----------------------+\r\n",
        "|   id | name      |   vcpus |   ram |   disk | refresh time         |\r\n",
        "+======+===========+=========+=======+========+======================+\r\n",
        "|    1 | m1.tiny   |       1 |   512 |      0 | 2014-09-20T15-05-18Z |\r\n",
        "+------+-----------+---------+-------+--------+----------------------+\r\n",
        "|    3 | m1.medium |       2 |  4096 |     40 | 2014-09-20T15-05-18Z |\r\n",
        "+------+-----------+---------+-------+--------+----------------------+\r\n",
        "|    2 | m1.small  |       1 |  2048 |     20 | 2014-09-20T15-05-18Z |\r\n",
        "+------+-----------+---------+-------+--------+----------------------+\r\n",
        "|    5 | m1.xlarge |       8 | 16384 |    160 | 2014-09-20T15-05-18Z |\r\n",
        "+------+-----------+---------+-------+--------+----------------------+\r\n",
        "|    4 | m1.large  |       4 |  8192 |     80 | 2014-09-20T15-05-18Z |\r\n",
        "+------+-----------+---------+-------+--------+----------------------+\r\n"
       ]
      }
     ],
     "prompt_number": 6
    },
    {
     "cell_type": "markdown",
     "metadata": {},
     "source": [
      "refresh option updates the data from the IaaS cloud. The cached data in the mongo database will be updated."
     ]
    },
    {
     "cell_type": "code",
     "collapsed": false,
     "input": [
      "cm \"list flavor india --refresh\""
     ],
     "language": "python",
     "metadata": {},
     "outputs": []
    },
    {
     "cell_type": "markdown",
     "metadata": {},
     "source": [
      "The `list image` command provides an available vm images on a selected cloud."
     ]
    },
    {
     "cell_type": "markdown",
     "metadata": {},
     "source": [
      ".. todo:: Hyungro, update this example so it fits better in 80 column, maybe remove the id"
     ]
    },
    {
     "cell_type": "code",
     "collapsed": false,
     "input": [
      "cm \"list image india --column=name,updated\""
     ],
     "language": "python",
     "metadata": {},
     "outputs": [
      {
       "output_type": "stream",
       "stream": "stdout",
       "text": [
        "+----------------------------------------------------+----------------------+\r\n",
        "| name                                               | updated              |\r\n",
        "+====================================================+======================+\r\n",
        "| salsahpc/cloud-mooc-m1-large-4GB                   | 2013-12-27T01:09:19Z |\r\n",
        "+----------------------------------------------------+----------------------+\r\n",
        "| CentOS6                                            | 2014-04-29T05:06:40Z |\r\n",
        "+----------------------------------------------------+----------------------+\r\n",
        "| SL64-blank-sparse10gb-C vmdk                       | 2014-02-05T16:57:37Z |\r\n",
        "+----------------------------------------------------+----------------------+\r\n",
        "| fg7/rynge/centos6-v1                               | 2014-05-01T21:42:25Z |\r\n",
        "+----------------------------------------------------+----------------------+\r\n",
        "| futuregrid/centos-6                                | 2014-05-27T15:04:30Z |\r\n",
        "+----------------------------------------------------+----------------------+\r\n",
        "| DaLiAna-vm2014e-geant4.10.vmdk Jan best            | 2014-03-05T04:22:40Z |\r\n",
        "+----------------------------------------------------+----------------------+\r\n",
        "| ubuntu-13.10                                       | 2014-01-29T17:24:08Z |\r\n",
        "+----------------------------------------------------+----------------------+\r\n",
        "| futuregrid/ubuntu-14.04                            | 2014-09-12T20:16:05Z |\r\n",
        "+----------------------------------------------------+----------------------+\r\n",
        "| fg101/richieriee/my-ubuntu-01                      | 2014-07-24T01:10:37Z |\r\n",
        "+----------------------------------------------------+----------------------+\r\n",
        "| sl64-gluex-vm2014e-40gb.vmdk Justin                | 2014-03-13T17:21:09Z |\r\n",
        "+----------------------------------------------------+----------------------+\r\n",
        "| futuregrid/fedora-19                               | 2014-09-12T20:16:22Z |\r\n",
        "+----------------------------------------------------+----------------------+\r\n",
        "| fg10/jcharcal/centos6.5_x86_64                     | 2014-03-12T13:50:20Z |\r\n",
        "+----------------------------------------------------+----------------------+\r\n",
        "| balewski/kernel-2.6.32-431.5.1-sl65                | 2014-03-10T01:56:13Z |\r\n",
        "+----------------------------------------------------+----------------------+\r\n",
        "| SL64-blank-sparse40GB vmdk                         | 2014-02-05T16:57:23Z |\r\n",
        "+----------------------------------------------------+----------------------+\r\n",
        "| Ubuntu-12.04-blank2.vmdk                           | 2014-02-05T16:55:28Z |\r\n",
        "+----------------------------------------------------+----------------------+\r\n",
        "| balewski/ramdisk-2.6.32-431.5.1-sl65               | 2014-03-10T01:56:19Z |\r\n",
        "+----------------------------------------------------+----------------------+\r\n",
        "| sl6_x64-qemu  french ?bad                          | 2014-02-01T21:59:26Z |\r\n",
        "+----------------------------------------------------+----------------------+\r\n",
        "| balewski/sl6.5-blank-80gb-b works                  | 2014-03-10T15:48:27Z |\r\n",
        "+----------------------------------------------------+----------------------+\r\n",
        "| futuregrid/ubuntu-12.04                            | 2014-09-12T20:16:01Z |\r\n",
        "+----------------------------------------------------+----------------------+\r\n",
        "| ndssl-vt/ubuntu-12.04-small                        | 2013-12-05T22:02:57Z |\r\n",
        "+----------------------------------------------------+----------------------+\r\n",
        "| futuregrid/fedora-20                               | 2014-09-12T20:15:43Z |\r\n",
        "+----------------------------------------------------+----------------------+\r\n",
        "| cglmoocs/ipython                                   | 2014-01-06T16:18:54Z |\r\n",
        "+----------------------------------------------------+----------------------+\r\n",
        "| ubuntu12-comet                                     | 2013-11-27T21:28:10Z |\r\n",
        "+----------------------------------------------------+----------------------+\r\n",
        "| balewski/daliana-vm2014e2-sl6.5-geant4.10-root5.34 | 2014-03-10T02:05:55Z |\r\n",
        "+----------------------------------------------------+----------------------+\r\n",
        "| DaLiAna-vm2014d-SL64-A.vmdk                        | 2014-02-03T16:04:12Z |\r\n",
        "+----------------------------------------------------+----------------------+\r\n"
       ]
      }
     ],
     "prompt_number": 7
    },
    {
     "cell_type": "heading",
     "level": 2,
     "metadata": {},
     "source": [
      "Quick Start a VM"
     ]
    },
    {
     "cell_type": "markdown",
     "metadata": {},
     "source": [
      "The `vm start` command provides a quick launch of a vm instance in cloudmesh."
     ]
    },
    {
     "cell_type": "code",
     "collapsed": false,
     "input": [
      "cm \"vm start --cloud=india\""
     ],
     "language": "python",
     "metadata": {},
     "outputs": []
    },
    {
     "cell_type": "heading",
     "level": 2,
     "metadata": {},
     "source": [
      "Delete a VM"
     ]
    },
    {
     "cell_type": "markdown",
     "metadata": {},
     "source": [
      "If you know the id of the virtual machine that you want to destroy, *delete* command in cloudmesh simply terminate the instance."
     ]
    },
    {
     "cell_type": "code",
     "collapsed": false,
     "input": [
      "cm \"vm delete [NAME] --cloud=india\""
     ],
     "language": "python",
     "metadata": {},
     "outputs": []
    },
    {
     "cell_type": "heading",
     "level": 2,
     "metadata": {},
     "source": [
      "More options to launch a VM instance"
     ]
    },
    {
     "cell_type": "markdown",
     "metadata": {},
     "source": [
      "When you create a new VM instance, you can also choose multiple options such as a flavor, an image associated with the instance. The `vm start` command accepts optional parameters as a user input of these options. To see a brief description of the command, try `cm \"vm --help\"` in the IPython Notebook cell.\n",
      "\n",
      "Available options are:\n",
      "\n",
      "* --`cloud=<CloudName>    :` give a cloud to work on, if not given, selected or default cloud will be used\n",
      "* --`count=<count>        :` give the number of servers to start\n",
      "* --`flavor=<flavorName>  :` give the name of the flavor\n",
      "* --`flavorid=<flavorId>  :` give the id of the flavor\n",
      "* --`group=<group>        :` give the group name of server\n",
      "* --`image=<imgName>      :` give the name of the image\n",
      "* --`imageid=<imgId>      :` give the id of the image"
     ]
    },
    {
     "cell_type": "code",
     "collapsed": false,
     "input": [
      "cm \"vm start --cloud=india --flavor=m1.medium --image=futuregrid/ubuntu-12.04\""
     ],
     "language": "python",
     "metadata": {},
     "outputs": []
    },
    {
     "cell_type": "heading",
     "level": 2,
     "metadata": {},
     "source": [
      "Vitual Machine Name"
     ]
    },
    {
     "cell_type": "markdown",
     "metadata": {},
     "source": [
      "In Cloudmesh, the default name of VM consists of your username and a number, for example, alex_1. `label` command allows you to manage or modify the VM name as you wish."
     ]
    },
    {
     "cell_type": "code",
     "collapsed": false,
     "input": [
      "cm label"
     ],
     "language": "python",
     "metadata": {},
     "outputs": []
    },
    {
     "cell_type": "code",
     "collapsed": false,
     "input": [
      "cm \"label --prefix=gregor --id=40\""
     ],
     "language": "python",
     "metadata": {},
     "outputs": []
    },
    {
     "cell_type": "code",
     "collapsed": false,
     "input": [
      "cm label"
     ],
     "language": "python",
     "metadata": {},
     "outputs": []
    },
    {
     "cell_type": "markdown",
     "metadata": {},
     "source": [
      "If the user doesn\u2019t provide a name while starting VMs, cloudmesh will generate labels for them. The default form to name VMs is prefix_index, where prefix is a string and index is an non-negative integer. If a index is used, the index value will be automatically added by one waiting to be used for next VM. To check your current prefix and index"
     ]
    },
    {
     "cell_type": "heading",
     "level": 2,
     "metadata": {},
     "source": [
      "Set default cloud"
     ]
    },
    {
     "cell_type": "markdown",
     "metadata": {},
     "source": [
      "If you want to make things even more convenient, you can set a default cloud or select a cloud to work with so that you don't have to type in a cloud everytime you need to specify a cloud, to set india as default cloud"
     ]
    },
    {
     "cell_type": "code",
     "collapsed": false,
     "input": [
      "cm \"cloud set default india\""
     ],
     "language": "python",
     "metadata": {},
     "outputs": []
    },
    {
     "cell_type": "markdown",
     "metadata": {},
     "source": [
      "to select a cloud"
     ]
    },
    {
     "cell_type": "code",
     "collapsed": false,
     "input": [
      "cm \"cloud select india\""
     ],
     "language": "python",
     "metadata": {},
     "outputs": []
    },
    {
     "cell_type": "markdown",
     "metadata": {},
     "source": [
      "You can see a selected cloud as a temporarily default cloud to work with."
     ]
    },
    {
     "cell_type": "markdown",
     "metadata": {},
     "source": [
      "For more details of using command cloud to set up a cloud"
     ]
    },
    {
     "cell_type": "code",
     "collapsed": false,
     "input": [
      "cm \"cloud -h\""
     ],
     "language": "python",
     "metadata": {},
     "outputs": []
    },
    {
     "cell_type": "heading",
     "level": 2,
     "metadata": {},
     "source": [
      "Refreshing VM status"
     ]
    },
    {
     "cell_type": "markdown",
     "metadata": {},
     "source": [
      "After you have started or deleted VMs, you may want to check clouds' VMs status. To refresh cloud india's VMs information"
     ]
    },
    {
     "cell_type": "code",
     "collapsed": false,
     "input": [
      "cm \"list vm india --refresh\""
     ],
     "language": "python",
     "metadata": {},
     "outputs": []
    },
    {
     "cell_type": "heading",
     "level": 2,
     "metadata": {},
     "source": [
      "Starting multiple VMs"
     ]
    },
    {
     "cell_type": "markdown",
     "metadata": {},
     "source": [
      "Sometimes we want to start more than one VM at the same time, we can choose the option --count=int where int is the number of VMs you want to start. For example, to start 5 VMs on india"
     ]
    },
    {
     "cell_type": "code",
     "collapsed": false,
     "input": [
      "cm \"vm start --cloud=india --count=5\""
     ],
     "language": "python",
     "metadata": {},
     "outputs": []
    },
    {
     "cell_type": "heading",
     "level": 2,
     "metadata": {},
     "source": [
      "Deleting VMs "
     ]
    },
    {
     "cell_type": "markdown",
     "metadata": {},
     "source": [
      "To delete one VM is easy, what if we want to delete 1000 VMs, we need a more convenient way to do it. Cloudmesh shell provides several methods to find the VMs and delete them, you may think there are two phases of VM deletion, searching and deleting. Here are some examples:"
     ]
    },
    {
     "cell_type": "markdown",
     "metadata": {},
     "source": [
      "to delete all VMs of cloud india"
     ]
    },
    {
     "cell_type": "code",
     "collapsed": false,
     "input": [
      "cm \"vm delete --cloud=india --force\""
     ],
     "language": "python",
     "metadata": {},
     "outputs": []
    },
    {
     "cell_type": "markdown",
     "metadata": {},
     "source": [
      "Note here we use the option \"--force\", without it the shell will give you a list of VMs to delete and ask for your confirmation."
     ]
    },
    {
     "cell_type": "markdown",
     "metadata": {},
     "source": [
      "to delete a VM by giving its name (you may always provide a cloud unless you have specified a default cloud or have selected a cloud)"
     ]
    },
    {
     "cell_type": "code",
     "collapsed": false,
     "input": [
      "cm \"vm delete --cloud=india abc_2 --force\""
     ],
     "language": "python",
     "metadata": {},
     "outputs": []
    },
    {
     "cell_type": "markdown",
     "metadata": {},
     "source": [
      "to delete a VM by group"
     ]
    },
    {
     "cell_type": "code",
     "collapsed": false,
     "input": [
      "cm \"vm delete --cloud=india --goup=testgroup --force\""
     ],
     "language": "python",
     "metadata": {},
     "outputs": []
    },
    {
     "cell_type": "markdown",
     "metadata": {},
     "source": [
      "We can also narrow the search result by giving more search conditions. For example, to delete VMs of cloud india that they are also in the group 'testgroup' and they have the prefix name 'abc' and their indices' range is no greater than 100"
     ]
    },
    {
     "cell_type": "code",
     "collapsed": false,
     "input": [
      "cm \"vm delete --cloud=india --goup=testgroup --prefix=abc --range=,100 --force\""
     ],
     "language": "python",
     "metadata": {},
     "outputs": []
    },
    {
     "cell_type": "heading",
     "level": 2,
     "metadata": {},
     "source": [
      "Login to a VM"
     ]
    },
    {
     "cell_type": "markdown",
     "metadata": {},
     "source": [
      "To login to a VM, you need to assign a public id to the VM you started, for example, assign a public ip to a VM named test_1 on cloud india:"
     ]
    },
    {
     "cell_type": "code",
     "collapsed": false,
     "input": [
      "cm \"vm ip test_1 --cloud=india\""
     ],
     "language": "python",
     "metadata": {},
     "outputs": []
    },
    {
     "cell_type": "markdown",
     "metadata": {},
     "source": [
      "Then you can login to this VM by(note here you need to provide the login name for your VM, it varys depend on the image you use while you start the VM, e.g. for ubuntu, you may type --ln=ubuntu):"
     ]
    },
    {
     "cell_type": "code",
     "collapsed": false,
     "input": [
      "cm \"vm login test_1 --ln=ubuntu --cloud=india\""
     ],
     "language": "python",
     "metadata": {},
     "outputs": []
    },
    {
     "cell_type": "markdown",
     "metadata": {},
     "source": [
      "If you just want to run some commands and get the return on the VM, you may add the commands at the end following '--'(e.g. ls -a)"
     ]
    },
    {
     "cell_type": "code",
     "collapsed": false,
     "input": [
      "cm \"vm login test_1 --ln=ubuntu --cloud=india -- ls -a\""
     ],
     "language": "python",
     "metadata": {},
     "outputs": []
    },
    {
     "cell_type": "markdown",
     "metadata": {},
     "source": [
      "For more details for command vm"
     ]
    },
    {
     "cell_type": "code",
     "collapsed": false,
     "input": [
      "cm \"vm -h\""
     ],
     "language": "python",
     "metadata": {},
     "outputs": []
    },
    {
     "cell_type": "markdown",
     "metadata": {},
     "source": [
      ".. todo:: Hyungro, add an example where you first set the default cloud and than use `vm delete ..,`  "
     ]
    }
   ],
   "metadata": {}
  }
 ]
}