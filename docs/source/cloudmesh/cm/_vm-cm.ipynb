{
 "metadata": {
  "name": "",
<<<<<<< HEAD
  "signature": "sha256:79f4fd1272bba492468d724a290052b0a3097de58e80eaa3382c49910836e3ed"
=======
  "signature": "sha256:989793dac019ce025abe599ee78fa2c06a6a00c3164c4ed1a3e2c95bade7e616"
>>>>>>> 7324bb18380f5336e3caf80634cdf7be39b56d50
 },
 "nbformat": 3,
 "nbformat_minor": 0,
 "worksheets": [
  {
   "cells": [
    {
     "cell_type": "heading",
     "level": 1,
     "metadata": {},
     "source": [
      "CM Console for VM Management"
     ]
    },
    {
     "cell_type": "markdown",
     "metadata": {},
     "source": [
      "<button type=\"button\" class=\"btn btn-default navbar-btn\">[Notebook](http://localhost:8888/notebooks/docs/source/cloudmesh/cm/_vm-cm.ipynb)</button>"
     ]
    },
    {
     "cell_type": "code",
     "collapsed": false,
     "input": [
      "alias cm cm %s"
     ],
     "language": "python",
     "metadata": {},
     "outputs": []
    },
    {
     "cell_type": "markdown",
     "metadata": {},
     "source": [
      "<div class=\"alert alert-info\" role=\"alert\">\n",
      "The alias command is only needed when executing the commands in this in IPython. \n",
      "</div>"
     ]
    },
    {
     "cell_type": "markdown",
     "metadata": {},
     "source": [
      "First let us set the error reporting to a minimal. If you like to see more output you can switch it on by setting different debug and loglevels."
     ]
    },
    {
     "cell_type": "heading",
     "level": 2,
     "metadata": {},
     "source": [
      "Preparation"
     ]
    },
    {
     "cell_type": "code",
     "collapsed": false,
     "input": [
      "cm debug off"
     ],
     "language": "python",
     "metadata": {},
     "outputs": []
    },
    {
     "cell_type": "code",
     "collapsed": false,
     "input": [
      "cm loglevel error"
     ],
     "language": "python",
     "metadata": {},
     "outputs": []
    },
    {
     "cell_type": "markdown",
     "metadata": {},
     "source": [
      "Lets get the username"
     ]
    },
    {
     "cell_type": "code",
     "collapsed": false,
     "input": [
      "import cloudmesh\n",
      "mesh = cloudmesh.mesh(\"mongo\")\n",
      "username = cloudmesh.load().username()"
     ],
     "language": "python",
     "metadata": {},
     "outputs": [],
     "prompt_number": 4
    },
    {
     "cell_type": "heading",
     "level": 2,
     "metadata": {},
     "source": [
      "Help"
     ]
    },
    {
     "cell_type": "markdown",
     "metadata": {},
     "source": [
      "Let us review the available commands"
     ]
    },
    {
     "cell_type": "code",
     "collapsed": false,
     "input": [
      "cm help"
     ],
     "language": "python",
     "metadata": {},
<<<<<<< HEAD
     "outputs": []
=======
     "outputs": [
      {
       "output_type": "stream",
       "stream": "stdout",
       "text": [
        "\r\n",
        "Documented commands (type help <topic>):\r\n",
        "========================================\r\n",
        "EOF       dot2      help       list      plugins   script          var    \r\n",
        "banner    edit      image      loglevel  project   security_group  verbose\r\n",
        "clear     exec      info       man       py        status          version\r\n",
        "cloud     exp       init       metric    q         storm           vm     \r\n",
        "color     flavor    inventory  notebook  quit      timer           web    \r\n",
        "debug     graphviz  key        open      rain      use             yaml   \r\n",
        "defaults  group     label      pause     register  user          \r\n",
        "\r\n",
        "Ipython Commands\r\n",
        "================\r\n",
        "notebook\r\n",
        "\r\n",
        "Gui Commands\r\n",
        "============\r\n",
        "web\r\n",
        "\r\n",
        "Cloud Commands\r\n",
        "==============\r\n",
        "cloud     group  inventory  rain            status  vm     loglevel\r\n",
        "defaults  image  list       register        storm   yaml   keys    \r\n",
        "flavor    init   metric     security_group  user    debug  project \r\n",
        "\r\n"
       ]
      }
     ],
     "prompt_number": 5
>>>>>>> 7324bb18380f5336e3caf80634cdf7be39b56d50
    },
    {
     "cell_type": "heading",
     "level": 2,
     "metadata": {},
     "source": [
      "Activating Clouds"
     ]
    },
    {
     "cell_type": "markdown",
     "metadata": {},
     "source": [
      "In order for cloudmesh to work with multiple clouds, we need to find out first which clouds are available. Users can add their own clouds later which we describe in the registration section. \n",
      "\n",
      "Let us inspect which clouds are available by invoking the list command."
     ]
    },
    {
     "cell_type": "markdown",
     "metadata": {},
     "source": [
      "As you see we have a number of clouds, but none of them is already active. Thus we need to first activate a cloud. \n",
      "We assume that you have an account on FutureGrid. Let us activate the cloud india"
     ]
    },
    {
     "cell_type": "code",
     "collapsed": false,
     "input": [
      "cm cloud list"
     ],
     "language": "python",
     "metadata": {},
<<<<<<< HEAD
     "outputs": []
=======
     "outputs": [
      {
       "output_type": "stream",
       "stream": "stdout",
       "text": [
        "+-----------+--------+\r\n",
        "| cloud     | active |\r\n",
        "+-----------+--------+\r\n",
        "| aws       |        |\r\n",
        "| azure     |        |\r\n",
        "| devstack  |        |\r\n",
        "| dreamhost |        |\r\n",
        "| hp        |        |\r\n",
        "| hp_east   |        |\r\n",
        "| india     | True   |\r\n",
        "+-----------+--------+\r\n"
       ]
      }
     ],
     "prompt_number": 6
>>>>>>> 7324bb18380f5336e3caf80634cdf7be39b56d50
    },
    {
     "cell_type": "code",
     "collapsed": false,
     "input": [
      "cm cloud on india"
     ],
     "language": "python",
     "metadata": {},
<<<<<<< HEAD
     "outputs": []
=======
     "outputs": [
      {
       "output_type": "stream",
       "stream": "stdout",
       "text": [
        "* india\r\n",
        "Refreshing gvonlasz servers india ->\r\n"
       ]
      },
      {
       "output_type": "stream",
       "stream": "stdout",
       "text": [
        "Refresh time: 0.339617013931\r\n",
        "Store time: 0.00380802154541\r\n"
       ]
      },
      {
       "output_type": "stream",
       "stream": "stdout",
       "text": [
        "\u001b[32mcloud 'india' activated.\u001b[0m\r\n"
       ]
      }
     ],
     "prompt_number": 7
>>>>>>> 7324bb18380f5336e3caf80634cdf7be39b56d50
    },
    {
     "cell_type": "markdown",
     "metadata": {},
     "source": [
      "We also have a conveniet interactive command to select a cloud to work with, that however does not work with ipython\n",
      "        \n",
      "    \"cloud select\"\n",
      "    \n",
      "or you may also input \"cloud select india\" to select a specific cloud india."
     ]
    },
    {
     "cell_type": "markdown",
     "metadata": {},
     "source": [
      "To check if the cloud was activated, simply use the list command again."
     ]
    },
    {
     "cell_type": "code",
     "collapsed": false,
     "input": [
      "cm cloud list"
     ],
     "language": "python",
     "metadata": {},
<<<<<<< HEAD
     "outputs": []
    },
    {
     "cell_type": "heading",
     "level": 2,
     "metadata": {},
     "source": [
      "Start a VM"
     ]
    },
    {
     "cell_type": "markdown",
     "metadata": {},
     "source": [
      "Now let us see how to start a VM on a cloud, here is how to start a VM on cloud india."
     ]
    },
    {
     "cell_type": "code",
     "collapsed": false,
     "input": [
      "cm \"vm start --cloud=india --image=futuregrid/ubuntu-14.04 --flavor=m1.small\""
     ],
     "language": "python",
     "metadata": {},
     "outputs": []
=======
     "outputs": [
      {
       "output_type": "stream",
       "stream": "stdout",
       "text": [
        "+-----------+--------+\r\n",
        "| cloud     | active |\r\n",
        "+-----------+--------+\r\n",
        "| aws       |        |\r\n",
        "| azure     |        |\r\n",
        "| devstack  |        |\r\n",
        "| dreamhost |        |\r\n",
        "| hp        |        |\r\n",
        "| hp_east   |        |\r\n",
        "| india     | True   |\r\n",
        "+-----------+--------+\r\n"
       ]
      }
     ],
     "prompt_number": 8
>>>>>>> 7324bb18380f5336e3caf80634cdf7be39b56d50
    },
    {
     "cell_type": "heading",
     "level": 2,
     "metadata": {},
     "source": [
      "Set a default flavor or image"
     ]
    },
    {
     "cell_type": "markdown",
     "metadata": {},
     "source": [
      "Each cloud must have a default image and a default flavor to launch vm instances in a simple step. The `cloud set` command provides a way to set default values for an image or a flavor."
     ]
    },
    {
     "cell_type": "code",
     "collapsed": false,
     "input": [
      "cm \"cloud set flavor india --flavor=m1.small\""
     ],
     "language": "python",
     "metadata": {},
<<<<<<< HEAD
     "outputs": []
=======
     "outputs": [
      {
       "output_type": "stream",
       "stream": "stdout",
       "text": [
        "* india\r\n",
        "Refreshing gvonlasz servers india ->\r\n"
       ]
      },
      {
       "output_type": "stream",
       "stream": "stdout",
       "text": [
        "Refresh time: 0.327661037445\r\n",
        "Store time: 0.00368309020996\r\n"
       ]
      },
      {
       "output_type": "stream",
       "stream": "stdout",
       "text": [
        "* india\r\n",
        "Refreshing gvonlasz flavors india ->\r\n"
       ]
      },
      {
       "output_type": "stream",
       "stream": "stdout",
       "text": [
        "Refresh time: 0.190788030624\r\n",
        "Store time: 0.00237011909485\r\n",
        "\u001b[32m'm1.small' is selected\u001b[0m\r\n"
       ]
      }
     ],
     "prompt_number": 9
>>>>>>> 7324bb18380f5336e3caf80634cdf7be39b56d50
    },
    {
     "cell_type": "code",
     "collapsed": false,
     "input": [
      "cm \"cloud set image india --image=futuregrid/ubuntu-14.04\""
     ],
     "language": "python",
     "metadata": {},
<<<<<<< HEAD
     "outputs": []
=======
     "outputs": [
      {
       "output_type": "stream",
       "stream": "stdout",
       "text": [
        "* india\r\n",
        "Refreshing gvonlasz servers india ->\r\n"
       ]
      },
      {
       "output_type": "stream",
       "stream": "stdout",
       "text": [
        "Refresh time: 0.329149007797\r\n",
        "Store time: 0.0026490688324\r\n"
       ]
      },
      {
       "output_type": "stream",
       "stream": "stdout",
       "text": [
        "* india\r\n",
        "Refreshing gvonlasz images india ->\r\n"
       ]
      },
      {
       "output_type": "stream",
       "stream": "stdout",
       "text": [
        "Refresh time: 0.436063051224\r\n",
        "Store time: 0.00921010971069\r\n",
        "\u001b[32m'futuregrid/ubuntu-14.04' is selected\u001b[0m\r\n"
       ]
      }
     ],
     "prompt_number": 10
>>>>>>> 7324bb18380f5336e3caf80634cdf7be39b56d50
    },
    {
     "cell_type": "heading",
     "level": 2,
     "metadata": {},
     "source": [
      "Get Flavors or Images"
     ]
    },
    {
     "cell_type": "markdown",
     "metadata": {},
     "source": [
      "Available flavors can be listed with the following command."
     ]
    },
    {
     "cell_type": "code",
     "collapsed": false,
     "input": [
      "cm \"list flavor india\""
     ],
     "language": "python",
     "metadata": {},
<<<<<<< HEAD
     "outputs": []
=======
     "outputs": [
      {
       "output_type": "stream",
       "stream": "stdout",
       "text": [
        "+------+-----------+---------+-------+--------+----------------------+\r\n",
        "|   id | name      |   vcpus |   ram |   disk | refresh time         |\r\n",
        "+======+===========+=========+=======+========+======================+\r\n",
        "|    1 | m1.tiny   |       1 |   512 |      0 | 2014-09-25T21-59-28Z |\r\n",
        "+------+-----------+---------+-------+--------+----------------------+\r\n",
        "|    3 | m1.medium |       2 |  4096 |     40 | 2014-09-25T21-59-28Z |\r\n",
        "+------+-----------+---------+-------+--------+----------------------+\r\n",
        "|    2 | m1.small  |       1 |  2048 |     20 | 2014-09-25T21-59-28Z |\r\n",
        "+------+-----------+---------+-------+--------+----------------------+\r\n",
        "|    5 | m1.xlarge |       8 | 16384 |    160 | 2014-09-25T21-59-28Z |\r\n",
        "+------+-----------+---------+-------+--------+----------------------+\r\n",
        "|    4 | m1.large  |       4 |  8192 |     80 | 2014-09-25T21-59-28Z |\r\n",
        "+------+-----------+---------+-------+--------+----------------------+\r\n"
       ]
      }
     ],
     "prompt_number": 11
>>>>>>> 7324bb18380f5336e3caf80634cdf7be39b56d50
    },
    {
     "cell_type": "markdown",
     "metadata": {},
     "source": [
      "refresh option updates the data from the IaaS cloud. The cached data in the mongo database will be updated."
     ]
    },
    {
     "cell_type": "code",
     "collapsed": false,
     "input": [
      "cm \"list flavor india --refresh\""
     ],
     "language": "python",
     "metadata": {},
<<<<<<< HEAD
     "outputs": []
=======
     "outputs": [
      {
       "output_type": "stream",
       "stream": "stdout",
       "text": [
        "* india\r\n",
        "Refreshing gvonlasz servers india ->\r\n"
       ]
      },
      {
       "output_type": "stream",
       "stream": "stdout",
       "text": [
        "Refresh time: 0.38128900528\r\n",
        "Store time: 0.00343894958496\r\n"
       ]
      },
      {
       "output_type": "stream",
       "stream": "stdout",
       "text": [
        "* india\r\n",
        "Refreshing gvonlasz flavors india ->\r\n"
       ]
      },
      {
       "output_type": "stream",
       "stream": "stdout",
       "text": [
        "Refresh time: 0.175014019012\r\n",
        "Store time: 0.00224304199219\r\n",
        "+------+-----------+---------+-------+--------+----------------------+\r\n",
        "|   id | name      |   vcpus |   ram |   disk | refresh time         |\r\n",
        "+======+===========+=========+=======+========+======================+\r\n",
        "|    1 | m1.tiny   |       1 |   512 |      0 | 2014-09-25T21-59-36Z |\r\n",
        "+------+-----------+---------+-------+--------+----------------------+\r\n",
        "|    3 | m1.medium |       2 |  4096 |     40 | 2014-09-25T21-59-36Z |\r\n",
        "+------+-----------+---------+-------+--------+----------------------+\r\n",
        "|    2 | m1.small  |       1 |  2048 |     20 | 2014-09-25T21-59-36Z |\r\n",
        "+------+-----------+---------+-------+--------+----------------------+\r\n",
        "|    5 | m1.xlarge |       8 | 16384 |    160 | 2014-09-25T21-59-36Z |\r\n",
        "+------+-----------+---------+-------+--------+----------------------+\r\n",
        "|    4 | m1.large  |       4 |  8192 |     80 | 2014-09-25T21-59-36Z |\r\n",
        "+------+-----------+---------+-------+--------+----------------------+\r\n"
       ]
      }
     ],
     "prompt_number": 12
>>>>>>> 7324bb18380f5336e3caf80634cdf7be39b56d50
    },
    {
     "cell_type": "markdown",
     "metadata": {},
     "source": [
      "The `list image` command provides an available vm images on a selected cloud."
     ]
    },
    {
     "cell_type": "code",
     "collapsed": false,
     "input": [
      "cm \"list image india --column=name,updated\""
     ],
     "language": "python",
     "metadata": {},
     "outputs": []
    },
    {
     "cell_type": "heading",
     "level": 2,
     "metadata": {},
     "source": [
      "Quick Start a VM"
     ]
    },
    {
     "cell_type": "markdown",
     "metadata": {},
     "source": [
      "The `vm start` command provides a quick launch of a vm instance in cloudmesh."
     ]
    },
    {
     "cell_type": "code",
     "collapsed": false,
     "input": [
      "cm \"vm start --cloud=india\""
     ],
     "language": "python",
     "metadata": {},
<<<<<<< HEAD
     "outputs": []
=======
     "outputs": [
      {
       "output_type": "stream",
       "stream": "stdout",
       "text": [
        "* india\r\n",
        "Refreshing gvonlasz servers india ->\r\n"
       ]
      },
      {
       "output_type": "stream",
       "stream": "stdout",
       "text": [
        "Refresh time: 0.338720083237\r\n",
        "Store time: 0.00374412536621\r\n"
       ]
      },
      {
       "output_type": "stream",
       "stream": "stdout",
       "text": [
        "\r\n",
        "# ######################################################################\r\n",
        "# Starting vm->gvonlasz_6 on cloud->india using image->futuregrid/ubuntu-14.04, flavor->m1.small, key->gvonlasz_flat-key\r\n",
        "# ######################################################################\r\n"
       ]
      },
      {
       "output_type": "stream",
       "stream": "stdout",
       "text": [
        "job status: STARTED\r\n"
       ]
      }
     ],
     "prompt_number": 14
>>>>>>> 7324bb18380f5336e3caf80634cdf7be39b56d50
    },
    {
     "cell_type": "heading",
     "level": 2,
     "metadata": {},
     "source": [
      "Start a VM"
     ]
    },
    {
     "cell_type": "markdown",
     "metadata": {},
     "source": [
      "In case you like not to use the defaults you can also specify the image and flavor "
     ]
    },
    {
     "cell_type": "markdown",
     "metadata": {},
     "source": [
      "Now let us see how to start a VM on a cloud, here is how to start a VM on cloud india."
     ]
    },
    {
     "cell_type": "code",
     "collapsed": false,
     "input": [
      "cm \"vm start --cloud=india --image=futuregrid/ubuntu-14.04 --flavor=m1.small\""
     ],
     "language": "python",
     "metadata": {},
     "outputs": [
      {
       "output_type": "stream",
       "stream": "stdout",
       "text": [
        "* india\r\n",
        "Refreshing gvonlasz servers india ->\r\n"
       ]
      },
      {
       "output_type": "stream",
       "stream": "stdout",
       "text": [
        "Refresh time: 0.35135102272\r\n",
        "Store time: 0.00252389907837\r\n"
       ]
      },
      {
       "output_type": "stream",
       "stream": "stdout",
       "text": [
        "* india\r\n",
        "Refreshing gvonlasz flavors india ->\r\n"
       ]
      },
      {
       "output_type": "stream",
       "stream": "stdout",
       "text": [
        "Refresh time: 0.174534082413\r\n",
        "Store time: 0.00227618217468\r\n",
        "Refreshing gvonlasz images india ->\r\n"
       ]
      },
      {
       "output_type": "stream",
       "stream": "stdout",
       "text": [
        "Refresh time: 0.431704998016\r\n",
        "Store time: 0.00950694084167\r\n"
       ]
      },
      {
       "output_type": "stream",
       "stream": "stdout",
       "text": [
        "\r\n",
        "# ######################################################################\r\n",
        "# Starting vm->gvonlasz_7 on cloud->india using image->futuregrid/ubuntu-14.04, flavor->m1.small, key->gvonlasz_flat-key\r\n",
        "# ######################################################################\r\n"
       ]
      },
      {
       "output_type": "stream",
       "stream": "stdout",
       "text": [
        "job status: PENDING\r\n"
       ]
      }
     ],
     "prompt_number": 15
    },
    {
     "cell_type": "heading",
     "level": 2,
     "metadata": {},
     "source": [
      "Delete a VM"
     ]
    },
    {
     "cell_type": "markdown",
     "metadata": {},
     "source": [
      "If you know the id or name of the virtual machine that you want to destroy, *delete* command in cloudmesh simply terminate the instance."
     ]
    },
    {
     "cell_type": "markdown",
     "metadata": {},
     "source": [
      "`cm \"vm delete [NAME|--id=<id>] --cloud=india\"`"
     ]
    },
    {
     "cell_type": "heading",
     "level": 2,
     "metadata": {},
     "source": [
      "More options to launch a VM instance"
     ]
    },
    {
     "cell_type": "markdown",
     "metadata": {},
     "source": [
      "When you create a new VM instance, you can also choose multiple options such as a flavor, an image associated with the instance. The `vm start` command accepts optional parameters as a user input of these options. To see a brief description of the command, try `cm \"vm --help\"` in the IPython Notebook cell.\n",
      "\n",
      "Available options are:\n",
      "\n",
      "* --`cloud=<CloudName>    :` give a cloud to work on, if not given, selected or default cloud will be used\n",
      "* --`count=<count>        :` give the number of servers to start\n",
      "* --`flavor=<flavorName>  :` give the name of the flavor\n",
      "* --`flavorid=<flavorId>  :` give the id of the flavor\n",
      "* --`group=<group>        :` give the group name of server\n",
      "* --`image=<imgName>      :` give the name of the image\n",
      "* --`imageid=<imgId>      :` give the id of the image"
     ]
    },
    {
     "cell_type": "code",
     "collapsed": false,
     "input": [
      "cm \"vm start --cloud=india --flavor=m1.medium --image=futuregrid/ubuntu-12.04\""
     ],
     "language": "python",
     "metadata": {},
<<<<<<< HEAD
     "outputs": []
=======
     "outputs": [
      {
       "output_type": "stream",
       "stream": "stdout",
       "text": [
        "* india\r\n",
        "Refreshing gvonlasz servers india ->\r\n"
       ]
      },
      {
       "output_type": "stream",
       "stream": "stdout",
       "text": [
        "Refresh time: 0.38778591156\r\n",
        "Store time: 0.00318717956543\r\n"
       ]
      },
      {
       "output_type": "stream",
       "stream": "stdout",
       "text": [
        "* india\r\n",
        "Refreshing gvonlasz flavors india ->\r\n"
       ]
      },
      {
       "output_type": "stream",
       "stream": "stdout",
       "text": [
        "Refresh time: 0.166579008102\r\n",
        "Store time: 0.00313711166382\r\n",
        "Refreshing gvonlasz images india ->\r\n"
       ]
      },
      {
       "output_type": "stream",
       "stream": "stdout",
       "text": [
        "Refresh time: 0.433362960815\r\n",
        "Store time: 0.00941014289856\r\n"
       ]
      },
      {
       "output_type": "stream",
       "stream": "stdout",
       "text": [
        "\r\n",
        "# ######################################################################\r\n",
        "# Starting vm->gvonlasz_8 on cloud->india using image->futuregrid/ubuntu-12.04, flavor->m1.medium, key->gvonlasz_flat-key\r\n",
        "# ######################################################################\r\n"
       ]
      },
      {
       "output_type": "stream",
       "stream": "stdout",
       "text": [
        "job status: STARTED\r\n"
       ]
      }
     ],
     "prompt_number": 16
    },
    {
     "cell_type": "heading",
     "level": 2,
     "metadata": {},
     "source": [
      "Vitual Machine Name"
     ]
    },
    {
     "cell_type": "markdown",
     "metadata": {},
     "source": [
      "In Cloudmesh, the default name of VM consists of your username and a number, for example, alex_1. `label` command allows you to manage or modify the VM name as you wish."
     ]
    },
    {
     "cell_type": "code",
     "collapsed": false,
     "input": [
      "cm label"
     ],
     "language": "python",
     "metadata": {},
     "outputs": [
      {
       "output_type": "stream",
       "stream": "stdout",
       "text": [
        "* india\r\n",
        "Refreshing gvonlasz servers india ->\r\n"
       ]
      },
      {
       "output_type": "stream",
       "stream": "stdout",
       "text": [
        "Refresh time: 0.36207485199\r\n",
        "Store time: 0.00311088562012\r\n"
       ]
      },
      {
       "output_type": "stream",
       "stream": "stdout",
       "text": [
        "next vm name:\r\n",
        "gvonlasz_9\r\n"
       ]
      }
     ],
     "prompt_number": 17
    },
    {
     "cell_type": "markdown",
     "metadata": {},
     "source": [
      "`cm \"label --prefix=gregor --id=40\"`"
     ]
    },
    {
     "cell_type": "markdown",
     "metadata": {},
     "source": [
      "`cm label`"
     ]
    },
    {
     "cell_type": "markdown",
     "metadata": {},
     "source": [
      "If the user doesn\u2019t provide a name while starting VMs, cloudmesh will generate labels for them. The default form to name VMs is prefix_index, where prefix is a string and index is an non-negative integer. If a index is used, the index value will be automatically added by one waiting to be used for next VM. To check your current prefix and index"
     ]
>>>>>>> 7324bb18380f5336e3caf80634cdf7be39b56d50
    },
    {
     "cell_type": "heading",
     "level": 2,
     "metadata": {},
     "source": [
      "Set default cloud"
     ]
    },
    {
     "cell_type": "markdown",
     "metadata": {},
     "source": [
      "If you want to make things even more convenient, you can set a default cloud or select a cloud to work with so that you don't have to type in a cloud everytime you need to specify a cloud, to set india as default cloud"
     ]
    },
    {
     "cell_type": "markdown",
     "metadata": {},
<<<<<<< HEAD
     "outputs": []
=======
     "source": [
      "`cm \"cloud set default india\"`"
     ]
>>>>>>> 7324bb18380f5336e3caf80634cdf7be39b56d50
    },
    {
     "cell_type": "markdown",
     "metadata": {},
     "source": [
      "to select a cloud"
     ]
    },
    {
     "cell_type": "code",
     "collapsed": false,
     "input": [
      "cm \"cloud select india\""
     ],
     "language": "python",
     "metadata": {},
     "outputs": [
      {
       "output_type": "stream",
       "stream": "stdout",
       "text": [
        "cloud 'india' is selected\r\n"
       ]
      }
     ],
     "prompt_number": 18
    },
    {
     "cell_type": "markdown",
     "metadata": {},
     "source": [
      "You can see a selected cloud as a temporarily default cloud to work with."
     ]
    },
    {
     "cell_type": "markdown",
     "metadata": {},
     "source": [
      "For more details of using command cloud to set up a cloud"
     ]
    },
    {
     "cell_type": "markdown",
     "metadata": {},
<<<<<<< HEAD
     "source": [
      "cm \"cloud -h\""
     ]
=======
     "outputs": [
      {
       "output_type": "stream",
       "stream": "stdout",
       "text": [
        "::\r\n",
        "\r\n",
        "    Usage:\r\n",
        "        cloud [list] [--column=COLUMN] [--format=FORMAT]\r\n",
        "        cloud info [CLOUD|--all] [--format=FORMAT]\r\n",
        "        cloud alias NAME [CLOUD]\r\n",
        "        cloud select [CLOUD]\r\n",
        "        cloud on [CLOUD]\r\n",
        "        cloud off [CLOUD]\r\n",
        "        cloud add <cloudYAMLfile> [--force]\r\n",
        "        cloud remove [CLOUD|--all]\r\n",
        "        cloud default [CLOUD|--all]\r\n",
        "        cloud set flavor [CLOUD] [--flavor=flavorName|--flavorid=flavorID]\r\n",
        "        cloud set image [CLOUD] [--image=imageName|--imageid=imageID]\r\n",
        "        cloud set default [CLOUD]\r\n",
        "\r\n",
        "    Arguments:\r\n",
        "\r\n",
        "      CLOUD                  the name of a cloud\r\n",
        "      <cloudYAMLfile>        a yaml file (with full file path) containing\r\n",
        "                             cloud information\r\n",
        "      NAME                   name for a cloud\r\n",
        "\r\n",
        "    Options:\r\n",
        "\r\n",
        "       --column=COLUMN       specify what information to display in\r\n",
        "                             the columns of the list command. For\r\n",
        "                             example, --column=active,label prints the\r\n",
        "                             columns active and label. Available\r\n",
        "                             columns are active, label, host,\r\n",
        "                             type/version, type, heading, user,\r\n",
        "                             credentials, defaults (all to diplay all,\r\n",
        "                             semiall to display all except credentials\r\n",
        "                             and defaults)\r\n",
        "\r\n",
        "       --format=FORMAT       output format: table, json, csv\r\n",
        "\r\n",
        "       --all                 display all available columns\r\n",
        "\r\n",
        "       --force               if same cloud exists in database, it will be\r\n",
        "                             overwritten\r\n",
        "\r\n",
        "       --flavor=flavorName   provide flavor name\r\n",
        "\r\n",
        "       --flavorid=flavorID   provide flavor id\r\n",
        "\r\n",
        "       --image=imageName     provide image name\r\n",
        "\r\n",
        "       --imageid=imageID     provide image id\r\n",
        "\r\n",
        "    Description:\r\n",
        "\r\n",
        "        The cloud command allows easy management of clouds in the\r\n",
        "        command shell. The following subcommands exist:\r\n",
        "\r\n",
        "        cloud [list] [--column=COLUMN] [--json|--table]\r\n",
        "            lists the stored clouds, optionally, specify columns for more\r\n",
        "            cloud information. For example, --column=active,label\r\n",
        "\r\n",
        "        cloud info [CLOUD|--all] [--json|--table]\r\n",
        "            provides the available information about the cloud in dict\r\n",
        "            format\r\n",
        "            options: specify CLOUD to display it, --all to display all,\r\n",
        "                     otherwise selected cloud will be used\r\n",
        "\r\n",
        "        cloud alias NAME [CLOUD]\r\n",
        "            sets a new name for a cloud\r\n",
        "            options: CLOUD is the original label of the cloud, if\r\n",
        "                     it is not specified the default cloud is used.\r\n",
        "\r\n",
        "\r\n",
        "        cloud select [CLOUD]\r\n",
        "            selects a cloud to work with from a list of clouds.If CLOUD is\r\n",
        "            is specified the default cloud will be set to that value.\r\n",
        "\r\n",
        "        cloud on [CLOUD]\r\n",
        "        cloud off [CLOUD]\r\n",
        "            activates or deactivates a cloud. if CLOUD is not\r\n",
        "            given, the default cloud will be used.\r\n",
        "\r\n",
        "\r\n",
        "        cloud add <cloudYAMLfile> [--force]\r\n",
        "            adds the cloud information to database that is\r\n",
        "            specified in the <cloudYAMLfile>. This file is a yaml. You\r\n",
        "            need to specify the full path. Inside the yaml, a\r\n",
        "            cloud is specified as follows:\r\n",
        "\r\n",
        "            cloudmesh:\r\n",
        "               clouds:\r\n",
        "                 cloud1: ...\r\n",
        "                 cloud2: ...\r\n",
        "\r\n",
        "            For examples on how to specify the clouds, please see\r\n",
        "            cloudmesh.yaml\r\n",
        "\r\n",
        "            options: --force. By default, existing cloud in\r\n",
        "                     database cannot be overwirtten, the --force\r\n",
        "                     allows overwriting the database values.\r\n",
        "\r\n",
        "        cloud remove [CLOUD|--all]\r\n",
        "            remove a cloud from the database, The default cloud is\r\n",
        "            used if CLOUD is not specified.\r\n",
        "            This command should be used with caution. It is also\r\n",
        "            possible to remove all clouds with the option --all\r\n",
        "\r\n",
        "        cloud default [CLOUD|--all]\r\n",
        "\r\n",
        "            TODO\r\n",
        "\r\n",
        "        cloud set flavor [CLOUD] [--flavor=flavorName|--flavorid=flavorID]\r\n",
        "\r\n",
        "            sets the default flavor for a cloud. If the cloud is\r\n",
        "            not specified, it used the default cloud.\r\n",
        "\r\n",
        "        cloud set image [CLOUD] [--image=imageName|--imageid=imageID]\r\n",
        "\r\n",
        "            sets the default flavor for a cloud. If the cloud is\r\n",
        "            not specified, it used the default cloud.\r\n",
        "\r\n",
        "        cloud set default [CLOUD]\r\n",
        "            sets the default cloud for a cloud. If the cloud is\r\n",
        "            not specified, it asks for the cloud interactively\r\n",
        "\r\n",
        "::\r\n",
        "\r\n",
        "    Usage:\r\n",
        "        cloud [list] [--column=COLUMN] [--format=FORMAT]\r\n",
        "        cloud info [CLOUD|--all] [--format=FORMAT]\r\n",
        "        cloud alias NAME [CLOUD]\r\n",
        "        cloud select [CLOUD]\r\n",
        "        cloud on [CLOUD]\r\n",
        "        cloud off [CLOUD]\r\n",
        "        cloud add <cloudYAMLfile> [--force]\r\n",
        "        cloud remove [CLOUD|--all]\r\n",
        "        cloud default [CLOUD|--all]\r\n",
        "        cloud set flavor [CLOUD] [--flavor=flavorName|--flavorid=flavorID]\r\n",
        "        cloud set image [CLOUD] [--image=imageName|--imageid=imageID]\r\n",
        "        cloud set default [CLOUD]\r\n",
        "\r\n",
        "    Arguments:\r\n",
        "\r\n",
        "      CLOUD                  the name of a cloud\r\n",
        "      <cloudYAMLfile>        a yaml file (with full file path) containing\r\n",
        "                             cloud information\r\n",
        "      NAME                   name for a cloud\r\n",
        "\r\n",
        "    Options:\r\n",
        "\r\n",
        "       --column=COLUMN       specify what information to display in\r\n",
        "                             the columns of the list command. For\r\n",
        "                             example, --column=active,label prints the\r\n",
        "                             columns active and label. Available\r\n",
        "                             columns are active, label, host,\r\n",
        "                             type/version, type, heading, user,\r\n",
        "                             credentials, defaults (all to diplay all,\r\n",
        "                             semiall to display all except credentials\r\n",
        "                             and defaults)\r\n",
        "\r\n",
        "       --format=FORMAT       output format: table, json, csv\r\n",
        "\r\n",
        "       --all                 display all available columns\r\n",
        "\r\n",
        "       --force               if same cloud exists in database, it will be\r\n",
        "                             overwritten\r\n",
        "\r\n",
        "       --flavor=flavorName   provide flavor name\r\n",
        "\r\n",
        "       --flavorid=flavorID   provide flavor id\r\n",
        "\r\n",
        "       --image=imageName     provide image name\r\n",
        "\r\n",
        "       --imageid=imageID     provide image id\r\n",
        "\r\n",
        "    Description:\r\n",
        "\r\n",
        "        The cloud command allows easy management of clouds in the\r\n",
        "        command shell. The following subcommands exist:\r\n",
        "\r\n",
        "        cloud [list] [--column=COLUMN] [--json|--table]\r\n",
        "            lists the stored clouds, optionally, specify columns for more\r\n",
        "            cloud information. For example, --column=active,label\r\n",
        "\r\n",
        "        cloud info [CLOUD|--all] [--json|--table]\r\n",
        "            provides the available information about the cloud in dict\r\n",
        "            format\r\n",
        "            options: specify CLOUD to display it, --all to display all,\r\n",
        "                     otherwise selected cloud will be used\r\n",
        "\r\n",
        "        cloud alias NAME [CLOUD]\r\n",
        "            sets a new name for a cloud\r\n",
        "            options: CLOUD is the original label of the cloud, if\r\n",
        "                     it is not specified the default cloud is used.\r\n",
        "\r\n",
        "\r\n",
        "        cloud select [CLOUD]\r\n",
        "            selects a cloud to work with from a list of clouds.If CLOUD is\r\n",
        "            is specified the default cloud will be set to that value.\r\n",
        "\r\n",
        "        cloud on [CLOUD]\r\n",
        "        cloud off [CLOUD]\r\n",
        "            activates or deactivates a cloud. if CLOUD is not\r\n",
        "            given, the default cloud will be used.\r\n",
        "\r\n",
        "\r\n",
        "        cloud add <cloudYAMLfile> [--force]\r\n",
        "            adds the cloud information to database that is\r\n",
        "            specified in the <cloudYAMLfile>. This file is a yaml. You\r\n",
        "            need to specify the full path. Inside the yaml, a\r\n",
        "            cloud is specified as follows:\r\n",
        "\r\n",
        "            cloudmesh:\r\n",
        "               clouds:\r\n",
        "                 cloud1: ...\r\n",
        "                 cloud2: ...\r\n",
        "\r\n",
        "            For examples on how to specify the clouds, please see\r\n",
        "            cloudmesh.yaml\r\n",
        "\r\n",
        "            options: --force. By default, existing cloud in\r\n",
        "                     database cannot be overwirtten, the --force\r\n",
        "                     allows overwriting the database values.\r\n",
        "\r\n",
        "        cloud remove [CLOUD|--all]\r\n",
        "            remove a cloud from the database, The default cloud is\r\n",
        "            used if CLOUD is not specified.\r\n",
        "            This command should be used with caution. It is also\r\n",
        "            possible to remove all clouds with the option --all\r\n",
        "\r\n",
        "        cloud default [CLOUD|--all]\r\n",
        "\r\n",
        "            TODO\r\n",
        "\r\n",
        "        cloud set flavor [CLOUD] [--flavor=flavorName|--flavorid=flavorID]\r\n",
        "\r\n",
        "            sets the default flavor for a cloud. If the cloud is\r\n",
        "            not specified, it used the default cloud.\r\n",
        "\r\n",
        "        cloud set image [CLOUD] [--image=imageName|--imageid=imageID]\r\n",
        "\r\n",
        "            sets the default flavor for a cloud. If the cloud is\r\n",
        "            not specified, it used the default cloud.\r\n",
        "\r\n",
        "        cloud set default [CLOUD]\r\n",
        "            sets the default cloud for a cloud. If the cloud is\r\n",
        "            not specified, it asks for the cloud interactively\r\n",
        "\r\n",
        "\r\n"
       ]
      }
     ],
     "prompt_number": 19
>>>>>>> 7324bb18380f5336e3caf80634cdf7be39b56d50
    },
    {
     "cell_type": "heading",
     "level": 2,
     "metadata": {},
     "source": [
      "Refreshing VM status"
     ]
    },
    {
     "cell_type": "markdown",
     "metadata": {},
     "source": [
      "After you have started or deleted VMs, you may want to check clouds' VMs status. To refresh cloud india's VMs information"
     ]
    },
    {
     "cell_type": "code",
     "collapsed": false,
     "input": [
      "cm \"list vm india --refresh\""
     ],
     "language": "python",
     "metadata": {},
     "outputs": [
      {
       "output_type": "stream",
       "stream": "stdout",
       "text": [
        "* india\r\n",
        "Refreshing gvonlasz servers india ->\r\n"
       ]
      },
      {
       "output_type": "stream",
       "stream": "stdout",
       "text": [
        "Refresh time: 0.355957984924\r\n",
        "Store time: 0.00385594367981\r\n"
       ]
      },
      {
       "output_type": "stream",
       "stream": "stdout",
       "text": [
        "* india\r\n",
        "Refreshing gvonlasz servers india ->\r\n"
       ]
      },
      {
       "output_type": "stream",
       "stream": "stdout",
       "text": [
        "Refresh time: 0.28297495842\r\n",
        "Store time: 0.00341296195984\r\n",
        "+--------------+----------+----------------------------+--------------------------------------+-----------+-------------------------+-----------+----------------------------+--------------------+----------------------+\r\n",
        "| name         | status   | addresses                  | id                                   | flavor    | image                   | user_id   | metadata                   | key_name           | created              |\r\n",
        "+==============+==========+============================+======================================+===========+=========================+===========+============================+====================+======================+\r\n",
        "| gvonlasz_6   | ACTIVE   | 10.39.1.77                 | 64be48c2-ebfb-477f-abbc-0c9e2ca56658 | m1.small  | futuregrid/ubuntu-14.04 | gvonlasz  | {u'cm_owner': u'gvonlasz'} | gvonlasz_flat-key  | 2014-09-26T01:59:44Z |\r\n",
        "+--------------+----------+----------------------------+--------------------------------------+-----------+-------------------------+-----------+----------------------------+--------------------+----------------------+\r\n",
        "| gvonlasz_7   | ACTIVE   | 10.39.1.78                 | c8c03939-b525-42b8-98a3-efbc4d4b484a | m1.small  | futuregrid/ubuntu-14.04 | gvonlasz  | {u'cm_owner': u'gvonlasz'} | gvonlasz_flat-key  | 2014-09-26T01:59:49Z |\r\n",
        "+--------------+----------+----------------------------+--------------------------------------+-----------+-------------------------+-----------+----------------------------+--------------------+----------------------+\r\n",
        "| gvonlasz_8   | BUILD    |                            | 450e1600-5c16-4a67-9efe-212770f879ad | m1.medium | futuregrid/ubuntu-12.04 | gvonlasz  | {u'cm_owner': u'gvonlasz'} | gvonlasz_flat-key  | 2014-09-26T01:59:55Z |\r\n",
        "+--------------+----------+----------------------------+--------------------------------------+-----------+-------------------------+-----------+----------------------------+--------------------+----------------------+\r\n",
        "| gvonlasz_4   | ACTIVE   | 10.39.1.75                 | 58982c2a-9b5b-4bb3-b8c8-c862d29da8b8 | m1.small  | futuregrid/ubuntu-14.04 | gvonlasz  | {u'cm_owner': u'gvonlasz'} | gvonlasz_flat-key  | 2014-09-26T01:57:10Z |\r\n",
        "+--------------+----------+----------------------------+--------------------------------------+-----------+-------------------------+-----------+----------------------------+--------------------+----------------------+\r\n",
        "| gvonlasz_3   | ACTIVE   | 10.39.1.74                 | f7d98e4a-4c4a-4bd0-9544-9c92f151d95b | m1.small  | futuregrid/ubuntu-14.04 | gvonlasz  | {u'cm_owner': u'gvonlasz'} | gvonlasz_flat-key  | 2014-09-26T01:57:01Z |\r\n",
        "+--------------+----------+----------------------------+--------------------------------------+-----------+-------------------------+-----------+----------------------------+--------------------+----------------------+\r\n",
        "| gvonlasz_1   | ACTIVE   | 10.39.1.61                 | df2ac8ea-8d9c-4623-85c0-6c138b5fb9bc | m1.small  | futuregrid/ubuntu-14.04 | gvonlasz  | {u'cm_owner': u'gvonlasz'} | gvonlasz_flat-key  | 2014-09-26T00:10:43Z |\r\n",
        "+--------------+----------+----------------------------+--------------------------------------+-----------+-------------------------+-----------+----------------------------+--------------------+----------------------+\r\n",
        "| gvonlasz_5   | ACTIVE   | 10.39.1.76                 | bfe1f753-7abf-4c0c-8dd8-96c92651b105 | m1.medium | futuregrid/ubuntu-12.04 | gvonlasz  | {u'cm_owner': u'gvonlasz'} | gvonlasz_flat-key  | 2014-09-26T01:57:20Z |\r\n",
        "+--------------+----------+----------------------------+--------------------------------------+-----------+-------------------------+-----------+----------------------------+--------------------+----------------------+\r\n",
        "| gvonlasz_2   | ACTIVE   | 10.39.1.69                 | adbc0f79-4098-446c-be73-c43bb4ff7c1c | m1.small  | futuregrid/ubuntu-14.04 | gvonlasz  | {u'cm_owner': u'gvonlasz'} | gvonlasz_flat-key  | 2014-09-26T01:37:32Z |\r\n",
        "+--------------+----------+----------------------------+--------------------------------------+-----------+-------------------------+-----------+----------------------------+--------------------+----------------------+\r\n",
        "| gvonlasz-001 | ACTIVE   | 10.39.1.22, 149.165.159.24 | a7b1d029-df06-4003-a251-e45550c7dde4 | m1.small  | futuregrid/ubuntu-14.04 | gvonlasz  | {}                         | gvonlasz-india-key | 2014-09-23T18:49:50Z |\r\n",
        "+--------------+----------+----------------------------+--------------------------------------+-----------+-------------------------+-----------+----------------------------+--------------------+----------------------+\r\n"
       ]
      }
     ],
     "prompt_number": 20
    },
    {
     "cell_type": "heading",
     "level": 2,
     "metadata": {},
     "source": [
      "Starting multiple VMs"
     ]
    },
    {
     "cell_type": "markdown",
     "metadata": {},
     "source": [
      "Sometimes we want to start more than one VM at the same time, we can choose the option --count=int where int is the number of VMs you want to start. For example, to start 3 VMs on india"
     ]
    },
    {
     "cell_type": "code",
     "collapsed": false,
     "input": [
      "cm \"vm start --cloud=india --count=5\""
     ],
     "language": "python",
     "metadata": {},
<<<<<<< HEAD
     "outputs": [],
     "prompt_number": 25
=======
     "outputs": [
      {
       "output_type": "stream",
       "stream": "stdout",
       "text": [
        "* india\r\n",
        "Refreshing gvonlasz servers india ->\r\n"
       ]
      },
      {
       "output_type": "stream",
       "stream": "stdout",
       "text": [
        "Refresh time: 0.353671073914\r\n",
        "Store time: 0.00467491149902\r\n"
       ]
      },
      {
       "output_type": "stream",
       "stream": "stdout",
       "text": [
        "\r\n",
        "# ######################################################################\r\n",
        "# Starting vm->gvonlasz_9 on cloud->india using image->futuregrid/ubuntu-14.04, flavor->m1.small, key->gvonlasz_flat-key\r\n",
        "# ######################################################################\r\n"
       ]
      },
      {
       "output_type": "stream",
       "stream": "stdout",
       "text": [
        "job status: PENDING\r\n",
        "\r\n",
        "# ######################################################################\r\n",
        "# Starting vm->gvonlasz_10 on cloud->india using image->futuregrid/ubuntu-14.04, flavor->m1.small, key->gvonlasz_flat-key\r\n",
        "# ######################################################################\r\n"
       ]
      },
      {
       "output_type": "stream",
       "stream": "stdout",
       "text": [
        "job status: PENDING\r\n",
        "\r\n",
        "# ######################################################################\r\n",
        "# Starting vm->gvonlasz_11 on cloud->india using image->futuregrid/ubuntu-14.04, flavor->m1.small, key->gvonlasz_flat-key\r\n",
        "# ######################################################################\r\n"
       ]
      },
      {
       "output_type": "stream",
       "stream": "stdout",
       "text": [
        "job status: PENDING\r\n",
        "\r\n",
        "# ######################################################################\r\n",
        "# Starting vm->gvonlasz_12 on cloud->india using image->futuregrid/ubuntu-14.04, flavor->m1.small, key->gvonlasz_flat-key\r\n",
        "# ######################################################################\r\n"
       ]
      },
      {
       "output_type": "stream",
       "stream": "stdout",
       "text": [
        "job status: PENDING\r\n",
        "\r\n",
        "# ######################################################################\r\n",
        "# Starting vm->gvonlasz_13 on cloud->india using image->futuregrid/ubuntu-14.04, flavor->m1.small, key->gvonlasz_flat-key\r\n",
        "# ######################################################################\r\n"
       ]
      },
      {
       "output_type": "stream",
       "stream": "stdout",
       "text": [
        "job status: PENDING\r\n"
       ]
      }
     ],
     "prompt_number": 21
>>>>>>> 7324bb18380f5336e3caf80634cdf7be39b56d50
    },
    {
     "cell_type": "heading",
     "level": 2,
     "metadata": {},
     "source": [
      "Deleting VMs "
     ]
    },
    {
     "cell_type": "markdown",
     "metadata": {},
     "source": [
      "To delete one VM is easy, what if we want to delete 1000 VMs, we need a more convenient way to do it. Cloudmesh shell provides several methods to find the VMs and delete them, you may think there are two phases of VM deletion, searching and deleting. Here are some examples:"
     ]
    },
    {
     "cell_type": "code",
     "collapsed": false,
     "input": [
      "%echo \"$username\" "
     ],
     "language": "python",
     "metadata": {},
     "outputs": [],
     "prompt_number": 22
    },
    {
     "cell_type": "markdown",
     "metadata": {},
     "source": [
      "to delete all VMs of cloud india"
     ]
    },
    {
     "cell_type": "markdown",
     "metadata": {},
     "source": [
      "`cm \"vm delete --cloud=india --force\"`"
     ]
    },
    {
     "cell_type": "markdown",
     "metadata": {},
     "source": [
      "Note here we use the option \"--force\", without it the shell will give you a list of VMs to delete and ask for your confirmation."
     ]
    },
    {
     "cell_type": "markdown",
     "metadata": {},
     "source": [
      "to delete a VM by giving its name (you may always provide a cloud unless you have specified a default cloud or have selected a cloud)"
     ]
    },
    {
     "cell_type": "markdown",
     "metadata": {},
     "source": [
      "`cm \"vm delete --cloud=india sample_vm --force\"`"
     ]
    },
    {
     "cell_type": "markdown",
     "metadata": {},
     "source": [
      "to delete a VM by group"
     ]
    },
    {
     "cell_type": "markdown",
     "metadata": {},
     "source": [
      "`cm \"vm delete --cloud=india --goup=testgroup --force\"`"
     ]
    },
    {
     "cell_type": "markdown",
     "metadata": {},
     "source": [
      "We can also narrow the search result by giving more search conditions. For example, to delete VMs of cloud india that they are also in the group 'testgroup' and they have the prefix name 'abc' and their indices' range is no greater than 100"
     ]
    },
    {
     "cell_type": "markdown",
     "metadata": {},
     "source": [
      "`cm \"vm delete --cloud=india --goup=testgroup --prefix=sample --range=,100 --force\"`"
     ]
    },
    {
     "cell_type": "heading",
     "level": 2,
     "metadata": {},
     "source": [
      "Login to a VM"
     ]
    },
    {
     "cell_type": "markdown",
     "metadata": {},
     "source": [
      "To login to a VM, you need to assign a public id to the VM you started, for example, assign a public ip to a VM named test_1 on cloud india:"
     ]
    },
    {
     "cell_type": "markdown",
     "metadata": {},
     "source": [
      "`cm \"vm ip test_1 --cloud=india\"`"
     ]
    },
    {
     "cell_type": "markdown",
     "metadata": {},
     "source": [
      "Then you can login to this VM by(note here you need to provide the login name for your VM, it varys depend on the image you use while you start the VM, e.g. for ubuntu, you may type --ln=ubuntu):"
     ]
    },
    {
     "cell_type": "markdown",
     "metadata": {},
     "source": [
      "`cm \"vm login test_1 --ln=ubuntu --cloud=india\"`"
     ]
    },
    {
     "cell_type": "markdown",
     "metadata": {},
     "source": [
      "If you just want to run some commands and get the return on the VM, you may add the commands at the end following '--'(e.g. ls -a)"
     ]
    },
    {
     "cell_type": "markdown",
     "metadata": {},
     "source": [
      "`cm \"vm login test_1 --ln=ubuntu --cloud=india -- ls -a\"`"
     ]
    },
    {
     "cell_type": "markdown",
     "metadata": {},
     "source": [
      "For more details for command vm"
     ]
    },
    {
     "cell_type": "markdown",
     "metadata": {},
     "source": [
      "`cm \"vm -h\"`"
     ]
    },
    {
     "cell_type": "heading",
     "level": 2,
     "metadata": {},
     "source": [
      "Vitual Machine Name"
     ]
    },
    {
     "cell_type": "markdown",
     "metadata": {},
     "source": [
      "In Cloudmesh, the default name of VM consists of your username and a number, for example, alex_1. `label` command allows you to manage or modify the VM name as you wish."
     ]
    },
    {
     "cell_type": "code",
     "collapsed": false,
     "input": [
      "cm label"
     ],
     "language": "python",
     "metadata": {},
     "outputs": []
    },
    {
     "cell_type": "markdown",
     "metadata": {},
     "source": [
      "`cm \"label --prefix=gregor --id=40\"`"
     ]
    },
    {
     "cell_type": "markdown",
     "metadata": {},
     "source": [
      "If the user doesn\u2019t provide a name while starting VMs, cloudmesh will generate labels for them. The default form to name VMs is prefix_index, where prefix is a string and index is an non-negative integer. If a index is used, the index value will be automatically added by one waiting to be used for next VM. To check your current prefix and index"
     ]
    }
   ],
   "metadata": {}
  }
 ]
}