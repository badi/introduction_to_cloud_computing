{
 "metadata": {
  "name": "",
  "signature": "sha256:099415f17dcc6e08d563db064e070846e81570c5b1e53b8a0190577511c9b8f4"
 },
 "nbformat": 3,
 "nbformat_minor": 0,
 "worksheets": [
  {
   "cells": [
    {
     "cell_type": "heading",
     "level": 1,
     "metadata": {},
     "source": [
      "CM Console for VM Management"
     ]
    },
    {
     "cell_type": "heading",
     "level": 2,
     "metadata": {},
     "source": [
      "Initialization (Preparing on IPython)"
     ]
    },
    {
     "cell_type": "markdown",
     "metadata": {},
     "source": [
      "With the alias command we simply define a new command with the name cm that we can call directly from IPython. Here we make sure that the parameters are between \"\" so that they are properly set. Just execute the following line"
     ]
    },
    {
     "cell_type": "code",
     "collapsed": false,
     "input": [
      "alias cm cm %s"
     ],
     "language": "python",
     "metadata": {},
     "outputs": [],
     "prompt_number": 1
    },
    {
     "cell_type": "code",
     "collapsed": false,
     "input": [
      "cm help"
     ],
     "language": "python",
     "metadata": {},
     "outputs": []
    },
    {
     "cell_type": "heading",
     "level": 2,
     "metadata": {},
     "source": [
      "Activating Clouds"
     ]
    },
    {
     "cell_type": "markdown",
     "metadata": {},
     "source": [
      "In order for cloudmesh to work with multiple clouds, we need to find out first which clouds are available. Users can add their own clouds later which we describe in the registration section. \n",
      "\n",
      "Let us inspect which clouds are available by invoking the list command."
     ]
    },
    {
     "cell_type": "markdown",
     "metadata": {},
     "source": [
      "As you see we have a number of clouds, but none of them is already active. Thus we need to first activate a cloud. \n",
      "We assume that you have an account on FutureGrid. Let us activate the cloud india"
     ]
    },
    {
     "cell_type": "code",
     "collapsed": false,
     "input": [
      "cm cloud list"
     ],
     "language": "python",
     "metadata": {},
     "outputs": [
      {
       "output_type": "stream",
       "stream": "stdout",
       "text": [
        "+-------------------+--------+\r\n",
        "| cloud             | active |\r\n",
        "+-------------------+--------+\r\n",
        "| alamo             | True   |\r\n",
        "| aws               |        |\r\n",
        "| azure             |        |\r\n",
        "| dreamhost         |        |\r\n",
        "| hp                |        |\r\n",
        "| hp_east           |        |\r\n",
        "| india             | True   |\r\n",
        "| india_eucalyptus  |        |\r\n",
        "| sierra            | True   |\r\n",
        "| sierra_eucalyptus |        |\r\n",
        "+-------------------+--------+\r\n"
       ]
      }
     ],
     "prompt_number": 2
    },
    {
     "cell_type": "code",
     "collapsed": false,
     "input": [
      "cm cloud on india"
     ],
     "language": "python",
     "metadata": {},
     "outputs": []
    },
    {
     "cell_type": "markdown",
     "metadata": {},
     "source": [
      "We also have a conveniet interactive command to select a cloud to work with, that however does not work with ipython\n",
      "        \n",
      "    \"cloud select\"\n",
      "    \n",
      "or you may also input \"cloud select india\" to select a specific cloud india."
     ]
    },
    {
     "cell_type": "markdown",
     "metadata": {},
     "source": [
      "To check if the cloud was activated, simply use the list command again."
     ]
    },
    {
     "cell_type": "code",
     "collapsed": false,
     "input": [
      "cm cloud list"
     ],
     "language": "python",
     "metadata": {},
     "outputs": []
    },
    {
     "cell_type": "heading",
     "level": 2,
     "metadata": {},
     "source": [
      "Start a VM"
     ]
    },
    {
     "cell_type": "markdown",
     "metadata": {},
     "source": [
      "Now let us see how to start a VM on a cloud, here is how to start a VM on cloud india."
     ]
    },
    {
     "cell_type": "code",
     "collapsed": false,
     "input": [
      "cm \"vm start --cloud=india --image=futuregrid/ubuntu-14.04 --flavor=m1.small\""
     ],
     "language": "python",
     "metadata": {},
     "outputs": []
    },
    {
     "cell_type": "markdown",
     "metadata": {},
     "source": [
      "You may don\u2019t know what images or flavors are available on the cloud, or you don\u2019t want to type a long command every time you start a VM, things can get a lot easier by performing some setting up."
     ]
    },
    {
     "cell_type": "heading",
     "level": 2,
     "metadata": {},
     "source": [
      "Set a default flavor or image"
     ]
    },
    {
     "cell_type": "markdown",
     "metadata": {},
     "source": [
      "Each cloud must have a default image and a default flavor to launch vm instances in a simple step. The `cloud set` command provides a way to set default values for an image or a flavor."
     ]
    },
    {
     "cell_type": "code",
     "collapsed": false,
     "input": [
      "cm \"cloud set flavor india --flavor=m1.small\""
     ],
     "language": "python",
     "metadata": {},
     "outputs": []
    },
    {
     "cell_type": "code",
     "collapsed": false,
     "input": [
      "cm \"cloud set image india --image=futuregrid/ubuntu-14.04\""
     ],
     "language": "python",
     "metadata": {},
     "outputs": []
    },
    {
     "cell_type": "heading",
     "level": 2,
     "metadata": {},
     "source": [
      "Get Flavors or Images"
     ]
    },
    {
     "cell_type": "markdown",
     "metadata": {},
     "source": [
      "Available flavors can be listed with the following command."
     ]
    },
    {
     "cell_type": "code",
     "collapsed": false,
     "input": [
      "cm list flavor india"
     ],
     "language": "python",
     "metadata": {},
     "outputs": [
      {
       "output_type": "stream",
       "stream": "stdout",
       "text": [
        "+------+-----------+---------+-------+--------+----------------------+\r\n",
        "|   id | name      |   vcpus |   ram |   disk | refresh time         |\r\n",
        "+======+===========+=========+=======+========+======================+\r\n",
        "|    1 | m1.tiny   |       1 |   512 |      0 | 2014-09-15T01-09-56Z |\r\n",
        "+------+-----------+---------+-------+--------+----------------------+\r\n",
        "|    3 | m1.medium |       2 |  4096 |     40 | 2014-09-15T01-09-56Z |\r\n",
        "+------+-----------+---------+-------+--------+----------------------+\r\n",
        "|    2 | m1.small  |       1 |  2048 |     20 | 2014-09-15T01-09-56Z |\r\n",
        "+------+-----------+---------+-------+--------+----------------------+\r\n",
        "|    5 | m1.xlarge |       8 | 16384 |    160 | 2014-09-15T01-09-56Z |\r\n",
        "+------+-----------+---------+-------+--------+----------------------+\r\n",
        "|    4 | m1.large  |       4 |  8192 |     80 | 2014-09-15T01-09-56Z |\r\n",
        "+------+-----------+---------+-------+--------+----------------------+\r\n"
       ]
      }
     ],
     "prompt_number": 4
    },
    {
     "cell_type": "markdown",
     "metadata": {},
     "source": [
      "refresh option updates the data from the IaaS cloud. The cached data in the mongo database will be updated."
     ]
    },
    {
     "cell_type": "code",
     "collapsed": false,
     "input": [
      "cm \"list flavor india --refresh\""
     ],
     "language": "python",
     "metadata": {},
     "outputs": [],
     "prompt_number": 6
    },
    {
     "cell_type": "markdown",
     "metadata": {},
     "source": [
      "The `list image` command provides an available vm images on a selected cloud."
     ]
    },
    {
     "cell_type": "markdown",
     "metadata": {},
     "source": [
      ".. todo:: Hyungro, update this example so it fits better in 80 column, maybe remove the id"
     ]
    },
    {
     "cell_type": "code",
     "collapsed": false,
     "input": [
      "cm \"list image india --column=name,id,updated\""
     ],
     "language": "python",
     "metadata": {},
     "outputs": [
      {
       "output_type": "stream",
       "stream": "stdout",
       "text": [
        "+----------------------------------------------------+--------------------------------------+----------------------+\r\n",
        "| name                                               | id                                   | updated              |\r\n",
        "+====================================================+======================================+======================+\r\n",
        "| salsahpc/cloud-mooc-m1-large-4GB                   | 384ca88c-f674-4d3d-999f-353fc6915608 | 2013-12-27T01:09:19Z |\r\n",
        "+----------------------------------------------------+--------------------------------------+----------------------+\r\n",
        "| CentOS6                                            | ad35042c-d242-4514-bde0-138718b5aa3e | 2014-04-29T05:06:40Z |\r\n",
        "+----------------------------------------------------+--------------------------------------+----------------------+\r\n",
        "| SL64-blank-sparse10gb-C vmdk                       | f480f1e7-38af-4410-bc13-6a1e43bf58ba | 2014-02-05T16:57:37Z |\r\n",
        "+----------------------------------------------------+--------------------------------------+----------------------+\r\n",
        "| fg7/rynge/centos6-v1                               | ac464f65-7175-44df-9e0e-34b1a32f8a2a | 2014-05-01T21:42:25Z |\r\n",
        "+----------------------------------------------------+--------------------------------------+----------------------+\r\n",
        "| futuregrid/centos-6                                | 81b27cb5-4f8b-4583-afd4-1901053f6a28 | 2014-05-27T15:04:30Z |\r\n",
        "+----------------------------------------------------+--------------------------------------+----------------------+\r\n",
        "| DaLiAna-vm2014e-geant4.10.vmdk Jan best            | f4f9821f-881b-433a-97ab-1ad87273c5fc | 2014-03-05T04:22:40Z |\r\n",
        "+----------------------------------------------------+--------------------------------------+----------------------+\r\n",
        "| ubuntu-13.10                                       | cd844b12-f138-414a-8cd5-2c977f0a2379 | 2014-01-29T17:24:08Z |\r\n",
        "+----------------------------------------------------+--------------------------------------+----------------------+\r\n",
        "| futuregrid/ubuntu-14.04                            | ba327564-5969-4309-b3f3-b67764038e66 | 2014-09-12T20:16:05Z |\r\n",
        "+----------------------------------------------------+--------------------------------------+----------------------+\r\n",
        "| fg101/richieriee/my-ubuntu-01                      | 7915f335-d1a9-4380-a9f3-159eb67d721e | 2014-07-24T01:10:37Z |\r\n",
        "+----------------------------------------------------+--------------------------------------+----------------------+\r\n",
        "| sl64-gluex-vm2014e-40gb.vmdk Justin                | f51fc1e4-d495-4376-824b-19000c41abef | 2014-03-13T17:21:09Z |\r\n",
        "+----------------------------------------------------+--------------------------------------+----------------------+\r\n",
        "| futuregrid/fedora-19                               | 6e9322df-fcb2-4ac8-bd02-1d39c6f6919f | 2014-09-12T20:16:22Z |\r\n",
        "+----------------------------------------------------+--------------------------------------+----------------------+\r\n",
        "| fg10/jcharcal/centos6.5_x86_64                     | 28f2ad75-8f42-4079-85e1-3d4fe986317f | 2014-03-12T13:50:20Z |\r\n",
        "+----------------------------------------------------+--------------------------------------+----------------------+\r\n",
        "| balewski/kernel-2.6.32-431.5.1-sl65                | 00e935c3-82a6-499c-9056-6db37d27439b | 2014-03-10T01:56:13Z |\r\n",
        "+----------------------------------------------------+--------------------------------------+----------------------+\r\n",
        "| snapshot 1                                         | adc6b8d0-8fba-47ba-af20-f91cb84334cc | 2014-08-15T09:03:10Z |\r\n",
        "+----------------------------------------------------+--------------------------------------+----------------------+\r\n",
        "| Ubuntu-12.04-blank2.vmdk                           | b49324f8-d2c3-413a-8f8c-83b498e815f6 | 2014-02-05T16:55:28Z |\r\n",
        "+----------------------------------------------------+--------------------------------------+----------------------+\r\n",
        "| balewski/ramdisk-2.6.32-431.5.1-sl65               | 9589cf93-f0e6-45d8-930f-63dd2d9c2f1a | 2014-03-10T01:56:19Z |\r\n",
        "+----------------------------------------------------+--------------------------------------+----------------------+\r\n",
        "| sl6_x64-qemu  french ?bad                          | c9ca9852-dfcb-4ceb-a164-a58c89594551 | 2014-02-01T21:59:26Z |\r\n",
        "+----------------------------------------------------+--------------------------------------+----------------------+\r\n",
        "| balewski/sl6.5-blank-80gb-b works                  | 5cb90f55-c3a1-468b-b60a-0ecd589baf31 | 2014-03-10T15:48:27Z |\r\n",
        "+----------------------------------------------------+--------------------------------------+----------------------+\r\n",
        "| futuregrid/ubuntu-12.04                            | 9cd8cc0d-96cd-44b8-a307-8b574c899ef4 | 2014-09-12T20:16:01Z |\r\n",
        "+----------------------------------------------------+--------------------------------------+----------------------+\r\n",
        "| ndssl-vt/ubuntu-12.04-small                        | b9455041-407b-488b-a3f1-5dce6c480b5a | 2013-12-05T22:02:57Z |\r\n",
        "+----------------------------------------------------+--------------------------------------+----------------------+\r\n",
        "| futuregrid/fedora-20                               | 68a5d085-ea4d-42c4-800f-2017309989ae | 2014-09-12T20:15:43Z |\r\n",
        "+----------------------------------------------------+--------------------------------------+----------------------+\r\n",
        "| SL64-blank-sparse40GB vmdk                         | 882871a5-3157-426a-b7bc-10cca91860f0 | 2014-02-05T16:57:23Z |\r\n",
        "+----------------------------------------------------+--------------------------------------+----------------------+\r\n",
        "| cglmoocs/ipython                                   | 0eff8bfc-e455-429e-9dfb-e16488d410f9 | 2014-01-06T16:18:54Z |\r\n",
        "+----------------------------------------------------+--------------------------------------+----------------------+\r\n",
        "| balewski/daliana-vm2014e2-sl6.5-geant4.10-root5.34 | 64866d96-8a9e-4d7c-983f-90b0bb594310 | 2014-03-10T02:05:55Z |\r\n",
        "+----------------------------------------------------+--------------------------------------+----------------------+\r\n",
        "| DaLiAna-vm2014d-SL64-A.vmdk                        | ff5bb4de-d7e9-4bfb-b42b-cec9ed8d2d08 | 2014-02-03T16:04:12Z |\r\n",
        "+----------------------------------------------------+--------------------------------------+----------------------+\r\n"
       ]
      }
     ],
     "prompt_number": 11
    },
    {
     "cell_type": "heading",
     "level": 2,
     "metadata": {},
     "source": [
      "Quick Start a VM"
     ]
    },
    {
     "cell_type": "markdown",
     "metadata": {},
     "source": [
      "The `vm start` command provides a quick launch of a vm instance in cloudmesh."
     ]
    },
    {
     "cell_type": "code",
     "collapsed": false,
     "input": [
      "cm \"vm start --cloud=india\""
     ],
     "language": "python",
     "metadata": {},
     "outputs": []
    },
    {
     "cell_type": "heading",
     "level": 2,
     "metadata": {},
     "source": [
      "Delete a VM"
     ]
    },
    {
     "cell_type": "markdown",
     "metadata": {},
     "source": [
      "If you know the id of the virtual machine that you want to destroy, *delete* command in cloudmesh simply terminate the instance."
     ]
    },
    {
     "cell_type": "code",
     "collapsed": false,
     "input": [
      "cm \"vm delete [NAME] --cloud=india\""
     ],
     "language": "python",
     "metadata": {},
     "outputs": []
    },
    {
     "cell_type": "heading",
     "level": 2,
     "metadata": {},
     "source": [
      "More options to launch a VM instance"
     ]
    },
    {
     "cell_type": "markdown",
     "metadata": {},
     "source": [
      "When you create a new VM instance, you can also choose multiple options such as a flavor, an image associated with the instance. The `vm start` command accepts optional parameters as a user input of these options. To see a brief description of the command, try `cm \"vm --help\"` in the IPython Notebook cell.\n",
      "\n",
      "Available options are:\n",
      "\n",
      "* --`cloud=<CloudName>    :` give a cloud to work on, if not given, selected or default cloud will be used\n",
      "* --`count=<count>        :` give the number of servers to start\n",
      "* --`flavor=<flavorName>  :` give the name of the flavor\n",
      "* --`flavorid=<flavorId>  :` give the id of the flavor\n",
      "* --`group=<group>        :` give the group name of server\n",
      "* --`image=<imgName>      :` give the name of the image\n",
      "* --`imageid=<imgId>      :` give the id of the image"
     ]
    },
    {
     "cell_type": "code",
     "collapsed": false,
     "input": [
      "cm \"vm start --cloud=india --flavor=m1.medium --image=futuregrid/ubuntu-12.04\""
     ],
     "language": "python",
     "metadata": {},
     "outputs": []
    },
    {
     "cell_type": "heading",
     "level": 2,
     "metadata": {},
     "source": [
      "Vitual Machine Name"
     ]
    },
    {
     "cell_type": "markdown",
     "metadata": {},
     "source": [
      "In Cloudmesh, the default name of VM consists of your username and a number, for example, alex_1. `label` command allows you to manage or modify the VM name as you wish."
     ]
    },
    {
     "cell_type": "code",
     "collapsed": false,
     "input": [
      "cm label"
     ],
     "language": "python",
     "metadata": {},
     "outputs": [
      {
       "output_type": "stream",
       "stream": "stdout",
       "text": [
        "prefix:  brian\r\n",
        "index:  32\r\n",
        "next VM name: brian_32\r\n"
       ]
      }
     ],
     "prompt_number": 17
    },
    {
     "cell_type": "code",
     "collapsed": false,
     "input": [
      "cm \"label --prefix=Alex --id=40\""
     ],
     "language": "python",
     "metadata": {},
     "outputs": [],
     "prompt_number": 19
    },
    {
     "cell_type": "code",
     "collapsed": false,
     "input": [
      "cm label"
     ],
     "language": "python",
     "metadata": {},
     "outputs": [
      {
       "output_type": "stream",
       "stream": "stdout",
       "text": [
        "prefix:  Alex\r\n",
        "index:  40\r\n",
        "next VM name: Alex_40\r\n"
       ]
      }
     ],
     "prompt_number": 20
    },
    {
     "cell_type": "markdown",
     "metadata": {},
     "source": [
      "If the user doesn\u2019t provide a name while starting VMs, cloudmesh will generate labels for them. The default form to name VMs is prefix_index, where prefix is a string and index is an non-negative integer. If a index is used, the index value will be automatically added by one waiting to be used for next VM. To check your current prefix and index"
     ]
    },
    {
     "cell_type": "heading",
     "level": 2,
     "metadata": {},
     "source": [
      "Set default cloud"
     ]
    },
    {
     "cell_type": "markdown",
     "metadata": {},
     "source": [
      "If you want to make things even more convenient, you can set a default cloud or select a cloud to work with so that you don't have to type in a cloud everytime you need to specify a cloud, to set india as default cloud"
     ]
    },
    {
     "cell_type": "code",
     "collapsed": false,
     "input": [
      "cm \"cloud set default india\""
     ],
     "language": "python",
     "metadata": {},
     "outputs": []
    },
    {
     "cell_type": "markdown",
     "metadata": {},
     "source": [
      "to select a cloud"
     ]
    },
    {
     "cell_type": "code",
     "collapsed": false,
     "input": [
      "cm \"cloud select india\""
     ],
     "language": "python",
     "metadata": {},
     "outputs": []
    },
    {
     "cell_type": "markdown",
     "metadata": {},
     "source": [
      "You can see a selected cloud as a temporarily default cloud to work with."
     ]
    },
    {
     "cell_type": "markdown",
     "metadata": {},
     "source": [
      "For more details of using command cloud to set up a cloud"
     ]
    },
    {
     "cell_type": "code",
     "collapsed": false,
     "input": [
      "cm \"cloud -h\""
     ],
     "language": "python",
     "metadata": {},
     "outputs": []
    },
    {
     "cell_type": "heading",
     "level": 2,
     "metadata": {},
     "source": [
      "Refreshing VM status"
     ]
    },
    {
     "cell_type": "markdown",
     "metadata": {},
     "source": [
      "After you have started or deleted VMs, you may want to check clouds' VMs status. To refresh cloud india's VMs information"
     ]
    },
    {
     "cell_type": "code",
     "collapsed": false,
     "input": [
      "cm \"list vm india --refresh\""
     ],
     "language": "python",
     "metadata": {},
     "outputs": []
    },
    {
     "cell_type": "heading",
     "level": 2,
     "metadata": {},
     "source": [
      "Starting multiple VMs"
     ]
    },
    {
     "cell_type": "markdown",
     "metadata": {},
     "source": [
      "Sometimes we want to start more than one VM at the same time, we can choose the option --count=int where int is the number of VMs you want to start. For example, to start 5 VMs on india"
     ]
    },
    {
     "cell_type": "code",
     "collapsed": false,
     "input": [
      "cm \"vm start --cloud=india --count=5\""
     ],
     "language": "python",
     "metadata": {},
     "outputs": []
    },
    {
     "cell_type": "heading",
     "level": 2,
     "metadata": {},
     "source": [
      "Deleting VMs "
     ]
    },
    {
     "cell_type": "markdown",
     "metadata": {},
     "source": [
      "To delete one VM is easy, what if we want to delete 1000 VMs, we need a more convenient way to do it. Cloudmesh shell provides several methods to find the VMs and delete them, you may think there are two phases of VM deletion, searching and deleting. Here are some examples:"
     ]
    },
    {
     "cell_type": "markdown",
     "metadata": {},
     "source": [
      "to delete all VMs of cloud india"
     ]
    },
    {
     "cell_type": "code",
     "collapsed": false,
     "input": [
      "cm \"vm delete --cloud=india --force\""
     ],
     "language": "python",
     "metadata": {},
     "outputs": []
    },
    {
     "cell_type": "markdown",
     "metadata": {},
     "source": [
      "Note here we use the option \"--force\", without it the shell will give you a list of VMs to delete and ask for your confirmation."
     ]
    },
    {
     "cell_type": "markdown",
     "metadata": {},
     "source": [
      "to delete a VM by giving its name (you may always provide a cloud unless you have specified a default cloud or have selected a cloud)"
     ]
    },
    {
     "cell_type": "code",
     "collapsed": false,
     "input": [
      "cm \"vm delete --cloud=india Brain_2 --force\""
     ],
     "language": "python",
     "metadata": {},
     "outputs": []
    },
    {
     "cell_type": "markdown",
     "metadata": {},
     "source": [
      "to delete a VM by group"
     ]
    },
    {
     "cell_type": "code",
     "collapsed": false,
     "input": [
      "cm \"vm delete --cloud=india --goup=testgroup --force\""
     ],
     "language": "python",
     "metadata": {},
     "outputs": []
    },
    {
     "cell_type": "markdown",
     "metadata": {},
     "source": [
      "We can also narrow the search result by giving more search conditions. For example, to delete VMs of cloud india that they are also in the group 'testgroup' and they have the prefix name 'abc' and their indices' range is no greater than 100"
     ]
    },
    {
     "cell_type": "code",
     "collapsed": false,
     "input": [
      "cm \"vm delete --cloud=india --goup=testgroup --prefix=abc --range=,100 --force\""
     ],
     "language": "python",
     "metadata": {},
     "outputs": []
    },
    {
     "cell_type": "markdown",
     "metadata": {},
     "source": [
      "For more details for command vm"
     ]
    },
    {
     "cell_type": "code",
     "collapsed": false,
     "input": [
      "cm \"vm -h\""
     ],
     "language": "python",
     "metadata": {},
     "outputs": []
    },
    {
     "cell_type": "markdown",
     "metadata": {},
     "source": [
      ".. todo:: Hyungro, add an example where you first set the default cloud and than use `vm delete Brain_2`  "
     ]
    },
    {
     "cell_type": "code",
     "collapsed": false,
     "input": [],
     "language": "python",
     "metadata": {},
     "outputs": []
    }
   ],
   "metadata": {}
  }
 ]
}