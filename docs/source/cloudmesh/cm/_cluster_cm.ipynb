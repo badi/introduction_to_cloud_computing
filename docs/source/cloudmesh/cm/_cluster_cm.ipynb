{
 "metadata": {
  "name": "",
  "signature": "sha256:5734f649ab9a6a3c4c23a0ede3bfd1bcc64fb4938cc441e3e9b83345b0dedee0"
 },
 "nbformat": 3,
 "nbformat_minor": 0,
 "worksheets": [
  {
   "cells": [
    {
     "cell_type": "heading",
     "level": 1,
     "metadata": {},
     "source": [
      "Create a Cluster"
     ]
    },
    {
     "cell_type": "code",
     "collapsed": false,
     "input": [
      "alias cm cm %s"
     ],
     "language": "python",
     "metadata": {},
     "outputs": []
    },
    {
     "cell_type": "markdown",
     "metadata": {},
     "source": [
      "Use command cluster to start a cluster of VMs, and each of them can log into all others. please refer to:"
     ]
    },
    {
     "cell_type": "code",
     "collapsed": false,
     "input": [
      "cm \"cluster\" "
     ],
     "language": "python",
     "metadata": {},
     "outputs": []
    },
    {
     "cell_type": "markdown",
     "metadata": {},
     "source": [
      "Before start a cluster, please make sure you do the following settings with Cloudmesh CLI: "
     ]
    },
    {
     "cell_type": "markdown",
     "metadata": {},
     "source": [
      "1 select cloud to work on, e.g. "
     ]
    },
    {
     "cell_type": "code",
     "collapsed": false,
     "input": [
      "cm \"cloud select india\""
     ],
     "language": "python",
     "metadata": {},
     "outputs": []
    },
    {
     "cell_type": "markdown",
     "metadata": {},
     "source": [
      "2 activate the cloud, e.g. "
     ]
    },
    {
     "cell_type": "code",
     "collapsed": false,
     "input": [
      "cm \"cloud on india\""
     ],
     "language": "python",
     "metadata": {},
     "outputs": []
    },
    {
     "cell_type": "markdown",
     "metadata": {},
     "source": [
      "3 set the default key to start VMs, e.g. "
     ]
    },
    {
     "cell_type": "code",
     "collapsed": false,
     "input": [
      "cm \"key default test-key\""
     ],
     "language": "python",
     "metadata": {},
     "outputs": []
    },
    {
     "cell_type": "markdown",
     "metadata": {},
     "source": [
      "4 set the start name of VMs, which is prefix and index, e.g. label --prefix=test --id=1"
     ]
    },
    {
     "cell_type": "code",
     "collapsed": false,
     "input": [
      "cm \"label --prefix=test --id=1\""
     ],
     "language": "python",
     "metadata": {},
     "outputs": []
    },
    {
     "cell_type": "markdown",
     "metadata": {},
     "source": [
      "5 set image of VMs, e.g. "
     ]
    },
    {
     "cell_type": "code",
     "collapsed": false,
     "input": [
      "cm \"default image --name=futuregrid/ubuntu-14.04\""
     ],
     "language": "python",
     "metadata": {},
     "outputs": []
    },
    {
     "cell_type": "markdown",
     "metadata": {},
     "source": [
      "6 set flavor of VMs, e.g. "
     ]
    },
    {
     "cell_type": "code",
     "collapsed": false,
     "input": [
      "cm \"default flavor --name=m1.small\""
     ],
     "language": "python",
     "metadata": {},
     "outputs": []
    },
    {
     "cell_type": "markdown",
     "metadata": {},
     "source": [
      "Then you may start the cluster with command 'cluster create' by providing the following values:\n",
      "\n",
      "--count           \n",
      "    specify amount of VMs in the cluster\n",
      "\n",
      "--group           \n",
      "    specify a group name of the cluster, make sure it's UNIQUE\n",
      "\n",
      "--ln          \n",
      "    login name for VMs, e.g. ubuntu\n",
      "\n",
      "for example:"
     ]
    },
    {
     "cell_type": "code",
     "collapsed": false,
     "input": [
      "cm \"cluster create --count=3 --group=test --ln=ubuntu\""
     ],
     "language": "python",
     "metadata": {},
     "outputs": []
    },
    {
     "cell_type": "markdown",
     "metadata": {},
     "source": [
      "You may also provide cloud name, flavor or image in the command if you don't want to pre-set them. For example:"
     ]
    },
    {
     "cell_type": "markdown",
     "metadata": {},
     "source": [
      "cm \"cluster create --count=3 --group=test0 --ln=ubuntu --cloud=india --flavor=m1.small --image=futuregrid/ubuntu-14.04\")"
     ]
    },
    {
     "cell_type": "markdown",
     "metadata": {},
     "source": [
      "command cluster is still under development, at this point, if you want to list the VMs of the cluster you just created, you may use the following command:"
     ]
    },
    {
     "cell_type": "code",
     "collapsed": false,
     "input": [
      "cm \"vm list --refresh --group=test\""
     ],
     "language": "python",
     "metadata": {},
     "outputs": []
    }
   ],
   "metadata": {}
  }
 ]
}