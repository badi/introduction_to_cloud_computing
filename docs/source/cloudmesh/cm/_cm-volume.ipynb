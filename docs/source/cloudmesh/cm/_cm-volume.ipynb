{
 "metadata": {
  "name": "",
  "signature": "sha256:36af1f979fa3ee7664a5d4a249397f3aaffa2f72759fba4792b9df4ed8829158"
 },
 "nbformat": 3,
 "nbformat_minor": 0,
 "worksheets": [
  {
   "cells": [
    {
     "cell_type": "heading",
     "level": 1,
     "metadata": {},
     "source": [
      "volume command in Cloudmesh cm"
     ]
    },
    {
     "cell_type": "markdown",
     "metadata": {},
     "source": [
      "Cloudmesh provides a wrapper command for volume management on openstack clouds. "
     ]
    },
    {
     "cell_type": "markdown",
     "metadata": {},
     "source": [
      "Note: Currently, it only works for openstack clouds."
     ]
    },
    {
     "cell_type": "markdown",
     "metadata": {},
     "source": [
      "Note: ! is used to run cm command in ipython notebook."
     ]
    },
    {
     "cell_type": "markdown",
     "metadata": {},
     "source": [
      "Before using the volume command make sure to load the configurations by choosing a cloud using nova command, e.g.:"
     ]
    },
    {
     "cell_type": "code",
     "collapsed": false,
     "input": [
      "!cm nova set india"
     ],
     "language": "python",
     "metadata": {},
     "outputs": []
    },
    {
     "cell_type": "markdown",
     "metadata": {},
     "source": [
      "for more detailed descriptions:"
     ]
    },
    {
     "cell_type": "code",
     "collapsed": false,
     "input": [
      "!cm volume help"
     ],
     "language": "python",
     "metadata": {},
     "outputs": []
    }
   ],
   "metadata": {}
  }
 ]
}