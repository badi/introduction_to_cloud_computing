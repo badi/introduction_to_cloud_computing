{
 "metadata": {
  "name": "",
  "signature": "sha256:6b5e7a735b33b19659156ac52d6b712d075aecc0a206067d31714ab432a87e30"
 },
 "nbformat": 3,
 "nbformat_minor": 0,
 "worksheets": [
  {
   "cells": [
    {
     "cell_type": "heading",
     "level": 1,
     "metadata": {},
     "source": [
      "`project` Command in Cloudmesh `cm`"
     ]
    },
    {
     "cell_type": "markdown",
     "metadata": {},
     "source": [
      "The `project` command provides a list of default, active, or completed project fo a given user. You can update the project information with this command."
     ]
    },
    {
     "cell_type": "markdown",
     "metadata": {},
     "source": [
      "..note:: that all your `project` command executions update your yaml file (cloudmesh.yaml) and mongo db (user, defaults) both."
     ]
    },
    {
     "cell_type": "heading",
     "level": 3,
     "metadata": {},
     "source": [
      "IPython Alias"
     ]
    },
    {
     "cell_type": "markdown",
     "metadata": {},
     "source": [
      "With the alias command we simply define a new command with the name cm that we can call directly from IPython. Here we make sure that the parameters ar between \"\" so that they are properly set. Just execute the following lines."
     ]
    },
    {
     "cell_type": "code",
     "collapsed": false,
     "input": [
      "alias cm cm %s"
     ],
     "language": "python",
     "metadata": {},
     "outputs": [],
     "prompt_number": 1
    },
    {
     "cell_type": "markdown",
     "metadata": {},
     "source": [
      "We are using now one of the methods to call the cm commands in the following sections."
     ]
    },
    {
     "cell_type": "heading",
     "level": 2,
     "metadata": {},
     "source": [
      "`project info` Command"
     ]
    },
    {
     "cell_type": "markdown",
     "metadata": {},
     "source": [
      "The `project` command has a number of options that are useful to manage a list of projects. The `info` option provides a current information on your account."
     ]
    },
    {
     "cell_type": "code",
     "collapsed": false,
     "input": [
      "cm project info"
     ],
     "language": "python",
     "metadata": {},
     "outputs": [
      {
       "output_type": "stream",
       "stream": "stdout",
       "text": [
        "\r\n",
        "Project Information\r\n",
        "-------------------\r\n",
        "\r\n",
        "   default: fg20\r\n",
        "  projects: fg20, fg82\r\n",
        " completed: fg130\r\n",
        "\r\n"
       ]
      }
     ],
     "prompt_number": 3
    },
    {
     "cell_type": "heading",
     "level": 2,
     "metadata": {},
     "source": [
      "Set a default project"
     ]
    },
    {
     "cell_type": "markdown",
     "metadata": {},
     "source": [
      "`project default [project name]` allows you to update a default project to your account."
     ]
    },
    {
     "cell_type": "code",
     "collapsed": false,
     "input": [
      "cm project default fg82"
     ],
     "language": "python",
     "metadata": {},
     "outputs": [
      {
       "output_type": "stream",
       "stream": "stdout",
       "text": [
        "CM ... site/cloudmesh-1.0-py2.7.egg/cloudmesh_cmd3/plugins/cm_shell_project.pyc:58:   INFO - sets the default project\r\n",
        "CM ... site/cloudmesh-1.0-py2.7.egg/cloudmesh_cmd3/plugins/cm_shell_project.pyc:70:   INFO - fg82 project is a default project now\r\n",
        "fg82 project is a default project now\r\n"
       ]
      }
     ],
     "prompt_number": 4
    },
    {
     "cell_type": "code",
     "collapsed": false,
     "input": [
      "cm project"
     ],
     "language": "python",
     "metadata": {},
     "outputs": [
      {
       "output_type": "stream",
       "stream": "stdout",
       "text": [
        "\r\n",
        "Project Information\r\n",
        "-------------------\r\n",
        "\r\n",
        "   default: fg82\r\n",
        "  projects: fg20, fg82\r\n",
        " completed: fg130\r\n",
        "\r\n"
       ]
      }
     ],
     "prompt_number": 5
    },
    {
     "cell_type": "markdown",
     "metadata": {},
     "source": [
      "You can see your default project has been changed from fg20 to fg82. Note that `cm project` is same command with `cm project info`. `info` option can be suppressed."
     ]
    },
    {
     "cell_type": "heading",
     "level": 2,
     "metadata": {},
     "source": [
      "Set an active project"
     ]
    },
    {
     "cell_type": "markdown",
     "metadata": {},
     "source": [
      "You can add a project to your account as one of the active projects. You can have multiple projects in your active project list."
     ]
    },
    {
     "cell_type": "code",
     "collapsed": false,
     "input": [
      "cm project active fg415"
     ],
     "language": "python",
     "metadata": {},
     "outputs": [
      {
       "output_type": "stream",
       "stream": "stdout",
       "text": [
        "CM ... site/cloudmesh-1.0-py2.7.egg/cloudmesh_cmd3/plugins/cm_shell_project.pyc:75:   INFO - Sets the active project\r\n"
       ]
      },
      {
       "output_type": "stream",
       "stream": "stdout",
       "text": [
        "CM ... site/cloudmesh-1.0-py2.7.egg/cloudmesh_cmd3/plugins/cm_shell_project.pyc:83:   INFO - fg415 project is an active project(s) now\r\n",
        "fg415 project is an active project(s) now\r\n"
       ]
      }
     ],
     "prompt_number": 7
    },
    {
     "cell_type": "code",
     "collapsed": false,
     "input": [
      "cm project info"
     ],
     "language": "python",
     "metadata": {},
     "outputs": [
      {
       "output_type": "stream",
       "stream": "stdout",
       "text": [
        "+-----------+----------------------+\r\n",
        "| Default   | Value                |\r\n",
        "+-----------+----------------------+\r\n",
        "| active    | [u'fg20', u'fg82']   |\r\n",
        "| default   | fg20                 |\r\n",
        "| completed | [u'fg130', u'fg415'] |\r\n",
        "+-----------+----------------------+\r\n"
       ]
      }
     ],
     "prompt_number": 2
    },
    {
     "cell_type": "markdown",
     "metadata": {},
     "source": [
      "You can see the new project `fg415` added to the active projects."
     ]
    },
    {
     "cell_type": "heading",
     "level": 2,
     "metadata": {},
     "source": [
      "Change the status of project to `completed`"
     ]
    },
    {
     "cell_type": "markdown",
     "metadata": {},
     "source": [
      "If your project is completed and no longer needed, you may want to change the status from active to completed. `completed` option allows to change the status of the selected project."
     ]
    },
    {
     "cell_type": "code",
     "collapsed": false,
     "input": [
      "cm project completed fg415"
     ],
     "language": "python",
     "metadata": {},
     "outputs": [
      {
       "output_type": "stream",
       "stream": "stdout",
       "text": [
        "CM ... site/cloudmesh-1.0-py2.7.egg/cloudmesh_cmd3/plugins/cm_shell_project.pyc:115:   INFO - Sets a completed project\r\n",
        "CM ... site/cloudmesh-1.0-py2.7.egg/cloudmesh_cmd3/plugins/cm_shell_project.pyc:126:   INFO - fg415 project is in a completed project(s)\r\n",
        "fg415 project is in a completed project(s)\r\n"
       ]
      }
     ],
     "prompt_number": 10
    },
    {
     "cell_type": "code",
     "collapsed": false,
     "input": [
      "cm project "
     ],
     "language": "python",
     "metadata": {},
     "outputs": [
      {
       "output_type": "stream",
       "stream": "stdout",
       "text": [
        "+-----------+----------------------+\r\n",
        "| Default   | Value                |\r\n",
        "+-----------+----------------------+\r\n",
        "| active    | [u'fg20', u'fg82']   |\r\n",
        "| default   | fg20                 |\r\n",
        "| completed | [u'fg130', u'fg415'] |\r\n",
        "+-----------+----------------------+\r\n"
       ]
      }
     ],
     "prompt_number": 3
    },
    {
     "cell_type": "heading",
     "level": 2,
     "metadata": {},
     "source": [
      "Add a project"
     ]
    },
    {
     "cell_type": "markdown",
     "metadata": {},
     "source": [
      "You can use three commands to add a project. `cm project active` allows you to add a project to the active list. `cm project default` sets a default project. `cm project completed` adds a project to the completed list. For example, you can add fg999 to the active like below."
     ]
    },
    {
     "cell_type": "code",
     "collapsed": false,
     "input": [
      "cm project active fg999"
     ],
     "language": "python",
     "metadata": {},
     "outputs": [
      {
       "output_type": "stream",
       "stream": "stdout",
       "text": [
        "fg999 project is an active project(s) now\r\n"
       ]
      }
     ],
     "prompt_number": 6
    },
    {
     "cell_type": "heading",
     "level": 2,
     "metadata": {},
     "source": [
      "Delete a project"
     ]
    },
    {
     "cell_type": "markdown",
     "metadata": {},
     "source": [
      "`project delete` command simply performs the deletion of the given project in the yaml file."
     ]
    },
    {
     "cell_type": "code",
     "collapsed": false,
     "input": [
      "cm project delete fg999"
     ],
     "language": "python",
     "metadata": {},
     "outputs": [
      {
       "output_type": "stream",
       "stream": "stdout",
       "text": [
        "fg999 project is deleted\r\n"
       ]
      }
     ],
     "prompt_number": 7
    },
    {
     "cell_type": "heading",
     "level": 2,
     "metadata": {},
     "source": [
      "Help message"
     ]
    },
    {
     "cell_type": "code",
     "collapsed": false,
     "input": [
      "cm \"project -h\""
     ],
     "language": "python",
     "metadata": {},
     "outputs": [
      {
       "output_type": "stream",
       "stream": "stdout",
       "text": [
        "Usage:\r\n",
        "       project\r\n",
        "       project info [--format=FORMAT]\r\n",
        "       project default NAME\r\n",
        "       project active NAME\r\n",
        "       project delete NAME\r\n",
        "       project completed NAME\r\n",
        "\r\n",
        "Manages the project\r\n",
        "\r\n",
        "Arguments:\r\n",
        "\r\n",
        "  NAME           The project id\r\n",
        "  FORMAT         The display format. (json, table)\r\n",
        "\r\n",
        "Options:\r\n",
        "\r\n",
        "   -v       verbose mode\r\n",
        "\r\n",
        "Usage:\r\n",
        "       project\r\n",
        "       project info [--format=FORMAT]\r\n",
        "       project default NAME\r\n",
        "       project active NAME\r\n",
        "       project delete NAME\r\n",
        "       project completed NAME\r\n",
        "\r\n",
        "Manages the project\r\n",
        "\r\n",
        "Arguments:\r\n",
        "\r\n",
        "  NAME           The project id\r\n",
        "  FORMAT         The display format. (json, table)\r\n",
        "\r\n",
        "Options:\r\n",
        "\r\n",
        "   -v       verbose mode\r\n",
        "\r\n",
        "\r\n"
       ]
      }
     ],
     "prompt_number": 8
    }
   ],
   "metadata": {}
  }
 ]
}