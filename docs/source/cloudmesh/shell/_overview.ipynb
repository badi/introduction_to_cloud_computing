{
 "metadata": {
  "name": "",
  "signature": "sha256:132236e59c664b49b0cdd9450f89673303b857184e78e58c4d334c32759274a7"
 },
 "nbformat": 3,
 "nbformat_minor": 0,
 "worksheets": [
  {
   "cells": [
    {
     "cell_type": "heading",
     "level": 1,
     "metadata": {},
     "source": [
      "Cloudmesh Shell"
     ]
    },
    {
     "cell_type": "heading",
     "level": 2,
     "metadata": {},
     "source": [
      "Initialization"
     ]
    },
    {
     "cell_type": "code",
     "collapsed": false,
     "input": [
      "import cloudmesh"
     ],
     "language": "python",
     "metadata": {},
     "outputs": [],
     "prompt_number": 2
    },
    {
     "cell_type": "code",
     "collapsed": false,
     "input": [
      "print cloudmesh.shell(\"help\")"
     ],
     "language": "python",
     "metadata": {},
     "outputs": [
      {
       "output_type": "stream",
       "stream": "stdout",
       "text": [
        "\n",
        "Documented commands (type help <topic>):\n",
        "========================================\n",
        "EOF       edit      help       label   plugins  register        user   \n",
        "banner    exec      image      list    project  script          var    \n",
        "clear     exp       info       man     py       security_group  verbose\n",
        "cloud     flavor    init       metric  q        storm           version\n",
        "defaults  graphviz  inventory  open    quit     timer           vm     \n",
        "dot2      group     keys       pause   rain     use             web    \n",
        "\n",
        "Gui Commands\n",
        "============\n",
        "web\n",
        "\n",
        "Cloud Commands\n",
        "==============\n",
        "cloud     group  inventory  rain            storm  keys   \n",
        "defaults  image  list       register        user   project\n",
        "flavor    init   metric     security_group  vm   \n",
        "\n",
        "\n"
       ]
      }
     ],
     "prompt_number": 3
    },
    {
     "cell_type": "heading",
     "level": 2,
     "metadata": {},
     "source": [
      "Activating Clouds"
     ]
    },
    {
     "cell_type": "markdown",
     "metadata": {},
     "source": [
      "In order for cloudmesh to work with multiple coulds, we need to find out first which clouds are available. Users can add their own clouds later which we describe in the registration section. \n",
      "\n",
      "Let us inspect what is already available by invoking the list command"
     ]
    },
    {
     "cell_type": "code",
     "collapsed": false,
     "input": [
      "print cloudmesh.shell(\"cloud list\")"
     ],
     "language": "python",
     "metadata": {},
     "outputs": [
      {
       "output_type": "stream",
       "stream": "stdout",
       "text": [
        "+---------+----------+\n",
        "| cloud   | active   |\n",
        "+=========+==========+\n",
        "| alamo   |          |\n",
        "+---------+----------+\n",
        "| aws     |          |\n",
        "+---------+----------+\n",
        "| azure   |          |\n",
        "+---------+----------+\n",
        "| hp      |          |\n",
        "+---------+----------+\n",
        "| hp_east |          |\n",
        "+---------+----------+\n",
        "| india   | True     |\n",
        "+---------+----------+\n",
        "| sierra  |          |\n",
        "+---------+----------+\n",
        "\n"
       ]
      }
     ],
     "prompt_number": 4
    },
    {
     "cell_type": "markdown",
     "metadata": {},
     "source": [
      "As you see we have a number of clouds, but none of them is already active. Thus we need to first activate a cloud. \n",
      "We assume that you have an account on FutureGrid. Let us activate the cloud india"
     ]
    },
    {
     "cell_type": "code",
     "collapsed": false,
     "input": [
      "print cloudmesh.shell(\"cloud on india\")"
     ],
     "language": "python",
     "metadata": {},
     "outputs": [
      {
       "output_type": "stream",
       "stream": "stdout",
       "text": [
        "* india\n",
        "Refreshing gvonlasz servers india ->\n",
        "Refresh time: 0.361881971359\n",
        "Store time: 0.00755286216736\n",
        "\u001b[92mcloud 'india' activated.\u001b[0m\n",
        "\n"
       ]
      }
     ],
     "prompt_number": 5
    },
    {
     "cell_type": "markdown",
     "metadata": {},
     "source": [
      "We also have a conveniet interactive selector to select a cloud to work with, that however does not work with ipython\n",
      "        \n",
      "    \"cloud select\"\n",
      "    \n",
      "or you may also input \"cloud select india\" to select a specific cloud india"
     ]
    },
    {
     "cell_type": "markdown",
     "metadata": {},
     "source": [
      "To check if the cloud was activated, simply use the list command again"
     ]
    },
    {
     "cell_type": "code",
     "collapsed": false,
     "input": [
      "print cloudmesh.shell(\"cloud list\")"
     ],
     "language": "python",
     "metadata": {},
     "outputs": [
      {
       "output_type": "stream",
       "stream": "stdout",
       "text": [
        "+---------+----------+\n",
        "| cloud   | active   |\n",
        "+=========+==========+\n",
        "| alamo   |          |\n",
        "+---------+----------+\n",
        "| aws     |          |\n",
        "+---------+----------+\n",
        "| azure   |          |\n",
        "+---------+----------+\n",
        "| hp      |          |\n",
        "+---------+----------+\n",
        "| hp_east |          |\n",
        "+---------+----------+\n",
        "| india   | True     |\n",
        "+---------+----------+\n",
        "| sierra  |          |\n",
        "+---------+----------+\n",
        "\n"
       ]
      }
     ],
     "prompt_number": 6
    },
    {
     "cell_type": "heading",
     "level": 2,
     "metadata": {},
     "source": [
      "Starting VMs"
     ]
    },
    {
     "cell_type": "markdown",
     "metadata": {},
     "source": [
      "Now let us see how to start VMs on a cloud, here is how to start a VM on cloud india"
     ]
    },
    {
     "cell_type": "code",
     "collapsed": false,
     "input": [
      "print cloudmesh.shell(\"vm start --cloud=india --image=futuregrid/ubuntu-14.04 --flavor=m1.small\")"
     ],
     "language": "python",
     "metadata": {},
     "outputs": [
      {
       "output_type": "stream",
       "stream": "stdout",
       "text": [
        "* india\n",
        "Refreshing gvonlasz servers india ->\n",
        "Refresh time: 0.340050935745\n",
        "Store time: 0.00301289558411\n",
        "* india\n",
        "Refreshing gvonlasz flavors india ->\n",
        "Refresh time: 0.149047136307\n",
        "Store time: 0.0033278465271\n",
        "Refreshing gvonlasz images india ->\n",
        "Refresh time: 0.72811293602\n",
        "Store time: 0.0171279907227\n",
        "\n",
        "# ######################################################################\n",
        "# Starting vm->gvonlasz_1 on cloud->india using image->m1.small, flavor->futuregrid/ubuntu-14.04, key->gvonlasz_fg_pro\n",
        "# ######################################################################\n",
        "job status: PENDING\n",
        "to check realtime vm status: list vm --refresh\n",
        "\n"
       ]
      }
     ],
     "prompt_number": 7
    },
    {
     "cell_type": "markdown",
     "metadata": {},
     "source": [
      "You may don't know what images or flavors are available on the cloud, or you don't want to type a long command every time you start a VM, things can get a lot easier by performing some setting up..."
     ]
    },
    {
     "cell_type": "heading",
     "level": 3,
     "metadata": {},
     "source": [
      "set default image"
     ]
    },
    {
     "cell_type": "markdown",
     "metadata": {},
     "source": [
      "You can invoke command \"cloud set image india\" to set a image interactively, however this does not work with ipython. Then we can use the following commands to get a list of images first and set default image by giving its image name or image id"
     ]
    },
    {
     "cell_type": "code",
     "collapsed": false,
     "input": [
      "print cloudmesh.shell(\"list image india --refresh\")"
     ],
     "language": "python",
     "metadata": {},
     "outputs": [
      {
       "output_type": "stream",
       "stream": "stdout",
       "text": [
        "* india\n",
        "Refreshing gvonlasz servers india ->\n",
        "Refresh time: 0.343580961227\n",
        "Store time: 0.00261402130127\n",
        "* india\n",
        "Refreshing gvonlasz images india ->\n",
        "Refresh time: 0.954330921173\n",
        "Store time: 0.0129129886627\n",
        "+---------------------+\n",
        "images of cloud 'india'\n",
        "+----------------------------------------------------+----------+--------------------------------------+-----------+----------+------------+-----------+----------------------+-------------+-------+---------+\n",
        "| name                                               | status   | id                                   |   type_id | iname    | location   | state     | updated              |   memory_mb |   fid |   vcpus |\n",
        "+====================================================+==========+======================================+===========+==========+============+===========+======================+=============+=======+=========+\n",
        "| futuregrid/fedora-19                               | ACTIVE   | 5bf9905b-3314-4b83-8609-d94a3b4c89a8 |           |          |            |           | 2014-08-21T18:47:00Z |             |       |         |\n",
        "+----------------------------------------------------+----------+--------------------------------------+-----------+----------+------------+-----------+----------------------+-------------+-------+---------+\n",
        "| salsahpc/cloud-mooc-m1-large-4GB                   | ACTIVE   | 384ca88c-f674-4d3d-999f-353fc6915608 |         3 | m1.large | snapshot   | available | 2013-12-27T01:09:19Z |        8192 |     4 |       4 |\n",
        "+----------------------------------------------------+----------+--------------------------------------+-----------+----------+------------+-----------+----------------------+-------------+-------+---------+\n",
        "| CentOS6                                            | ACTIVE   | ad35042c-d242-4514-bde0-138718b5aa3e |           |          |            |           | 2014-04-29T05:06:40Z |             |       |         |\n",
        "+----------------------------------------------------+----------+--------------------------------------+-----------+----------+------------+-----------+----------------------+-------------+-------+---------+\n",
        "| SL64-blank-sparse10gb-C vmdk                       | ACTIVE   | f480f1e7-38af-4410-bc13-6a1e43bf58ba |           |          |            |           | 2014-02-05T16:57:37Z |             |       |         |\n",
        "+----------------------------------------------------+----------+--------------------------------------+-----------+----------+------------+-----------+----------------------+-------------+-------+---------+\n",
        "| fg7/rynge/centos6-v1                               | ACTIVE   | ac464f65-7175-44df-9e0e-34b1a32f8a2a |           |          |            |           | 2014-05-01T21:42:25Z |             |       |         |\n",
        "+----------------------------------------------------+----------+--------------------------------------+-----------+----------+------------+-----------+----------------------+-------------+-------+---------+\n",
        "| futuregrid/centos-6                                | ACTIVE   | 81b27cb5-4f8b-4583-afd4-1901053f6a28 |           |          |            |           | 2014-05-27T15:04:30Z |             |       |         |\n",
        "+----------------------------------------------------+----------+--------------------------------------+-----------+----------+------------+-----------+----------------------+-------------+-------+---------+\n",
        "| DaLiAna-vm2014e-geant4.10.vmdk Jan best            | ACTIVE   | f4f9821f-881b-433a-97ab-1ad87273c5fc |           |          |            |           | 2014-03-05T04:22:40Z |             |       |         |\n",
        "+----------------------------------------------------+----------+--------------------------------------+-----------+----------+------------+-----------+----------------------+-------------+-------+---------+\n",
        "| ubuntu-13.10                                       | ACTIVE   | cd844b12-f138-414a-8cd5-2c977f0a2379 |           |          |            |           | 2014-01-29T17:24:08Z |             |       |         |\n",
        "+----------------------------------------------------+----------+--------------------------------------+-----------+----------+------------+-----------+----------------------+-------------+-------+---------+\n",
        "| fg101/richieriee/my-ubuntu-01                      | ACTIVE   | 7915f335-d1a9-4380-a9f3-159eb67d721e |         5 | m1.small | snapshot   | available | 2014-07-24T01:10:37Z |        2048 |     2 |       1 |\n",
        "+----------------------------------------------------+----------+--------------------------------------+-----------+----------+------------+-----------+----------------------+-------------+-------+---------+\n",
        "| sl64-gluex-vm2014e-40gb.vmdk Justin                | ACTIVE   | f51fc1e4-d495-4376-824b-19000c41abef |           |          |            |           | 2014-03-13T17:21:09Z |             |       |         |\n",
        "+----------------------------------------------------+----------+--------------------------------------+-----------+----------+------------+-----------+----------------------+-------------+-------+---------+\n",
        "| fg10/jcharcal/centos6.5_x86_64                     | ACTIVE   | 28f2ad75-8f42-4079-85e1-3d4fe986317f |           |          |            |           | 2014-03-12T13:50:20Z |             |       |         |\n",
        "+----------------------------------------------------+----------+--------------------------------------+-----------+----------+------------+-----------+----------------------+-------------+-------+---------+\n",
        "| balewski/kernel-2.6.32-431.5.1-sl65                | ACTIVE   | 00e935c3-82a6-499c-9056-6db37d27439b |           |          |            |           | 2014-03-10T01:56:13Z |             |       |         |\n",
        "+----------------------------------------------------+----------+--------------------------------------+-----------+----------+------------+-----------+----------------------+-------------+-------+---------+\n",
        "| SL64-blank-sparse40GB vmdk                         | ACTIVE   | 882871a5-3157-426a-b7bc-10cca91860f0 |           |          |            |           | 2014-02-05T16:57:23Z |             |       |         |\n",
        "+----------------------------------------------------+----------+--------------------------------------+-----------+----------+------------+-----------+----------------------+-------------+-------+---------+\n",
        "| futuregrid/fedora-20                               | ACTIVE   | 928b52df-06cf-46b6-a6a6-af25a6a14776 |           |          |            |           | 2014-08-21T18:49:23Z |             |       |         |\n",
        "+----------------------------------------------------+----------+--------------------------------------+-----------+----------+------------+-----------+----------------------+-------------+-------+---------+\n",
        "| futuregrid/ubuntu-12.04                            | ACTIVE   | 9e1765c7-f554-4a10-a8e5-e2d3bf75904b |           |          |            |           | 2014-08-21T18:47:25Z |             |       |         |\n",
        "+----------------------------------------------------+----------+--------------------------------------+-----------+----------+------------+-----------+----------------------+-------------+-------+---------+\n",
        "| Ubuntu-12.04-blank2.vmdk                           | ACTIVE   | b49324f8-d2c3-413a-8f8c-83b498e815f6 |           |          |            |           | 2014-02-05T16:55:28Z |             |       |         |\n",
        "+----------------------------------------------------+----------+--------------------------------------+-----------+----------+------------+-----------+----------------------+-------------+-------+---------+\n",
        "| balewski/ramdisk-2.6.32-431.5.1-sl65               | ACTIVE   | 9589cf93-f0e6-45d8-930f-63dd2d9c2f1a |           |          |            |           | 2014-03-10T01:56:19Z |             |       |         |\n",
        "+----------------------------------------------------+----------+--------------------------------------+-----------+----------+------------+-----------+----------------------+-------------+-------+---------+\n",
        "| sl6_x64-qemu  french ?bad                          | ACTIVE   | c9ca9852-dfcb-4ceb-a164-a58c89594551 |           |          |            |           | 2014-02-01T21:59:26Z |             |       |         |\n",
        "+----------------------------------------------------+----------+--------------------------------------+-----------+----------+------------+-----------+----------------------+-------------+-------+---------+\n",
        "| balewski/sl6.5-blank-80gb-b works                  | ACTIVE   | 5cb90f55-c3a1-468b-b60a-0ecd589baf31 |           |          |            |           | 2014-03-10T15:48:27Z |             |       |         |\n",
        "+----------------------------------------------------+----------+--------------------------------------+-----------+----------+------------+-----------+----------------------+-------------+-------+---------+\n",
        "| grp17Cent                                          | ACTIVE   | 3fcf5075-f8e4-44db-b963-183de5a17c33 |           |          |            |           | 2014-04-10T23:19:30Z |             |       |         |\n",
        "+----------------------------------------------------+----------+--------------------------------------+-----------+----------+------------+-----------+----------------------+-------------+-------+---------+\n",
        "| futuregrid/ubuntu-14.04                            | ACTIVE   | 02cf1545-dd83-493a-986e-583d53ee3728 |           |          |            |           | 2014-08-21T18:47:14Z |             |       |         |\n",
        "+----------------------------------------------------+----------+--------------------------------------+-----------+----------+------------+-----------+----------------------+-------------+-------+---------+\n",
        "| ndssl-vt/ubuntu-12.04-small                        | ACTIVE   | b9455041-407b-488b-a3f1-5dce6c480b5a |         3 | m1.large | snapshot   | available | 2013-12-05T22:02:57Z |        8192 |     4 |       4 |\n",
        "+----------------------------------------------------+----------+--------------------------------------+-----------+----------+------------+-----------+----------------------+-------------+-------+---------+\n",
        "| cglmoocs/ipython                                   | ACTIVE   | 0eff8bfc-e455-429e-9dfb-e16488d410f9 |           |          |            |           | 2014-01-06T16:18:54Z |             |       |         |\n",
        "+----------------------------------------------------+----------+--------------------------------------+-----------+----------+------------+-----------+----------------------+-------------+-------+---------+\n",
        "| balewski/daliana-vm2014e2-sl6.5-geant4.10-root5.34 | ACTIVE   | 64866d96-8a9e-4d7c-983f-90b0bb594310 |           |          |            |           | 2014-03-10T02:05:55Z |             |       |         |\n",
        "+----------------------------------------------------+----------+--------------------------------------+-----------+----------+------------+-----------+----------------------+-------------+-------+---------+\n",
        "| DaLiAna-vm2014d-SL64-A.vmdk                        | ACTIVE   | ff5bb4de-d7e9-4bfb-b42b-cec9ed8d2d08 |           |          |            |           | 2014-02-03T16:04:12Z |             |       |         |\n",
        "+----------------------------------------------------+----------+--------------------------------------+-----------+----------+------------+-----------+----------------------+-------------+-------+---------+\n",
        "count: 25\n",
        "+-------+\n",
        "\n"
       ]
      }
     ],
     "prompt_number": 8
    },
    {
     "cell_type": "code",
     "collapsed": false,
     "input": [
      "print cloudmesh.shell(\"cloud set image india --image=futuregrid/ubuntu-14.04\")"
     ],
     "language": "python",
     "metadata": {},
     "outputs": [
      {
       "output_type": "stream",
       "stream": "stdout",
       "text": [
        "* india\n",
        "Refreshing gvonlasz servers india ->\n",
        "Refresh time: 0.328827857971\n",
        "Store time: 0.00358605384827\n",
        "* india\n",
        "Refreshing gvonlasz images india ->\n",
        "Refresh time: 0.438119888306\n",
        "Store time: 0.0100111961365\n",
        "\u001b[92m'futuregrid/ubuntu-14.04' is selected\u001b[0m\n",
        "\n"
       ]
      }
     ],
     "prompt_number": 9
    },
    {
     "cell_type": "heading",
     "level": 3,
     "metadata": {},
     "source": [
      "set default flavor"
     ]
    },
    {
     "cell_type": "markdown",
     "metadata": {},
     "source": [
      "Similar as setting default image, to set up default flavor interactively, \"cloud set flavor india\", otherwise you may get a list of flavors then set by giving flavor name or flavor id"
     ]
    },
    {
     "cell_type": "code",
     "collapsed": false,
     "input": [
      "print cloudmesh.shell(\"list flavor india --refresh\")"
     ],
     "language": "python",
     "metadata": {},
     "outputs": [
      {
       "output_type": "stream",
       "stream": "stdout",
       "text": [
        "* india\n",
        "Refreshing gvonlasz servers india ->\n",
        "Refresh time: 0.349723100662\n",
        "Store time: 0.00250005722046\n",
        "* india\n",
        "Refreshing gvonlasz flavors india ->\n",
        "Refresh time: 0.157089948654\n",
        "Store time: 0.00244212150574\n",
        "+----------------------+\n",
        "flavors of cloud 'india'\n",
        "+------+-----------+---------+-------+--------+----------------------+\n",
        "|   id | name      |   vcpus |   ram |   disk | refresh time         |\n",
        "+======+===========+=========+=======+========+======================+\n",
        "|    1 | m1.tiny   |       1 |   512 |      0 | 2014-08-30T16-08-55Z |\n",
        "+------+-----------+---------+-------+--------+----------------------+\n",
        "|    3 | m1.medium |       2 |  4096 |     40 | 2014-08-30T16-08-55Z |\n",
        "+------+-----------+---------+-------+--------+----------------------+\n",
        "|    2 | m1.small  |       1 |  2048 |     20 | 2014-08-30T16-08-55Z |\n",
        "+------+-----------+---------+-------+--------+----------------------+\n",
        "|    5 | m1.xlarge |       8 | 16384 |    160 | 2014-08-30T16-08-55Z |\n",
        "+------+-----------+---------+-------+--------+----------------------+\n",
        "|    4 | m1.large  |       4 |  8192 |     80 | 2014-08-30T16-08-55Z |\n",
        "+------+-----------+---------+-------+--------+----------------------+\n",
        "count: 5\n",
        "+------+\n",
        "\n"
       ]
      }
     ],
     "prompt_number": 10
    },
    {
     "cell_type": "code",
     "collapsed": false,
     "input": [
      "print cloudmesh.shell(\"cloud set flavor india --flavorid=2\")"
     ],
     "language": "python",
     "metadata": {},
     "outputs": [
      {
       "output_type": "stream",
       "stream": "stdout",
       "text": [
        "* india\n",
        "Refreshing gvonlasz servers india ->\n",
        "Refresh time: 0.300434112549\n",
        "Store time: 0.00324892997742\n",
        "* india\n",
        "Refreshing gvonlasz flavors india ->\n",
        "Refresh time: 0.161976099014\n",
        "Store time: 0.00268888473511\n",
        "\u001b[92m'm1.small' is selected\u001b[0m\n",
        "\n"
       ]
      }
     ]
    },
    {
     "cell_type": "heading",
     "level": 3,
     "metadata": {},
     "source": [
      "set default cloud"
     ]
    },
    {
     "cell_type": "markdown",
     "metadata": {},
     "source": [
      "If you want to make things even more convenient, you can set a default cloud or select a cloud to work with so that you don't have to type in a cloud everytime you need to specify a cloud, to set india as default cloud"
     ]
    },
    {
     "cell_type": "code",
     "collapsed": false,
     "input": [
      "print cloudmesh.shell(\"cloud set default india\")"
     ],
     "language": "python",
     "metadata": {},
     "outputs": []
    },
    {
     "cell_type": "markdown",
     "metadata": {},
     "source": [
      "to select a cloud"
     ]
    },
    {
     "cell_type": "code",
     "collapsed": false,
     "input": [
      "print cloudmesh.shell(\"cloud select india\")"
     ],
     "language": "python",
     "metadata": {},
     "outputs": []
    },
    {
     "cell_type": "markdown",
     "metadata": {},
     "source": [
      "You can see a selected cloud as a temporarily default cloud to work with."
     ]
    },
    {
     "cell_type": "markdown",
     "metadata": {},
     "source": [
      "For more details of using command cloud to set up a cloud"
     ]
    },
    {
     "cell_type": "code",
     "collapsed": false,
     "input": [
      "print cloudmesh.shell(\"cloud -h\")"
     ],
     "language": "python",
     "metadata": {},
     "outputs": []
    },
    {
     "cell_type": "heading",
     "level": 3,
     "metadata": {},
     "source": [
      "simple way to start a VM"
     ]
    },
    {
     "cell_type": "markdown",
     "metadata": {},
     "source": [
      "After all setting up above, now you can start a VM simply by typing in"
     ]
    },
    {
     "cell_type": "code",
     "collapsed": false,
     "input": [
      "print cloudmesh.shell(\"vm start\")"
     ],
     "language": "python",
     "metadata": {},
     "outputs": []
    },
    {
     "cell_type": "heading",
     "level": 3,
     "metadata": {},
     "source": [
      "set default VM name"
     ]
    },
    {
     "cell_type": "markdown",
     "metadata": {},
     "source": [
      "If the user doesn't provide a name while starting VMs, cloudmesh will generate labels for them. The default form to name VMs is prefix_index, where prefix is a string and index is an non-negative integer. If a index is used, the index value will be automatically added by one waiting to be used for next VM. To check your current prefix and index"
     ]
    },
    {
     "cell_type": "code",
     "collapsed": false,
     "input": [
      "print cloudmesh.shell(\"label\")"
     ],
     "language": "python",
     "metadata": {},
     "outputs": []
    },
    {
     "cell_type": "markdown",
     "metadata": {},
     "source": [
      "To change the prefix and/or reset index(e.g. to abc and 3)"
     ]
    },
    {
     "cell_type": "code",
     "collapsed": false,
     "input": [
      "print cloudmesh.shell(\"label --prefix=abc --id=3\")"
     ],
     "language": "python",
     "metadata": {},
     "outputs": []
    },
    {
     "cell_type": "heading",
     "level": 2,
     "metadata": {},
     "source": [
      "Refreshing VM status"
     ]
    },
    {
     "cell_type": "markdown",
     "metadata": {},
     "source": [
      "After you have started or deleted VMs, you may want to check clouds' VMs status. To refresh cloud india's VMs information"
     ]
    },
    {
     "cell_type": "code",
     "collapsed": false,
     "input": [
      "print cloudmesh.shell(\"list vm india --refresh\")"
     ],
     "language": "python",
     "metadata": {},
     "outputs": []
    },
    {
     "cell_type": "heading",
     "level": 2,
     "metadata": {},
     "source": [
      "Starting multiple VMs"
     ]
    },
    {
     "cell_type": "markdown",
     "metadata": {},
     "source": [
      "Sometimes we want to start more than one VM at the same time, we can choose the option --count=int where int is the number of VMs you want to start. For example, to start 5 VMs on india"
     ]
    },
    {
     "cell_type": "code",
     "collapsed": false,
     "input": [
      "print cloudmesh.shell(\"vm start --cloud=india --count=5\")"
     ],
     "language": "python",
     "metadata": {},
     "outputs": []
    },
    {
     "cell_type": "heading",
     "level": 2,
     "metadata": {},
     "source": [
      "Deleting VMs "
     ]
    },
    {
     "cell_type": "markdown",
     "metadata": {},
     "source": [
      "To delete one VM is easy, what if we want to delete 1000 VMs, we need a more convenient way to do it. Cloudmesh shell provides several methods to find the VMs and delete them, you may think there are two phases of VM deletion, searching and deleting. Here are some examples:"
     ]
    },
    {
     "cell_type": "markdown",
     "metadata": {},
     "source": [
      "to delete all VMs of cloud india"
     ]
    },
    {
     "cell_type": "code",
     "collapsed": false,
     "input": [
      "print cloudmesh.shell(\"vm delete --cloud=india --force\")"
     ],
     "language": "python",
     "metadata": {},
     "outputs": []
    },
    {
     "cell_type": "markdown",
     "metadata": {},
     "source": [
      "Note here we use the option \"--force\", without it the shell will give you a list of VMs to delete and ask for your confirmation."
     ]
    },
    {
     "cell_type": "markdown",
     "metadata": {},
     "source": [
      "to delete a VM by giving its name (you may always provide a cloud unless you have specified a default cloud or have selected a cloud)"
     ]
    },
    {
     "cell_type": "code",
     "collapsed": false,
     "input": [
      "print cloudmesh.shell(\"vm delete --cloud=india abc_2 --force\")"
     ],
     "language": "python",
     "metadata": {},
     "outputs": []
    },
    {
     "cell_type": "markdown",
     "metadata": {},
     "source": [
      "to delete a VM by group"
     ]
    },
    {
     "cell_type": "code",
     "collapsed": false,
     "input": [
      "print cloudmesh.shell(\"vm delete --cloud=india --goup=testgroup --force\")"
     ],
     "language": "python",
     "metadata": {},
     "outputs": []
    },
    {
     "cell_type": "markdown",
     "metadata": {},
     "source": [
      "We can also narrow the search result by giving more search conditions. For example, to delete VMs of cloud india that they are also in the group 'testgroup' and they have the prefix name 'abc' and their indices' range is no greater than 100"
     ]
    },
    {
     "cell_type": "code",
     "collapsed": false,
     "input": [
      "print cloudmesh.shell(\"vm delete --cloud=india --goup=testgroup --prefix=abc --range=,100 --force\")"
     ],
     "language": "python",
     "metadata": {},
     "outputs": []
    },
    {
     "cell_type": "markdown",
     "metadata": {},
     "source": [
      "For more details for command vm"
     ]
    },
    {
     "cell_type": "code",
     "collapsed": false,
     "input": [
      "print cloudmesh.shell(\"vm -h\")"
     ],
     "language": "python",
     "metadata": {},
     "outputs": []
    }
   ],
   "metadata": {}
  }
 ]
}