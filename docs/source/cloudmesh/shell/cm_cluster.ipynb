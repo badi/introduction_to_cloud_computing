{
 "metadata": {
  "name": "",
  "signature": "sha256:f3b3b813d9229e416ad52c3e8499e2be23fc001ec97f932663f3de62881454ae"
 },
 "nbformat": 3,
 "nbformat_minor": 0,
 "worksheets": [
  {
   "cells": [
    {
     "cell_type": "heading",
     "level": 1,
     "metadata": {},
     "source": [
      "Create a Cluster"
     ]
    },
    {
     "cell_type": "code",
     "collapsed": false,
     "input": [
      "import cloudmesh"
     ],
     "language": "python",
     "metadata": {},
     "outputs": []
    },
    {
     "cell_type": "markdown",
     "metadata": {},
     "source": [
      "Use command cluster to start a cluster of VMs, and each of them can log into all others. please refer to:"
     ]
    },
    {
     "cell_type": "code",
     "collapsed": false,
     "input": [
      "print cloudmesh.shell(\"cluster\")"
     ],
     "language": "python",
     "metadata": {},
     "outputs": []
    },
    {
     "cell_type": "markdown",
     "metadata": {},
     "source": [
      "Before start a cluster, please make sure you do the following settings with Cloudmesh CLI:\n",
      "1. select cloud to work on, e.g. cloud select india\n",
      "2. activate the cloud, e.g. cloud on india\n",
      "3. set the default key to start VMs, e.g. key default [NAME]\n",
      "4. set the start name of VMs, which is prefix and index, e.g. label --prefix=test --id=1\n",
      "5. set image of VMs, e.g. default image\n",
      "6. set flavor of VMs, e.g. default flavor\n",
      "\n",
      "Then you may start the cluster with command 'cluster create' by providing the following values:\n",
      "\n",
      "--count           \n",
      "    specify amount of VMs in the cluster\n",
      "\n",
      "--group           \n",
      "    specify a group name of the cluster, make sure it's UNIQUE\n",
      "\n",
      "--ln          \n",
      "    login name for VMs, e.g. ubuntu\n",
      "\n",
      "for example:"
     ]
    },
    {
     "cell_type": "code",
     "collapsed": false,
     "input": [
      "print cloudmesh.shell(\"cluster create --count=3 --group=test --ln=ubuntu\")"
     ],
     "language": "python",
     "metadata": {},
     "outputs": []
    },
    {
     "cell_type": "markdown",
     "metadata": {},
     "source": [
      "You may also provide cloud name, flavor or image in the command if you don't want to pre-set them. For example:"
     ]
    },
    {
     "cell_type": "code",
     "collapsed": false,
     "input": [
      "print cloudmesh.shell(\"cluster create --count=3 --group=test0 --ln=ubuntu --cloud=india --flavor=m1.small --image=futuregrid/ubuntu-14.04\")"
     ],
     "language": "python",
     "metadata": {},
     "outputs": []
    }
   ],
   "metadata": {}
  }
 ]
}