{
 "metadata": {
  "name": "",
  "signature": "sha256:c67b32b5b73b9f3e5779cb841a749a7c1c165103c73aabc6383be018519e7189"
 },
 "nbformat": 3,
 "nbformat_minor": 0,
 "worksheets": [
  {
   "cells": [
    {
     "cell_type": "heading",
     "level": 1,
     "metadata": {},
     "source": [
      "Mongo"
     ]
    },
    {
     "cell_type": "markdown",
     "metadata": {},
     "source": [
      "This section is  mostly for developers of cloudmesh. It will introduce you to some methods and classes that you can use to easily interact with the mongo db."
     ]
    },
    {
     "cell_type": "markdown",
     "metadata": {},
     "source": [
      ".. todo:: Fugang. this desction seems empty. can you describe how to interact with mongo. This is for developers"
     ]
    },
    {
     "cell_type": "code",
     "collapsed": false,
     "input": [
      "import cloudmesh"
     ],
     "language": "python",
     "metadata": {},
     "outputs": []
    },
    {
     "cell_type": "code",
     "collapsed": false,
     "input": [
      "from cloudmesh.config.cm_config import cm_config_server"
     ],
     "language": "python",
     "metadata": {},
     "outputs": []
    },
    {
     "cell_type": "code",
     "collapsed": false,
     "input": [],
     "language": "python",
     "metadata": {},
     "outputs": []
    },
    {
     "cell_type": "code",
     "collapsed": false,
     "input": [
      "config = cm_config_server().get(\"cloudmesh.server.mongo\")"
     ],
     "language": "python",
     "metadata": {},
     "outputs": []
    },
    {
     "cell_type": "code",
     "collapsed": false,
     "input": [
      "print config"
     ],
     "language": "python",
     "metadata": {},
     "outputs": []
    },
    {
     "cell_type": "code",
     "collapsed": false,
     "input": [
      "dbname = 'admin'"
     ],
     "language": "python",
     "metadata": {},
     "outputs": []
    },
    {
     "cell_type": "code",
     "collapsed": false,
     "input": [
      "   uri = \"mongodb://{2}:{3}/{4}\".format(cls.DBCONFIG[\"username\"],\n",
      "                                                                 cls.DBCONFIG[\"password\"],\n",
      "                                                                 cls.DBCONFIG[\"host\"],\n",
      "                                                                 cls.DBCONFIG[\"port\"],\n",
      "                                                                 dbname)"
     ],
     "language": "python",
     "metadata": {},
     "outputs": []
    },
    {
     "cell_type": "code",
     "collapsed": false,
     "input": [
      "print uri"
     ],
     "language": "python",
     "metadata": {},
     "outputs": []
    },
    {
     "cell_type": "code",
     "collapsed": false,
     "input": [
      " conn = MongoClient(uri)[dbname]"
     ],
     "language": "python",
     "metadata": {},
     "outputs": []
    }
   ],
   "metadata": {}
  }
 ]
}